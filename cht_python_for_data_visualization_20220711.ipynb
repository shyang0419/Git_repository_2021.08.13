{
  "nbformat": 4,
  "nbformat_minor": 0,
  "metadata": {
    "colab": {
      "name": "cht-python-for-data-visualization-20220711.ipynb",
      "provenance": [],
      "toc_visible": true,
      "include_colab_link": true
    },
    "kernelspec": {
      "name": "python3",
      "display_name": "Python 3"
    },
    "language_info": {
      "name": "python"
    }
  },
  "cells": [
    {
      "cell_type": "markdown",
      "metadata": {
        "id": "view-in-github",
        "colab_type": "text"
      },
      "source": [
        "<a href=\"https://colab.research.google.com/github/shyang0419/Git_repository_2021.08.13/blob/main/cht_python_for_data_visualization_20220711.ipynb\" target=\"_parent\"><img src=\"https://colab.research.google.com/assets/colab-badge.svg\" alt=\"Open In Colab\"/></a>"
      ]
    },
    {
      "cell_type": "markdown",
      "source": [
        "## 2022-07-11\n",
        "\n",
        "講義連結：\n",
        "\n",
        "- [起步走](https://datainpoint.github.io/classroom-cht-python-for-data-visualization/00-getting-started/lecture.slides.html)\n",
        "- [進階的資料框操作](https://datainpoint.github.io/classroom-cht-python-for-data-visualization/01-advanced-dataframe-manipulations/lecture.slides.html)\n",
        "- [資料科學模組 Matplotlib 入門](https://datainpoint.github.io/classroom-cht-python-for-data-visualization/02-matplotlib/lecture.slides.html)"
      ],
      "metadata": {
        "id": "cjE73jaXM9VC"
      }
    },
    {
      "cell_type": "code",
      "source": [
        ""
      ],
      "metadata": {
        "id": "YMuet-0ezfSz"
      },
      "execution_count": null,
      "outputs": []
    },
    {
      "cell_type": "markdown",
      "source": [
        "# CK39HP001 Python資料視覺化專題 第001期\n",
        "\n",
        "郭耀仁 <https://linktr.ee/yaojenkuo>"
      ],
      "metadata": {
        "id": "I3hhoePNMu_l"
      }
    },
    {
      "cell_type": "code",
      "source": [
        ""
      ],
      "metadata": {
        "id": "_ukaiFs9QWSS"
      },
      "execution_count": null,
      "outputs": []
    },
    {
      "cell_type": "markdown",
      "source": [
        "## 2022-07-12\n",
        "\n",
        "講義連結：\n",
        "\n",
        "- [探索性資料分析](https://datainpoint.github.io/classroom-cht-python-for-data-visualization/03-exploration/lecture.slides.html)\n",
        "- [資料科學模組 seaborn 入門](https://datainpoint.github.io/classroom-cht-python-for-data-visualization/04-seaborn/lecture.slides.html)\n",
        "- [Python 進階資料視覺化](https://datainpoint.github.io/classroom-cht-python-for-data-visualization/05-advanced-visualizations/lecture.slides.html)"
      ],
      "metadata": {
        "id": "zb4mNa-KPsfr"
      }
    },
    {
      "cell_type": "code",
      "source": [
        ""
      ],
      "metadata": {
        "id": "BrZCjmDlRFe5"
      },
      "execution_count": null,
      "outputs": []
    }
  ]
}