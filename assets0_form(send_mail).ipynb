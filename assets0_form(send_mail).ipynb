{
 "cells": [
  {
   "cell_type": "code",
   "execution_count": 11,
   "metadata": {},
   "outputs": [
    {
     "data": {
      "text/plain": [
       "(221, b'ms25.cht.com.tw')"
      ]
     },
     "execution_count": 11,
     "metadata": {},
     "output_type": "execute_result"
    }
   ],
   "source": [
    "# 傳送 text 資料，附帶檔案 (此方法對 office outlook 2016 中文不能用)\n",
    "import pandas as pd\n",
    "import numpy as np\n",
    "import smtplib\n",
    "\n",
    "from email.mime.multipart import MIMEMultipart\n",
    "from email.mime.text import MIMEText\n",
    "from email.mime.application import MIMEApplication\n",
    "#\n",
    "fromAddr = \"lanjyh@cht.com.tw\"\n",
    "myPass = \"@@zzxx5413\"\n",
    "toAddr = \"hw2050@cht.com.tw\"\n",
    "#\n",
    "msg = MIMEMultipart()\n",
    "msg['From'] = fromAddr\n",
    "msg['To'] = toAddr\n",
    "msg['Subject'] = \"2021/6/2 嘉義行分個人保管財產清單\"\n",
    "#\n",
    "body = '''\n",
    "各位同仁:大家好\n",
    "\n",
    "本郵件由程式自動發送，不用回信。\n",
    "\n",
    "附件為您所保管的財產資料，預定每月將清查乙次。\n",
    "\n",
    "請各位同仁留意本身所負責保管之財物，並定期更正相關資料。\n",
    "\n",
    "期望財產管理業務能更上軌道運作 !!!\n",
    "\n",
    "\n",
    "藍志祥敬上\n",
    "'''\n",
    "# add text \n",
    "msg.attach(MIMEText(body, 'plain'))\n",
    "\n",
    "# attach a file\n",
    "part = MIMEApplication(open('財產.xlsx','rb').read()) \n",
    "part.add_header('Content-Disposition', 'attachment', filename= \"財產1.xlsx\")\n",
    "msg.attach(part) \n",
    "server = smtplib.SMTP('webmail.cht.com.tw', 25)\n",
    "server.login(fromAddr, myPass)\n",
    "server.send_message(msg)\n",
    "server.quit()"
   ]
  },
  {
   "cell_type": "code",
   "execution_count": 1,
   "metadata": {
    "scrolled": true
   },
   "outputs": [
    {
     "name": "stdout",
     "output_type": "stream",
     "text": [
      "WARNING *** file size (16108770) not 512 + multiple of sector size (512)\n",
      "WARNING *** OLE2 inconsistency: SSCS size is 0 but SSAT size is non-zero\n"
     ]
    }
   ],
   "source": [
    "# 將 property data 與 include mailaddress 送出 (目前使用正確版本)\n",
    "import pandas as pd\n",
    "import numpy as np\n",
    "import smtplib\n",
    "import shutil\n",
    "from email.mime.multipart import MIMEMultipart\n",
    "from email.mime.text import MIMEText\n",
    "from email.mime.application import MIMEApplication\n",
    "\n",
    "def send_to_mail(to_Addr, send_file_name):\n",
    "    fromAddr = \"lanjyh@cht.com.tw\"\n",
    "    myPass = \"@@zzxx5413\"   # input password\n",
    "    toAddr = to_Addr\n",
    "    #\n",
    "    msg = MIMEMultipart()\n",
    "    msg['From'] = fromAddr\n",
    "    msg['To'] = to_Addr\n",
    "    msg['Subject'] = \"2021/07/01 嘉義行分個人保管財產清單\"    # input date\n",
    "    #\n",
    "    body = '''\n",
    "    各位同仁:大家好，此為 110 年 07 月份財產清單\n",
    "\n",
    "    本郵件由程式自動發送，不用回信。\n",
    "\n",
    "    附件為您所保管的財產資料，預定每月將清查乙次。\n",
    "\n",
    "    請各位同仁留意本身所負責保管之財物，並定期更正相關資料。\n",
    "\n",
    "    期望財產管理業務能更上軌道運作 !!!\n",
    "\n",
    "\n",
    "    藍志祥敬上\n",
    "    '''\n",
    "    # add text \n",
    "    msg.attach(MIMEText(body, 'plain'))\n",
    "\n",
    "    # attach a file\n",
    "    part = MIMEApplication(open(send_file_name,'rb').read()) \n",
    "    part.add_header('Content-Disposition', 'attachment', filename=send_file_name) \n",
    "    msg.attach(part) \n",
    "\n",
    "    server = smtplib.SMTP('webmail.cht.com.tw', 25)\n",
    "    server.login(fromAddr, myPass)\n",
    "    server.send_message(msg)\n",
    "    server.quit()\n",
    "#---------------讀取資料檔-----------------\n",
    "# include mailaddress\n",
    "file_name = \"mail_address.csv\"\n",
    "file_path = \"./{}\".format(file_name)\n",
    "csv_df = pd.read_csv(file_path)\n",
    "csv_df = csv_df[csv_df['姓氏'].str.contains(\"2-\")]\n",
    "csv_df = csv_df.dropna(axis=1)\n",
    "csv_df = csv_df.drop(labels = [\"行動電話\", \"生日\", \"性別\", \"紀念日\", \"敏感度\", \"電子郵件類型\",\"電子郵件顯示名稱\", \"優先順序\", \"縮寫\"], axis=1)\n",
    "csv_df['姓氏'] = csv_df['姓氏'].str.replace('2-','').str.replace('工程師','').str.replace('股長','')\n",
    "\n",
    "#---------------讀取資料檔---------------------\n",
    "# include property data\n",
    "file_name = \"form(2021-07-01).xls\"     # input source data\n",
    "file_path = \"./data_property_form/{}\".format(file_name)\n",
    "xls_df = pd.read_excel(file_path)\n",
    "values = {'異動者':'未指配'}\n",
    "xls_df = xls_df.fillna(value=values)\n",
    "xls_df['異動者'] =  xls_df['異動者'].str.strip()\n",
    "\n",
    "# merge two dataframe\n",
    "xls_df = pd.merge(xls_df, csv_df, how='inner', left_on=\"異動者\", right_on=\"姓氏\")\n",
    "owners = list(xls_df['異動者'].unique())\n",
    "owners_address = list(xls_df['電子郵件地址'].unique())\n",
    "xls_df = xls_df.drop(labels = [\"姓氏\", \"電子郵件地址\"], axis=1)\n",
    "\n",
    "# 將所屬資料 mail_out\n",
    "\n",
    "file_names = [\"property({}).xlsx\".format(address) for address in owners_address]\n",
    "file_paths = [\"{}\".format(filename) for filename in file_names]\n",
    "\n",
    "for name, path, mail in zip(owners,file_paths,owners_address):\n",
    "    xls_df[xls_df['異動者'] == name].to_excel(path,sheet_name = 'Sheet1',index=False) \n",
    "    send_to_mail(mail, path)\n",
    "\n",
    "for remove_file in file_names:\n",
    "    source = r'./{}'.format(remove_file)\n",
    "    destination = r'./results(email)/{}'.format(remove_file) \n",
    "    shutil.move(source,destination)"
   ]
  },
  {
   "cell_type": "code",
   "execution_count": null,
   "metadata": {},
   "outputs": [],
   "source": []
  }
 ],
 "metadata": {
  "kernelspec": {
   "display_name": "Python 3",
   "language": "python",
   "name": "python3"
  },
  "language_info": {
   "codemirror_mode": {
    "name": "ipython",
    "version": 3
   },
   "file_extension": ".py",
   "mimetype": "text/x-python",
   "name": "python",
   "nbconvert_exporter": "python",
   "pygments_lexer": "ipython3",
   "version": "3.8.5"
  }
 },
 "nbformat": 4,
 "nbformat_minor": 4
}
