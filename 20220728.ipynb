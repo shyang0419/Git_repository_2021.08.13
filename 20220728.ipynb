{
  "cells": [
    {
      "cell_type": "markdown",
      "metadata": {
        "id": "dMqx7iLdY0bS"
      },
      "source": [
        "# 20220728"
      ]
    },
    {
      "cell_type": "markdown",
      "metadata": {
        "id": "9l1ayjRGY2mQ"
      },
      "source": [
        "## 複習一下\n",
        "\n",
        "四個基礎的資料型態:\n",
        "* int\n",
        "* float\n",
        "* bool\n",
        "* str\n",
        "\n",
        "四個基礎的容器型別：\n",
        "* list\n",
        "* tuple\n",
        "* dict\n",
        "* set\n",
        "\n",
        "四個基礎的語法：\n",
        "* 條件式 (if)\n",
        "  * 選擇性的執行程式區塊\n",
        "* 迴圈 (loops)\n",
        "  * 反覆執行程式區塊\n",
        "* 函式 (functions)\n",
        "  * 先定義好程式區塊，呼叫的時候再執行\n",
        "* 例外處理 (Exception Handling)\n",
        "  * 嘗試執行某個程式區塊，如果發生錯誤，呼叫另外一個程式區塊來處理錯誤"
      ]
    },
    {
      "cell_type": "markdown",
      "metadata": {
        "id": "mSLkrZsQZrk-"
      },
      "source": [
        "## 條件式 (if statements)"
      ]
    },
    {
      "cell_type": "code",
      "execution_count": null,
      "metadata": {
        "id": "6Lq7daxZYo0V"
      },
      "outputs": [],
      "source": [
        "a = 1\n",
        "b = 2\n",
        "\n",
        "if a > b:\n",
        "  print(\"a 大於 b\")"
      ]
    },
    {
      "cell_type": "code",
      "execution_count": null,
      "metadata": {
        "colab": {
          "base_uri": "https://localhost:8080/"
        },
        "id": "poCib7gSbBC5",
        "outputId": "23e17be0-c9ea-44d8-ef29-e1aade19f943"
      },
      "outputs": [
        {
          "name": "stdout",
          "output_type": "stream",
          "text": [
            "a 沒有大於 b\n"
          ]
        }
      ],
      "source": [
        "a = 1\n",
        "b = 2\n",
        "\n",
        "if a > b:\n",
        "  print(\"a 大於 b\")\n",
        "else:\n",
        "  print(\"a 沒有大於 b\")"
      ]
    },
    {
      "cell_type": "code",
      "execution_count": null,
      "metadata": {
        "colab": {
          "base_uri": "https://localhost:8080/"
        },
        "id": "Kn9v_g_fbek2",
        "outputId": "20dc2006-9a67-41d3-ce3e-d24d592865cd"
      },
      "outputs": [
        {
          "name": "stdout",
          "output_type": "stream",
          "text": [
            "a 等於 b\n"
          ]
        }
      ],
      "source": [
        "a = 2\n",
        "b = 2\n",
        "\n",
        "if a > b:\n",
        "  print(\"a 大於 b\")\n",
        "elif a < b: # elif ==> else if\n",
        "  print(\"a 小於 b\")\n",
        "else:\n",
        "  print(\"a 等於 b\")"
      ]
    },
    {
      "cell_type": "markdown",
      "metadata": {
        "id": "pvcBgVCBb86z"
      },
      "source": [
        "### 練習：\n",
        "\n",
        "$ bmi = \\frac{體重(公斤)}{身高(公尺)^2} $\n",
        "\n",
        "|bmi|說明|\n",
        "|:-:|:-:|\n",
        "|bmi < 18 | 過輕|\n",
        "|18 < bmi < 24 | 健康|\n",
        "|bmi > 24 | 過重|"
      ]
    },
    {
      "cell_type": "code",
      "execution_count": null,
      "metadata": {
        "id": "8LAA5YmObjfg"
      },
      "outputs": [],
      "source": [
        "w = 80\n",
        "h = 1.83\n",
        "bmi = w / h**2"
      ]
    },
    {
      "cell_type": "code",
      "execution_count": null,
      "metadata": {
        "colab": {
          "base_uri": "https://localhost:8080/"
        },
        "id": "7UPBeOm2cnRr",
        "outputId": "f3d8e1db-2e46-4476-aab5-c4f8c7c283ea"
      },
      "outputs": [
        {
          "data": {
            "text/plain": [
              "23.888440980620498"
            ]
          },
          "execution_count": 8,
          "metadata": {},
          "output_type": "execute_result"
        }
      ],
      "source": [
        "bmi"
      ]
    },
    {
      "cell_type": "code",
      "execution_count": null,
      "metadata": {
        "colab": {
          "base_uri": "https://localhost:8080/"
        },
        "id": "kHFKZAjlcnoV",
        "outputId": "4aca9eed-699b-4a64-e604-36781e94502b"
      },
      "outputs": [
        {
          "name": "stdout",
          "output_type": "stream",
          "text": [
            "健康\n"
          ]
        }
      ],
      "source": [
        "if bmi < 18:\n",
        "  print(\"過輕\")\n",
        "elif bmi > 24:\n",
        "  print(\"過重\")\n",
        "else:\n",
        "  print(\"健康\")"
      ]
    },
    {
      "cell_type": "code",
      "execution_count": null,
      "metadata": {
        "id": "j-KbNC0AdsFr"
      },
      "outputs": [],
      "source": [
        "def health(w, h):\n",
        "  bmi = w / h**2\n",
        "  if bmi < 18:\n",
        "    print(\"過輕\")\n",
        "  elif bmi > 24:\n",
        "    print(\"過重\")\n",
        "  else:\n",
        "    print(\"健康\")"
      ]
    },
    {
      "cell_type": "code",
      "execution_count": null,
      "metadata": {
        "colab": {
          "base_uri": "https://localhost:8080/"
        },
        "id": "9nIuhMwDeBhO",
        "outputId": "0984a868-904b-4c6f-c62d-bb8f445438a8"
      },
      "outputs": [
        {
          "name": "stdout",
          "output_type": "stream",
          "text": [
            "健康\n"
          ]
        }
      ],
      "source": [
        "health(80, 1.83)"
      ]
    },
    {
      "cell_type": "code",
      "execution_count": null,
      "metadata": {
        "id": "gAELb4OnfIhY"
      },
      "outputs": [],
      "source": [
        "def health(w, h):\n",
        "  bmi = w / h**2\n",
        "  if bmi < 18:\n",
        "    return \"過輕\"\n",
        "  elif bmi > 24:\n",
        "    return \"過重\"\n",
        "  else:\n",
        "    return \"健康\""
      ]
    },
    {
      "cell_type": "code",
      "execution_count": null,
      "metadata": {
        "colab": {
          "base_uri": "https://localhost:8080/",
          "height": 35
        },
        "id": "LCF-iIYMfP6z",
        "outputId": "6ae9add3-3804-4ce0-d9f9-f82c4d867930"
      },
      "outputs": [
        {
          "data": {
            "application/vnd.google.colaboratory.intrinsic+json": {
              "type": "string"
            },
            "text/plain": [
              "'健康'"
            ]
          },
          "execution_count": 17,
          "metadata": {},
          "output_type": "execute_result"
        }
      ],
      "source": [
        "health(80, 1.83)"
      ]
    },
    {
      "cell_type": "code",
      "execution_count": null,
      "metadata": {
        "id": "9tiJrUMFe2Pr"
      },
      "outputs": [],
      "source": [
        "x = health(80, 1.83)"
      ]
    },
    {
      "cell_type": "code",
      "execution_count": null,
      "metadata": {
        "colab": {
          "base_uri": "https://localhost:8080/",
          "height": 35
        },
        "id": "mbQ0-R9yfEdO",
        "outputId": "a0b96fad-489a-4629-f17f-cfb2788c7cf4"
      },
      "outputs": [
        {
          "data": {
            "application/vnd.google.colaboratory.intrinsic+json": {
              "type": "string"
            },
            "text/plain": [
              "'健康'"
            ]
          },
          "execution_count": 19,
          "metadata": {},
          "output_type": "execute_result"
        }
      ],
      "source": [
        "x"
      ]
    },
    {
      "cell_type": "markdown",
      "metadata": {
        "id": "E4wZPf0EfmeO"
      },
      "source": [
        "## 迴圈 (loops)\n",
        "\n",
        "* for\n",
        "* while"
      ]
    },
    {
      "cell_type": "code",
      "execution_count": null,
      "metadata": {
        "colab": {
          "base_uri": "https://localhost:8080/"
        },
        "id": "3JP8ANRxfFB7",
        "outputId": "de684d57-b408-448a-addb-cbacd63b5688"
      },
      "outputs": [
        {
          "name": "stdout",
          "output_type": "stream",
          "text": [
            "0\n",
            "1\n",
            "2\n",
            "3\n",
            "4\n"
          ]
        }
      ],
      "source": [
        "for i in range(5):\n",
        "  print(i)"
      ]
    },
    {
      "cell_type": "code",
      "execution_count": null,
      "metadata": {
        "colab": {
          "base_uri": "https://localhost:8080/"
        },
        "id": "bvESAi4GgFs5",
        "outputId": "ba591ef3-b162-4a6a-f180-a542e1533ce7"
      },
      "outputs": [
        {
          "name": "stdout",
          "output_type": "stream",
          "text": [
            "1\n",
            "3\n",
            "5\n",
            "7\n",
            "9\n"
          ]
        }
      ],
      "source": [
        "for i in range(5):\n",
        "  print(2*i+1)"
      ]
    },
    {
      "cell_type": "code",
      "execution_count": null,
      "metadata": {
        "colab": {
          "base_uri": "https://localhost:8080/",
          "height": 35
        },
        "id": "0vAOpRSaghUZ",
        "outputId": "850488a7-ecbe-4d27-c091-eef0d0977a74"
      },
      "outputs": [
        {
          "data": {
            "application/vnd.google.colaboratory.intrinsic+json": {
              "type": "string"
            },
            "text/plain": [
              "'* *'"
            ]
          },
          "execution_count": 23,
          "metadata": {},
          "output_type": "execute_result"
        }
      ],
      "source": [
        "\"*\" + \" \" + \"*\""
      ]
    },
    {
      "cell_type": "code",
      "execution_count": null,
      "metadata": {
        "colab": {
          "base_uri": "https://localhost:8080/",
          "height": 35
        },
        "id": "xhZSk67cgrGZ",
        "outputId": "215d5fe9-201e-4592-cf1e-2a61a2f5d307"
      },
      "outputs": [
        {
          "data": {
            "application/vnd.google.colaboratory.intrinsic+json": {
              "type": "string"
            },
            "text/plain": [
              "'*****'"
            ]
          },
          "execution_count": 24,
          "metadata": {},
          "output_type": "execute_result"
        }
      ],
      "source": [
        "\"*\" * 5"
      ]
    },
    {
      "cell_type": "code",
      "execution_count": null,
      "metadata": {
        "colab": {
          "base_uri": "https://localhost:8080/"
        },
        "id": "HFU30FEkgvtz",
        "outputId": "fc5fc0b2-4918-4bbf-fd39-f10cacfbeab7"
      },
      "outputs": [
        {
          "name": "stdout",
          "output_type": "stream",
          "text": [
            "*\n",
            "***\n",
            "*****\n",
            "*******\n",
            "*********\n"
          ]
        }
      ],
      "source": [
        "for i in range(5):\n",
        "  print((2*i+1)*\"*\")"
      ]
    },
    {
      "cell_type": "code",
      "execution_count": null,
      "metadata": {
        "colab": {
          "base_uri": "https://localhost:8080/"
        },
        "id": "OLD4THXng0-k",
        "outputId": "3305f50b-fb8e-4460-9b1c-2f4964c4c5c9"
      },
      "outputs": [
        {
          "name": "stdout",
          "output_type": "stream",
          "text": [
            "     *\n",
            "    ***\n",
            "   *****\n",
            "  *******\n",
            " *********\n"
          ]
        }
      ],
      "source": [
        "for i in range(5):\n",
        "  print((5-i)*\" \"+(2*i+1)*\"*\")"
      ]
    },
    {
      "cell_type": "markdown",
      "metadata": {
        "id": "q3SYOMKyhtLp"
      },
      "source": [
        "## 函式 (functions)"
      ]
    },
    {
      "cell_type": "code",
      "execution_count": null,
      "metadata": {
        "id": "G1fwHxTMhPKj"
      },
      "outputs": [],
      "source": [
        "def pyramid(h):\n",
        "  for i in range(h):\n",
        "    print((h-i)*\" \"+(2*i+1)*\"*\")"
      ]
    },
    {
      "cell_type": "code",
      "execution_count": null,
      "metadata": {
        "colab": {
          "base_uri": "https://localhost:8080/"
        },
        "id": "BOMxssFnh3c8",
        "outputId": "e556679b-4a0c-4147-8e9e-7227b9c72916"
      },
      "outputs": [
        {
          "name": "stdout",
          "output_type": "stream",
          "text": [
            "          *\n",
            "         ***\n",
            "        *****\n",
            "       *******\n",
            "      *********\n",
            "     ***********\n",
            "    *************\n",
            "   ***************\n",
            "  *****************\n",
            " *******************\n"
          ]
        }
      ],
      "source": [
        "pyramid(10)"
      ]
    },
    {
      "cell_type": "markdown",
      "metadata": {
        "id": "pJB3c9OwlSRL"
      },
      "source": [
        "### 關於程式區塊"
      ]
    },
    {
      "cell_type": "code",
      "execution_count": null,
      "metadata": {
        "colab": {
          "base_uri": "https://localhost:8080/"
        },
        "id": "e3Doj-DJh5Ic",
        "outputId": "6c7a7943-9333-4abf-fc58-db19833d2d15"
      },
      "outputs": [
        {
          "name": "stdout",
          "output_type": "stream",
          "text": [
            "開始\n",
            "0\n",
            "結束\n",
            "開始\n",
            "1\n",
            "結束\n",
            "開始\n",
            "2\n",
            "結束\n"
          ]
        }
      ],
      "source": [
        "for i in range(3):\n",
        "  print(\"開始\")\n",
        "  print(i)\n",
        "  print(\"結束\")"
      ]
    },
    {
      "cell_type": "code",
      "execution_count": null,
      "metadata": {
        "colab": {
          "base_uri": "https://localhost:8080/"
        },
        "id": "xpTD_EF7lXnS",
        "outputId": "22fa89e6-1f4e-4375-b07b-ac773e13f172"
      },
      "outputs": [
        {
          "name": "stdout",
          "output_type": "stream",
          "text": [
            "開始\n",
            "0\n",
            "開始\n",
            "1\n",
            "開始\n",
            "2\n",
            "結束\n"
          ]
        }
      ],
      "source": [
        "for i in range(3):\n",
        "  print(\"開始\")\n",
        "  print(i)\n",
        "print(\"結束\")"
      ]
    },
    {
      "cell_type": "markdown",
      "metadata": {
        "id": "kQqVS7Tvl3HF"
      },
      "source": [
        "### 關於for迴圈"
      ]
    },
    {
      "cell_type": "code",
      "execution_count": null,
      "metadata": {
        "colab": {
          "base_uri": "https://localhost:8080/"
        },
        "id": "eftKI0Oyl6Hb",
        "outputId": "98af76ed-c813-4373-d77a-6bb674ee9308"
      },
      "outputs": [
        {
          "name": "stdout",
          "output_type": "stream",
          "text": [
            "0\n",
            "1\n",
            "2\n",
            "3\n",
            "4\n"
          ]
        }
      ],
      "source": [
        "for i in range(5):\n",
        "  print(i)"
      ]
    },
    {
      "cell_type": "code",
      "execution_count": null,
      "metadata": {
        "id": "S8E_toaBl_V2"
      },
      "outputs": [],
      "source": [
        "x = list(\"abcde\")"
      ]
    },
    {
      "cell_type": "code",
      "execution_count": null,
      "metadata": {
        "colab": {
          "base_uri": "https://localhost:8080/"
        },
        "id": "zalIEMB5mBxt",
        "outputId": "2724c3de-82ad-434d-d631-b0086dd9d048"
      },
      "outputs": [
        {
          "data": {
            "text/plain": [
              "['a', 'b', 'c', 'd', 'e']"
            ]
          },
          "execution_count": 42,
          "metadata": {},
          "output_type": "execute_result"
        }
      ],
      "source": [
        "x"
      ]
    },
    {
      "cell_type": "code",
      "execution_count": null,
      "metadata": {
        "colab": {
          "base_uri": "https://localhost:8080/"
        },
        "id": "32MVdZkQmCNu",
        "outputId": "06a0a7d0-13e5-479b-ceb2-99f33aaa8a5b"
      },
      "outputs": [
        {
          "name": "stdout",
          "output_type": "stream",
          "text": [
            "a\n",
            "b\n",
            "c\n",
            "d\n",
            "e\n"
          ]
        }
      ],
      "source": [
        "for i in x:\n",
        "  print(i)"
      ]
    },
    {
      "cell_type": "code",
      "execution_count": null,
      "metadata": {
        "id": "2OnvT2q8mKOj"
      },
      "outputs": [],
      "source": [
        "y = {\"apple\":10, \"orange\":20, \"banana\":30}"
      ]
    },
    {
      "cell_type": "code",
      "execution_count": null,
      "metadata": {
        "colab": {
          "base_uri": "https://localhost:8080/"
        },
        "id": "_hNnpxn9mWcu",
        "outputId": "c7ff9c81-31d8-4cf0-83fa-9570c600cb08"
      },
      "outputs": [
        {
          "name": "stdout",
          "output_type": "stream",
          "text": [
            "apple\n",
            "orange\n",
            "banana\n"
          ]
        }
      ],
      "source": [
        "for i in y:\n",
        "  print(i)"
      ]
    },
    {
      "cell_type": "code",
      "execution_count": null,
      "metadata": {
        "colab": {
          "base_uri": "https://localhost:8080/"
        },
        "id": "azAv0jMxmYuI",
        "outputId": "59b3cae6-0a51-4514-fb7e-ea4ffabc3bb7"
      },
      "outputs": [
        {
          "name": "stdout",
          "output_type": "stream",
          "text": [
            "('apple', 10)\n",
            "('orange', 20)\n",
            "('banana', 30)\n"
          ]
        }
      ],
      "source": [
        "for i in y.items():\n",
        "  print(i)"
      ]
    },
    {
      "cell_type": "code",
      "execution_count": null,
      "metadata": {
        "colab": {
          "base_uri": "https://localhost:8080/"
        },
        "id": "Z6s95ITvmgJ4",
        "outputId": "67191376-4e20-4e40-f986-367aada10a02"
      },
      "outputs": [
        {
          "name": "stdout",
          "output_type": "stream",
          "text": [
            "apple ==> 10\n",
            "orange ==> 20\n",
            "banana ==> 30\n"
          ]
        }
      ],
      "source": [
        "for i in y:\n",
        "  print(i, \"==>\", y[i])"
      ]
    },
    {
      "cell_type": "markdown",
      "metadata": {
        "id": "2nVMIKnlmvpf"
      },
      "source": [
        "## 例外處理 (Exception Handling)"
      ]
    },
    {
      "cell_type": "markdown",
      "metadata": {
        "id": "Eh23sqgsm6Ew"
      },
      "source": [
        "### f-string"
      ]
    },
    {
      "cell_type": "code",
      "execution_count": null,
      "metadata": {
        "colab": {
          "base_uri": "https://localhost:8080/"
        },
        "id": "JkuhQ4Gzmm9Z",
        "outputId": "24401d86-a0e1-4e9f-b51f-11109e718302"
      },
      "outputs": [
        {
          "name": "stdout",
          "output_type": "stream",
          "text": [
            "1 adadfda 2\n"
          ]
        }
      ],
      "source": [
        "x = 1\n",
        "y = 2\n",
        "print(x, \"adadfda\" ,y)"
      ]
    },
    {
      "cell_type": "code",
      "execution_count": null,
      "metadata": {
        "colab": {
          "base_uri": "https://localhost:8080/"
        },
        "id": "Mb4kvbKhnBNa",
        "outputId": "8a529409-2b31-47ed-9edb-9fcd45cc063c"
      },
      "outputs": [
        {
          "name": "stdout",
          "output_type": "stream",
          "text": [
            "x = 1, y = 2\n"
          ]
        }
      ],
      "source": [
        "print(f\"x = {x}, y = {y}\")"
      ]
    },
    {
      "cell_type": "code",
      "execution_count": null,
      "metadata": {
        "id": "640CxMFWnYnV"
      },
      "outputs": [],
      "source": [
        "def add(x, y):\n",
        "  print(f\"{x} + {y} = {x+y}\")"
      ]
    },
    {
      "cell_type": "code",
      "execution_count": null,
      "metadata": {
        "colab": {
          "base_uri": "https://localhost:8080/"
        },
        "id": "mSfkulXonq_d",
        "outputId": "5f2f26c9-f5a6-40fc-f40c-85ce187191df"
      },
      "outputs": [
        {
          "name": "stdout",
          "output_type": "stream",
          "text": [
            "1 + 2 = 3\n"
          ]
        }
      ],
      "source": [
        "add(1, 2)"
      ]
    },
    {
      "cell_type": "code",
      "execution_count": null,
      "metadata": {
        "id": "rfPQTdzrnsIz"
      },
      "outputs": [],
      "source": [
        "def add(x, y):\n",
        "  print(f\"{x} + {y} = {x+y}\")\n",
        "\n",
        "def sub(x, y):\n",
        "  print(f\"{x} - {y} = {x-y}\")\n",
        "\n",
        "def mul(x, y):\n",
        "  print(f\"{x} x {y} = {x*y}\")\n",
        "\n",
        "def div(x, y):\n",
        "  print(f\"{x} / {y} = {x/y}\")"
      ]
    },
    {
      "cell_type": "code",
      "execution_count": null,
      "metadata": {
        "id": "LUGGjb0Kn6JP"
      },
      "outputs": [],
      "source": [
        "funcs = [add, div, sub, mul]"
      ]
    },
    {
      "cell_type": "code",
      "execution_count": null,
      "metadata": {
        "colab": {
          "base_uri": "https://localhost:8080/"
        },
        "id": "QLsfMFGXoTWg",
        "outputId": "53bc3ce7-afd7-4760-bb8b-e3552fea2081"
      },
      "outputs": [
        {
          "name": "stdout",
          "output_type": "stream",
          "text": [
            "1 + 2 = 3\n",
            "1 / 2 = 0.5\n",
            "1 - 2 = -1\n",
            "1 x 2 = 2\n"
          ]
        }
      ],
      "source": [
        "x = 1\n",
        "y = 2\n",
        "for func in funcs:\n",
        "  func(x, y)"
      ]
    },
    {
      "cell_type": "code",
      "execution_count": null,
      "metadata": {
        "colab": {
          "base_uri": "https://localhost:8080/",
          "height": 310
        },
        "id": "8_JGnXuDoiJT",
        "outputId": "ac55a7d4-885f-4c64-805c-a56997e37f0d"
      },
      "outputs": [
        {
          "name": "stdout",
          "output_type": "stream",
          "text": [
            "1 + 0 = 1\n"
          ]
        },
        {
          "ename": "ZeroDivisionError",
          "evalue": "ignored",
          "output_type": "error",
          "traceback": [
            "\u001b[0;31m---------------------------------------------------------------------------\u001b[0m",
            "\u001b[0;31mZeroDivisionError\u001b[0m                         Traceback (most recent call last)",
            "\u001b[0;32m<ipython-input-57-5e7d7820336c>\u001b[0m in \u001b[0;36m<module>\u001b[0;34m()\u001b[0m\n\u001b[1;32m      2\u001b[0m \u001b[0my\u001b[0m \u001b[0;34m=\u001b[0m \u001b[0;36m0\u001b[0m\u001b[0;34m\u001b[0m\u001b[0;34m\u001b[0m\u001b[0m\n\u001b[1;32m      3\u001b[0m \u001b[0;32mfor\u001b[0m \u001b[0mfunc\u001b[0m \u001b[0;32min\u001b[0m \u001b[0mfuncs\u001b[0m\u001b[0;34m:\u001b[0m\u001b[0;34m\u001b[0m\u001b[0;34m\u001b[0m\u001b[0m\n\u001b[0;32m----> 4\u001b[0;31m   \u001b[0mfunc\u001b[0m\u001b[0;34m(\u001b[0m\u001b[0mx\u001b[0m\u001b[0;34m,\u001b[0m \u001b[0my\u001b[0m\u001b[0;34m)\u001b[0m\u001b[0;34m\u001b[0m\u001b[0;34m\u001b[0m\u001b[0m\n\u001b[0m",
            "\u001b[0;32m<ipython-input-54-b495315f498e>\u001b[0m in \u001b[0;36mdiv\u001b[0;34m(x, y)\u001b[0m\n\u001b[1;32m      9\u001b[0m \u001b[0;34m\u001b[0m\u001b[0m\n\u001b[1;32m     10\u001b[0m \u001b[0;32mdef\u001b[0m \u001b[0mdiv\u001b[0m\u001b[0;34m(\u001b[0m\u001b[0mx\u001b[0m\u001b[0;34m,\u001b[0m \u001b[0my\u001b[0m\u001b[0;34m)\u001b[0m\u001b[0;34m:\u001b[0m\u001b[0;34m\u001b[0m\u001b[0;34m\u001b[0m\u001b[0m\n\u001b[0;32m---> 11\u001b[0;31m   \u001b[0mprint\u001b[0m\u001b[0;34m(\u001b[0m\u001b[0;34mf\"{x} / {y} = {x/y}\"\u001b[0m\u001b[0;34m)\u001b[0m\u001b[0;34m\u001b[0m\u001b[0;34m\u001b[0m\u001b[0m\n\u001b[0m",
            "\u001b[0;31mZeroDivisionError\u001b[0m: division by zero"
          ]
        }
      ],
      "source": [
        "x = 1\n",
        "y = 0\n",
        "for func in funcs:\n",
        "  func(x, y)"
      ]
    },
    {
      "cell_type": "code",
      "execution_count": null,
      "metadata": {
        "colab": {
          "base_uri": "https://localhost:8080/"
        },
        "id": "WOuxaVaDqJSd",
        "outputId": "9abd8438-2488-4aa9-ecc7-2adabd20d582"
      },
      "outputs": [
        {
          "name": "stdout",
          "output_type": "stream",
          "text": [
            "1 + 0 = 1\n",
            "('division by zero',)\n",
            "1 - 0 = 1\n",
            "1 x 0 = 0\n"
          ]
        }
      ],
      "source": [
        "x = 1\n",
        "y = 0\n",
        "for func in funcs:\n",
        "  try:\n",
        "    func(x, y)\n",
        "  except Exception as e:\n",
        "    print(e.args)"
      ]
    },
    {
      "cell_type": "markdown",
      "metadata": {
        "id": "C2vtHn1Au-4T"
      },
      "source": [
        "## 資料分析簡介\n",
        "\n",
        "* Numpy => Numerical Python => 科學運算套件\n",
        "* MatPlotLib => Matrix Plotting Library => 繪圖基礎套件\n",
        "* Pandas => Panel Data => 資料分析基礎套件"
      ]
    },
    {
      "cell_type": "markdown",
      "metadata": {
        "id": "Uo9VQCRpvWtK"
      },
      "source": [
        "套件載入的慣用法：\n",
        "\n",
        "```python\n",
        "import numpy as np\n",
        "import matplotlib.pyplot as plt\n",
        "import pandas as pd\n",
        "```"
      ]
    },
    {
      "cell_type": "markdown",
      "metadata": {
        "id": "DdXuo6lkzDHl"
      },
      "source": [
        "## Numpy\n",
        "\n",
        "* ndarray => N-Dimensional Arrays\n",
        "* ufunc => Universal Functions"
      ]
    },
    {
      "cell_type": "markdown",
      "metadata": {
        "id": "PwiEZQ3P1d9g"
      },
      "source": [
        "### why ndarrays?"
      ]
    },
    {
      "cell_type": "code",
      "execution_count": 4,
      "metadata": {
        "id": "rpWd6aBnqaLE"
      },
      "outputs": [],
      "source": [
        "import numpy as np"
      ]
    },
    {
      "cell_type": "code",
      "execution_count": null,
      "metadata": {
        "id": "ppixOx8NyhNj"
      },
      "outputs": [],
      "source": [
        "x = [1, 2, 3]\n",
        "y = [4, 5, 6]"
      ]
    },
    {
      "cell_type": "code",
      "execution_count": null,
      "metadata": {
        "colab": {
          "base_uri": "https://localhost:8080/"
        },
        "id": "C_vfDw0Qz2Bm",
        "outputId": "4da396c7-b664-4531-9a92-b50eb84e03de"
      },
      "outputs": [
        {
          "data": {
            "text/plain": [
              "[1, 2, 3, 4, 5, 6]"
            ]
          },
          "execution_count": 61,
          "metadata": {},
          "output_type": "execute_result"
        }
      ],
      "source": [
        "x + y"
      ]
    },
    {
      "cell_type": "code",
      "execution_count": null,
      "metadata": {
        "colab": {
          "base_uri": "https://localhost:8080/"
        },
        "id": "nMEHbMwCz3RD",
        "outputId": "dad7a057-84f1-4140-bbf2-0a578c18ddf1"
      },
      "outputs": [
        {
          "data": {
            "text/plain": [
              "[1, 2, 3, 1, 2, 3]"
            ]
          },
          "execution_count": 62,
          "metadata": {},
          "output_type": "execute_result"
        }
      ],
      "source": [
        "2 * x"
      ]
    },
    {
      "cell_type": "code",
      "execution_count": null,
      "metadata": {
        "colab": {
          "base_uri": "https://localhost:8080/"
        },
        "id": "kCpTz-4L0VsP",
        "outputId": "844834ba-fff7-438c-ebed-414e600bf54f"
      },
      "outputs": [
        {
          "data": {
            "text/plain": [
              "[(1, 4), (2, 5), (3, 6)]"
            ]
          },
          "execution_count": 65,
          "metadata": {},
          "output_type": "execute_result"
        }
      ],
      "source": [
        "list(zip(x, y))"
      ]
    },
    {
      "cell_type": "code",
      "execution_count": null,
      "metadata": {
        "id": "GHNWMjIF0BBd"
      },
      "outputs": [],
      "source": [
        "z = []\n",
        "for i, j in zip(x, y):\n",
        "  z.append(i+j)"
      ]
    },
    {
      "cell_type": "code",
      "execution_count": null,
      "metadata": {
        "colab": {
          "base_uri": "https://localhost:8080/"
        },
        "id": "KIP_UMck0MiR",
        "outputId": "2ca26779-b885-4b63-c9cd-0bf25ac07103"
      },
      "outputs": [
        {
          "data": {
            "text/plain": [
              "[5, 7, 9]"
            ]
          },
          "execution_count": 64,
          "metadata": {},
          "output_type": "execute_result"
        }
      ],
      "source": [
        "z"
      ]
    },
    {
      "cell_type": "code",
      "execution_count": null,
      "metadata": {
        "id": "en5s12wU0NGq"
      },
      "outputs": [],
      "source": [
        "z.append?"
      ]
    },
    {
      "cell_type": "code",
      "execution_count": null,
      "metadata": {
        "id": "ar2DB3yp0kLI"
      },
      "outputs": [],
      "source": [
        "x1 = np.array(x)\n",
        "y1 = np.array(y)"
      ]
    },
    {
      "cell_type": "code",
      "execution_count": null,
      "metadata": {
        "colab": {
          "base_uri": "https://localhost:8080/"
        },
        "id": "IUb9t7fM1ASD",
        "outputId": "bc924db1-dbfa-4fb6-a193-0b1e4c243cb1"
      },
      "outputs": [
        {
          "data": {
            "text/plain": [
              "array([1, 2, 3])"
            ]
          },
          "execution_count": 68,
          "metadata": {},
          "output_type": "execute_result"
        }
      ],
      "source": [
        "x1"
      ]
    },
    {
      "cell_type": "code",
      "execution_count": null,
      "metadata": {
        "colab": {
          "base_uri": "https://localhost:8080/"
        },
        "id": "UKqvVrQw1BzH",
        "outputId": "3ee45c9f-34d3-4f59-81cf-b6992506fe38"
      },
      "outputs": [
        {
          "data": {
            "text/plain": [
              "array([4, 5, 6])"
            ]
          },
          "execution_count": 69,
          "metadata": {},
          "output_type": "execute_result"
        }
      ],
      "source": [
        "y1"
      ]
    },
    {
      "cell_type": "code",
      "execution_count": null,
      "metadata": {
        "colab": {
          "base_uri": "https://localhost:8080/"
        },
        "id": "_tt207ZG1Ho0",
        "outputId": "935be2d0-ae53-4b7d-a470-bed78135b0e2"
      },
      "outputs": [
        {
          "data": {
            "text/plain": [
              "array([5, 7, 9])"
            ]
          },
          "execution_count": 70,
          "metadata": {},
          "output_type": "execute_result"
        }
      ],
      "source": [
        "x1 + y1"
      ]
    },
    {
      "cell_type": "code",
      "execution_count": null,
      "metadata": {
        "colab": {
          "base_uri": "https://localhost:8080/"
        },
        "id": "EAWgQlrO1Iwx",
        "outputId": "a2ea9988-9e72-4574-9af0-b6dd7b58c41c"
      },
      "outputs": [
        {
          "data": {
            "text/plain": [
              "array([2, 4, 6])"
            ]
          },
          "execution_count": 71,
          "metadata": {},
          "output_type": "execute_result"
        }
      ],
      "source": [
        "2 * x1"
      ]
    },
    {
      "cell_type": "markdown",
      "metadata": {
        "id": "hxgnbGk31hyd"
      },
      "source": [
        "### What is ufunc?"
      ]
    },
    {
      "cell_type": "code",
      "execution_count": 1,
      "metadata": {
        "id": "4nCY3vxa1Kxg"
      },
      "outputs": [],
      "source": [
        "import math"
      ]
    },
    {
      "cell_type": "code",
      "execution_count": null,
      "metadata": {
        "colab": {
          "base_uri": "https://localhost:8080/"
        },
        "id": "WLbeEOfa1rxS",
        "outputId": "fdfa80de-37a2-4d6c-f2a6-413fd857a191"
      },
      "outputs": [
        {
          "data": {
            "text/plain": [
              "1.0"
            ]
          },
          "execution_count": 73,
          "metadata": {},
          "output_type": "execute_result"
        }
      ],
      "source": [
        "math.sin(math.pi/2)"
      ]
    },
    {
      "cell_type": "code",
      "execution_count": null,
      "metadata": {
        "colab": {
          "base_uri": "https://localhost:8080/",
          "height": 168
        },
        "id": "VMo65AJi1v1z",
        "outputId": "308ef881-b593-46a3-eab6-0ddf7a3c59d4"
      },
      "outputs": [
        {
          "ename": "TypeError",
          "evalue": "ignored",
          "output_type": "error",
          "traceback": [
            "\u001b[0;31m---------------------------------------------------------------------------\u001b[0m",
            "\u001b[0;31mTypeError\u001b[0m                                 Traceback (most recent call last)",
            "\u001b[0;32m<ipython-input-74-514904a8605d>\u001b[0m in \u001b[0;36m<module>\u001b[0;34m()\u001b[0m\n\u001b[0;32m----> 1\u001b[0;31m \u001b[0mmath\u001b[0m\u001b[0;34m.\u001b[0m\u001b[0msin\u001b[0m\u001b[0;34m(\u001b[0m\u001b[0mx\u001b[0m\u001b[0;34m)\u001b[0m\u001b[0;34m\u001b[0m\u001b[0;34m\u001b[0m\u001b[0m\n\u001b[0m",
            "\u001b[0;31mTypeError\u001b[0m: must be real number, not list"
          ]
        }
      ],
      "source": [
        "math.sin(x)"
      ]
    },
    {
      "cell_type": "code",
      "execution_count": null,
      "metadata": {
        "colab": {
          "base_uri": "https://localhost:8080/"
        },
        "id": "13BXPhtu15CC",
        "outputId": "c1f49e87-9945-40d1-8bee-1c2270d28f4e"
      },
      "outputs": [
        {
          "data": {
            "text/plain": [
              "1.0"
            ]
          },
          "execution_count": 75,
          "metadata": {},
          "output_type": "execute_result"
        }
      ],
      "source": [
        "np.sin(np.pi/2)"
      ]
    },
    {
      "cell_type": "code",
      "execution_count": null,
      "metadata": {
        "colab": {
          "base_uri": "https://localhost:8080/"
        },
        "id": "msozpV0o2FIu",
        "outputId": "73c96f2e-4a2e-4c45-d488-e36ee289ec53"
      },
      "outputs": [
        {
          "data": {
            "text/plain": [
              "array([0.84147098, 0.90929743, 0.14112001])"
            ]
          },
          "execution_count": 76,
          "metadata": {},
          "output_type": "execute_result"
        }
      ],
      "source": [
        "np.sin(x)"
      ]
    },
    {
      "cell_type": "markdown",
      "metadata": {
        "id": "CwaA7_kc3Jgt"
      },
      "source": [
        "### 練習:\n",
        "\n",
        "請將底下所有資料取根號(np.sqrt)再乘上十。"
      ]
    },
    {
      "cell_type": "code",
      "execution_count": 5,
      "metadata": {
        "id": "pctktTRo2IvK"
      },
      "outputs": [],
      "source": [
        "data = np.random.randint(20, 70, 10)"
      ]
    },
    {
      "cell_type": "code",
      "execution_count": 6,
      "metadata": {
        "colab": {
          "base_uri": "https://localhost:8080/"
        },
        "id": "a6S3IqLS39GB",
        "outputId": "566bb9a1-43df-416e-af0a-4a6953558b83"
      },
      "outputs": [
        {
          "data": {
            "text/plain": [
              "array([35, 64, 46, 22, 47, 42, 29, 33, 31, 26])"
            ]
          },
          "execution_count": 6,
          "metadata": {},
          "output_type": "execute_result"
        }
      ],
      "source": [
        "data"
      ]
    },
    {
      "cell_type": "code",
      "execution_count": null,
      "metadata": {
        "colab": {
          "base_uri": "https://localhost:8080/"
        },
        "id": "qgcBeNBz39tk",
        "outputId": "97f4238b-9225-4402-8e15-eb0d5638ab2d"
      },
      "outputs": [
        {
          "name": "stdout",
          "output_type": "stream",
          "text": [
            "57.445626465380286\n",
            "56.568542494923804\n",
            "83.06623862918075\n",
            "58.309518948453004\n",
            "54.772255750516614\n",
            "54.772255750516614\n",
            "57.445626465380286\n",
            "64.8074069840786\n",
            "69.28203230275508\n",
            "80.62257748298549\n"
          ]
        }
      ],
      "source": [
        "for i in data:\n",
        "  print(math.sqrt(i)*10)"
      ]
    },
    {
      "cell_type": "code",
      "execution_count": null,
      "metadata": {
        "colab": {
          "base_uri": "https://localhost:8080/"
        },
        "id": "YrHekRYK4J8g",
        "outputId": "94ac7ab2-d7f1-485d-a69d-a0eb5d3b6fbe"
      },
      "outputs": [
        {
          "data": {
            "text/plain": [
              "array([57.44562647, 56.56854249, 83.06623863, 58.30951895, 54.77225575,\n",
              "       54.77225575, 57.44562647, 64.80740698, 69.2820323 , 80.62257748])"
            ]
          },
          "execution_count": 81,
          "metadata": {},
          "output_type": "execute_result"
        }
      ],
      "source": [
        "np.sqrt(data)*10"
      ]
    },
    {
      "cell_type": "markdown",
      "metadata": {
        "id": "1ECiXK2Q41RE"
      },
      "source": [
        "### ndarray的indexing跟slicing"
      ]
    },
    {
      "cell_type": "code",
      "execution_count": null,
      "metadata": {
        "colab": {
          "base_uri": "https://localhost:8080/"
        },
        "id": "M1xWt_bg5KE6",
        "outputId": "aea906a8-9324-4774-a5a1-d216efa09c79"
      },
      "outputs": [
        {
          "data": {
            "text/plain": [
              "[0,\n",
              " 1,\n",
              " 2,\n",
              " 3,\n",
              " 4,\n",
              " 5,\n",
              " 6,\n",
              " 7,\n",
              " 8,\n",
              " 9,\n",
              " 10,\n",
              " 11,\n",
              " 12,\n",
              " 13,\n",
              " 14,\n",
              " 15,\n",
              " 16,\n",
              " 17,\n",
              " 18,\n",
              " 19,\n",
              " 20,\n",
              " 21,\n",
              " 22,\n",
              " 23,\n",
              " 24]"
            ]
          },
          "execution_count": 82,
          "metadata": {},
          "output_type": "execute_result"
        }
      ],
      "source": [
        "list(range(25))"
      ]
    },
    {
      "cell_type": "code",
      "execution_count": null,
      "metadata": {
        "id": "e2mZQOgp4gWh"
      },
      "outputs": [],
      "source": [
        "x = np.arange(25)"
      ]
    },
    {
      "cell_type": "code",
      "execution_count": null,
      "metadata": {
        "colab": {
          "base_uri": "https://localhost:8080/"
        },
        "id": "ulGqoJ305NdN",
        "outputId": "a29a19b6-0e6e-4f0f-cf32-29f2cde25241"
      },
      "outputs": [
        {
          "data": {
            "text/plain": [
              "array([ 0,  1,  2,  3,  4,  5,  6,  7,  8,  9, 10, 11, 12, 13, 14, 15, 16,\n",
              "       17, 18, 19, 20, 21, 22, 23, 24])"
            ]
          },
          "execution_count": 84,
          "metadata": {},
          "output_type": "execute_result"
        }
      ],
      "source": [
        "x"
      ]
    },
    {
      "cell_type": "code",
      "execution_count": null,
      "metadata": {
        "colab": {
          "base_uri": "https://localhost:8080/"
        },
        "id": "-_YPJMjZ5OV8",
        "outputId": "a00d016b-fbf3-455e-d957-a1eb227b5dd9"
      },
      "outputs": [
        {
          "data": {
            "text/plain": [
              "dtype('int64')"
            ]
          },
          "execution_count": 85,
          "metadata": {},
          "output_type": "execute_result"
        }
      ],
      "source": [
        "x.dtype"
      ]
    },
    {
      "cell_type": "code",
      "execution_count": null,
      "metadata": {
        "colab": {
          "base_uri": "https://localhost:8080/"
        },
        "id": "FLShbTSL5ZeQ",
        "outputId": "80e14edb-72a2-43f3-cd03-bbb02762ec0b"
      },
      "outputs": [
        {
          "data": {
            "text/plain": [
              "(25,)"
            ]
          },
          "execution_count": 86,
          "metadata": {},
          "output_type": "execute_result"
        }
      ],
      "source": [
        "x.shape"
      ]
    },
    {
      "cell_type": "code",
      "execution_count": null,
      "metadata": {
        "colab": {
          "base_uri": "https://localhost:8080/"
        },
        "id": "XG4VXibV5gNv",
        "outputId": "9b13212c-850f-47d3-d9d2-3b5a7ff1cc26"
      },
      "outputs": [
        {
          "data": {
            "text/plain": [
              "25"
            ]
          },
          "execution_count": 87,
          "metadata": {},
          "output_type": "execute_result"
        }
      ],
      "source": [
        "x.size"
      ]
    },
    {
      "cell_type": "code",
      "execution_count": null,
      "metadata": {
        "id": "fmGauRd95lhf"
      },
      "outputs": [],
      "source": [
        "x = x.reshape(5, 5)"
      ]
    },
    {
      "cell_type": "code",
      "execution_count": null,
      "metadata": {
        "colab": {
          "base_uri": "https://localhost:8080/"
        },
        "id": "7au4wXFp5sIP",
        "outputId": "9074d291-17db-4429-931c-cf6268ea2674"
      },
      "outputs": [
        {
          "data": {
            "text/plain": [
              "array([[ 0,  1,  2,  3,  4],\n",
              "       [ 5,  6,  7,  8,  9],\n",
              "       [10, 11, 12, 13, 14],\n",
              "       [15, 16, 17, 18, 19],\n",
              "       [20, 21, 22, 23, 24]])"
            ]
          },
          "execution_count": 92,
          "metadata": {},
          "output_type": "execute_result"
        }
      ],
      "source": [
        "x"
      ]
    },
    {
      "cell_type": "code",
      "execution_count": null,
      "metadata": {
        "colab": {
          "base_uri": "https://localhost:8080/"
        },
        "id": "xutyyL8F5wW7",
        "outputId": "8a08d379-e6ae-417a-9b74-7086be5e3d3c"
      },
      "outputs": [
        {
          "data": {
            "text/plain": [
              "(5, 5)"
            ]
          },
          "execution_count": 93,
          "metadata": {},
          "output_type": "execute_result"
        }
      ],
      "source": [
        "x.shape"
      ]
    },
    {
      "cell_type": "code",
      "execution_count": null,
      "metadata": {
        "id": "MMccrbyJ511N"
      },
      "outputs": [],
      "source": [
        "y = [[ 0,  1,  2,  3,  4],\n",
        "     [ 5,  6,  7,  8,  9],\n",
        "     [10, 11, 12, 13, 14],\n",
        "     [15, 16, 17, 18, 19],\n",
        "     [20, 21, 22, 23, 24]]"
      ]
    },
    {
      "cell_type": "code",
      "execution_count": null,
      "metadata": {
        "colab": {
          "base_uri": "https://localhost:8080/"
        },
        "id": "oKdGsbON6Cy4",
        "outputId": "4e67cba9-4708-4b6c-dc68-35988af43ad2"
      },
      "outputs": [
        {
          "data": {
            "text/plain": [
              "12"
            ]
          },
          "execution_count": 101,
          "metadata": {},
          "output_type": "execute_result"
        }
      ],
      "source": [
        "y[2][2]"
      ]
    },
    {
      "cell_type": "code",
      "execution_count": null,
      "metadata": {
        "colab": {
          "base_uri": "https://localhost:8080/"
        },
        "id": "vkvoVUoR6WSK",
        "outputId": "2de33c60-0ee6-4ed0-bf8f-7e1acd4d9f43"
      },
      "outputs": [
        {
          "data": {
            "text/plain": [
              "12"
            ]
          },
          "execution_count": 102,
          "metadata": {},
          "output_type": "execute_result"
        }
      ],
      "source": [
        "x[2][2]"
      ]
    },
    {
      "cell_type": "code",
      "execution_count": null,
      "metadata": {
        "colab": {
          "base_uri": "https://localhost:8080/"
        },
        "id": "VVGLOGES6-KS",
        "outputId": "a8f5d436-a2d2-42dd-844f-33785e582cb4"
      },
      "outputs": [
        {
          "data": {
            "text/plain": [
              "[11, 12, 13]"
            ]
          },
          "execution_count": 104,
          "metadata": {},
          "output_type": "execute_result"
        }
      ],
      "source": [
        "y[2][1:4]"
      ]
    },
    {
      "cell_type": "code",
      "execution_count": null,
      "metadata": {
        "colab": {
          "base_uri": "https://localhost:8080/"
        },
        "id": "4zIkWPrJ7G-R",
        "outputId": "78ed65a8-bea4-4597-ece0-87b19447a161"
      },
      "outputs": [
        {
          "data": {
            "text/plain": [
              "array([11, 12, 13])"
            ]
          },
          "execution_count": 105,
          "metadata": {},
          "output_type": "execute_result"
        }
      ],
      "source": [
        "x[2][1:4]"
      ]
    },
    {
      "cell_type": "code",
      "execution_count": null,
      "metadata": {
        "colab": {
          "base_uri": "https://localhost:8080/"
        },
        "id": "Yc_SGg0S7NMk",
        "outputId": "17883eb8-d3a0-4994-dee8-7707fc7aed39"
      },
      "outputs": [
        {
          "data": {
            "text/plain": [
              "12"
            ]
          },
          "execution_count": 106,
          "metadata": {},
          "output_type": "execute_result"
        }
      ],
      "source": [
        "# ndarray的indexing\n",
        "x[2, 2]"
      ]
    },
    {
      "cell_type": "code",
      "execution_count": null,
      "metadata": {
        "colab": {
          "base_uri": "https://localhost:8080/"
        },
        "id": "1uvoTriV7bZ4",
        "outputId": "2af6bdb1-f381-4742-a4e3-9b84619687a2"
      },
      "outputs": [
        {
          "data": {
            "text/plain": [
              "array([11, 12, 13])"
            ]
          },
          "execution_count": 112,
          "metadata": {},
          "output_type": "execute_result"
        }
      ],
      "source": [
        "# ndarray的slicing\n",
        "x[2, 1:4]"
      ]
    },
    {
      "cell_type": "code",
      "execution_count": null,
      "metadata": {
        "colab": {
          "base_uri": "https://localhost:8080/"
        },
        "id": "jvWJYQaM7gI8",
        "outputId": "599454db-7f79-4138-cd43-8454678858f1"
      },
      "outputs": [
        {
          "data": {
            "text/plain": [
              "array([[ 6,  7],\n",
              "       [11, 12]])"
            ]
          },
          "execution_count": 108,
          "metadata": {},
          "output_type": "execute_result"
        }
      ],
      "source": [
        "x[1:3, 1:3]"
      ]
    },
    {
      "cell_type": "code",
      "execution_count": null,
      "metadata": {
        "colab": {
          "base_uri": "https://localhost:8080/"
        },
        "id": "B8PngGcM7q0u",
        "outputId": "387ae039-440b-44c3-db8a-cbe60c10a61a"
      },
      "outputs": [
        {
          "data": {
            "text/plain": [
              "array([0, 1, 2, 3, 4])"
            ]
          },
          "execution_count": 109,
          "metadata": {},
          "output_type": "execute_result"
        }
      ],
      "source": [
        "# 取得第零列 x[0]\n",
        "x[0, :]"
      ]
    },
    {
      "cell_type": "code",
      "execution_count": null,
      "metadata": {
        "colab": {
          "base_uri": "https://localhost:8080/"
        },
        "id": "SKvx-qWK724g",
        "outputId": "ad0387b8-c36d-4336-feaa-95d41c9a32b9"
      },
      "outputs": [
        {
          "data": {
            "text/plain": [
              "array([ 0,  5, 10, 15, 20])"
            ]
          },
          "execution_count": 111,
          "metadata": {},
          "output_type": "execute_result"
        }
      ],
      "source": [
        "# 取得第零欄\n",
        "x[:, 0]"
      ]
    },
    {
      "cell_type": "markdown",
      "metadata": {
        "id": "jNR2G9ha898h"
      },
      "source": [
        "## MatPlotLib\n",
        "\n",
        "https://matplotlib.org/stable/tutorials/introductory/usage.html\n",
        "\n",
        "* pyplot => Functional\n",
        "* artist => OOP"
      ]
    },
    {
      "cell_type": "code",
      "execution_count": 2,
      "metadata": {
        "id": "yihAuvz-75ZO"
      },
      "outputs": [],
      "source": [
        "import matplotlib.pyplot as plt"
      ]
    },
    {
      "cell_type": "markdown",
      "metadata": {
        "id": "Ag9KBI8FVya4"
      },
      "source": [
        "### 折線圖 (Line Chart)"
      ]
    },
    {
      "cell_type": "code",
      "execution_count": 7,
      "metadata": {
        "colab": {
          "base_uri": "https://localhost:8080/"
        },
        "id": "gLODLvLP9MYD",
        "outputId": "a8709cae-3be7-4c7f-acd4-8a44b96ab9a0"
      },
      "outputs": [
        {
          "data": {
            "text/plain": [
              "array([35, 64, 46, 22, 47, 42, 29, 33, 31, 26])"
            ]
          },
          "execution_count": 7,
          "metadata": {},
          "output_type": "execute_result"
        }
      ],
      "source": [
        "data"
      ]
    },
    {
      "cell_type": "code",
      "execution_count": 1,
      "metadata": {
        "colab": {
          "base_uri": "https://localhost:8080/",
          "height": 283
        },
        "id": "OlXv-etu9QiE",
        "outputId": "0e3584db-3631-47a5-cfc3-c59460dec869"
      },
      "outputs": [
        {
          "ename": "NameError",
          "evalue": "name 'plt' is not defined",
          "output_type": "error",
          "traceback": [
            "\u001b[1;31m---------------------------------------------------------------------------\u001b[0m",
            "\u001b[1;31mNameError\u001b[0m                                 Traceback (most recent call last)",
            "\u001b[1;32m~\\AppData\\Local\\Temp/ipykernel_15472/4078587883.py\u001b[0m in \u001b[0;36m<module>\u001b[1;34m\u001b[0m\n\u001b[1;32m----> 1\u001b[1;33m \u001b[0mplt\u001b[0m\u001b[1;33m.\u001b[0m\u001b[0mplot\u001b[0m\u001b[1;33m(\u001b[0m\u001b[0mdata\u001b[0m\u001b[1;33m)\u001b[0m\u001b[1;33m\u001b[0m\u001b[1;33m\u001b[0m\u001b[0m\n\u001b[0m",
            "\u001b[1;31mNameError\u001b[0m: name 'plt' is not defined"
          ]
        }
      ],
      "source": [
        "plt.plot(data)"
      ]
    },
    {
      "cell_type": "markdown",
      "metadata": {
        "id": "3ZkGPxM1VJFf"
      },
      "source": [
        "### Markers, Line Style, Colors\n",
        "\n",
        "https://matplotlib.org/stable/api/_as_gen/matplotlib.pyplot.plot.html"
      ]
    },
    {
      "cell_type": "code",
      "execution_count": null,
      "metadata": {
        "colab": {
          "base_uri": "https://localhost:8080/",
          "height": 283
        },
        "id": "aUjNTWLK9Su9",
        "outputId": "1371bff3-4120-4cc9-b803-5e0e133989bd"
      },
      "outputs": [
        {
          "data": {
            "text/plain": [
              "[<matplotlib.lines.Line2D at 0x7f06aa2ea5d0>]"
            ]
          },
          "execution_count": 117,
          "metadata": {},
          "output_type": "execute_result"
        },
        {
          "data": {
            "image/png": "[encoded data removed]",
            "text/plain": [
              "<Figure size 432x288 with 1 Axes>"
            ]
          },
          "metadata": {
            "needs_background": "light"
          },
          "output_type": "display_data"
        }
      ],
      "source": [
        "plt.plot(data, 'r')"
      ]
    },
    {
      "cell_type": "code",
      "execution_count": null,
      "metadata": {
        "colab": {
          "base_uri": "https://localhost:8080/",
          "height": 283
        },
        "id": "TRIyT37MVP9N",
        "outputId": "abc287a3-3c81-4f5d-aad3-7f9088f828a1"
      },
      "outputs": [
        {
          "data": {
            "text/plain": [
              "[<matplotlib.lines.Line2D at 0x7f06aa2d0b10>]"
            ]
          },
          "execution_count": 118,
          "metadata": {},
          "output_type": "execute_result"
        },
        {
          "data": {
            "image/png": "[encoded data removed]",
            "text/plain": [
              "<Figure size 432x288 with 1 Axes>"
            ]
          },
          "metadata": {
            "needs_background": "light"
          },
          "output_type": "display_data"
        }
      ],
      "source": [
        "plt.plot(data, 'ro')"
      ]
    },
    {
      "cell_type": "code",
      "execution_count": null,
      "metadata": {
        "colab": {
          "base_uri": "https://localhost:8080/",
          "height": 283
        },
        "id": "UHxKYE9MVlwI",
        "outputId": "d76f3064-060a-470d-b8d3-df8d8e6e8316"
      },
      "outputs": [
        {
          "data": {
            "text/plain": [
              "[<matplotlib.lines.Line2D at 0x7f06aa248110>]"
            ]
          },
          "execution_count": 119,
          "metadata": {},
          "output_type": "execute_result"
        },
        {
          "data": {
            "image/png": "[encoded data removed]",
            "text/plain": [
              "<Figure size 432x288 with 1 Axes>"
            ]
          },
          "metadata": {
            "needs_background": "light"
          },
          "output_type": "display_data"
        }
      ],
      "source": [
        "plt.plot(data, 'ro-')"
      ]
    },
    {
      "cell_type": "code",
      "execution_count": null,
      "metadata": {
        "colab": {
          "base_uri": "https://localhost:8080/",
          "height": 283
        },
        "id": "43AXpdG4VreT",
        "outputId": "48c23743-c020-49af-f9fc-606319ab3135"
      },
      "outputs": [
        {
          "data": {
            "text/plain": [
              "[<matplotlib.lines.Line2D at 0x7f06aa1ac6d0>]"
            ]
          },
          "execution_count": 120,
          "metadata": {},
          "output_type": "execute_result"
        },
        {
          "data": {
            "image/png": "[encoded data removed]",
            "text/plain": [
              "<Figure size 432x288 with 1 Axes>"
            ]
          },
          "metadata": {
            "needs_background": "light"
          },
          "output_type": "display_data"
        }
      ],
      "source": [
        "plt.plot(data, 'ro--')"
      ]
    },
    {
      "cell_type": "code",
      "execution_count": null,
      "metadata": {
        "colab": {
          "base_uri": "https://localhost:8080/",
          "height": 299
        },
        "id": "nyuNjj56Vtxy",
        "outputId": "6f2ae6b2-3004-4c14-8c1d-64b5cf08f4a0"
      },
      "outputs": [
        {
          "data": {
            "text/plain": [
              "Text(0.5, 1.0, 'Line Chart')"
            ]
          },
          "execution_count": 121,
          "metadata": {},
          "output_type": "execute_result"
        },
        {
          "data": {
            "image/png": "[encoded data removed]",
            "text/plain": [
              "<Figure size 432x288 with 1 Axes>"
            ]
          },
          "metadata": {
            "needs_background": "light"
          },
          "output_type": "display_data"
        }
      ],
      "source": [
        "plt.plot(data, 'ro--')\n",
        "plt.title('Line Chart')"
      ]
    },
    {
      "cell_type": "code",
      "execution_count": null,
      "metadata": {
        "colab": {
          "base_uri": "https://localhost:8080/",
          "height": 281
        },
        "id": "93yPISm-V_-l",
        "outputId": "b82e793e-4015-488b-93a9-c95ebbc230d1"
      },
      "outputs": [
        {
          "data": {
            "image/png": "[encoded data removed]",
            "text/plain": [
              "<Figure size 432x288 with 1 Axes>"
            ]
          },
          "metadata": {
            "needs_background": "light"
          },
          "output_type": "display_data"
        }
      ],
      "source": [
        "plt.plot(data, 'ro--')\n",
        "plt.title('Line Chart');"
      ]
    },
    {
      "cell_type": "code",
      "execution_count": null,
      "metadata": {
        "colab": {
          "base_uri": "https://localhost:8080/",
          "height": 514
        },
        "id": "pA_gCNxNWICV",
        "outputId": "9a819319-4811-4587-e586-34b3b5d09f0f"
      },
      "outputs": [
        {
          "name": "stderr",
          "output_type": "stream",
          "text": [
            "/usr/local/lib/python3.7/dist-packages/matplotlib/backends/backend_agg.py:214: RuntimeWarning: Glyph 25240 missing from current font.\n",
            "  font.set_text(s, 0.0, flags=flags)\n",
            "/usr/local/lib/python3.7/dist-packages/matplotlib/backends/backend_agg.py:214: RuntimeWarning: Glyph 32218 missing from current font.\n",
            "  font.set_text(s, 0.0, flags=flags)\n",
            "/usr/local/lib/python3.7/dist-packages/matplotlib/backends/backend_agg.py:214: RuntimeWarning: Glyph 22294 missing from current font.\n",
            "  font.set_text(s, 0.0, flags=flags)\n",
            "/usr/local/lib/python3.7/dist-packages/matplotlib/backends/backend_agg.py:183: RuntimeWarning: Glyph 25240 missing from current font.\n",
            "  font.set_text(s, 0, flags=flags)\n",
            "/usr/local/lib/python3.7/dist-packages/matplotlib/backends/backend_agg.py:183: RuntimeWarning: Glyph 32218 missing from current font.\n",
            "  font.set_text(s, 0, flags=flags)\n",
            "/usr/local/lib/python3.7/dist-packages/matplotlib/backends/backend_agg.py:183: RuntimeWarning: Glyph 22294 missing from current font.\n",
            "  font.set_text(s, 0, flags=flags)\n"
          ]
        },
        {
          "data": {
            "image/png": "[encoded data removed]",
            "text/plain": [
              "<Figure size 432x288 with 1 Axes>"
            ]
          },
          "metadata": {
            "needs_background": "light"
          },
          "output_type": "display_data"
        }
      ],
      "source": [
        "plt.plot(data, 'ro--')\n",
        "plt.title('折線圖');"
      ]
    },
    {
      "cell_type": "code",
      "execution_count": null,
      "metadata": {
        "colab": {
          "base_uri": "https://localhost:8080/",
          "height": 313
        },
        "id": "55_8zhgtWNma",
        "outputId": "b441204f-d1de-4dde-cb01-b41f972e4a19"
      },
      "outputs": [
        {
          "data": {
            "text/plain": [
              "Text(0, 0.5, 'Axis y')"
            ]
          },
          "execution_count": 124,
          "metadata": {},
          "output_type": "execute_result"
        },
        {
          "data": {
            "image/png": "[encoded data removed]",
            "text/plain": [
              "<Figure size 432x288 with 1 Axes>"
            ]
          },
          "metadata": {
            "needs_background": "light"
          },
          "output_type": "display_data"
        }
      ],
      "source": [
        "plt.plot(data, 'ro--')\n",
        "plt.title('Line Chart');\n",
        "plt.xlabel('Axis x')\n",
        "plt.ylabel('Axis y')"
      ]
    },
    {
      "cell_type": "code",
      "execution_count": null,
      "metadata": {
        "colab": {
          "base_uri": "https://localhost:8080/",
          "height": 283
        },
        "id": "Ed58JwmCWjod",
        "outputId": "b471f395-8392-49ea-e889-64874cf6c1db"
      },
      "outputs": [
        {
          "data": {
            "text/plain": [
              "<matplotlib.legend.Legend at 0x7f06a9cb9490>"
            ]
          },
          "execution_count": 133,
          "metadata": {},
          "output_type": "execute_result"
        },
        {
          "data": {
            "image/png": "[encoded data removed]",
            "text/plain": [
              "<Figure size 432x288 with 1 Axes>"
            ]
          },
          "metadata": {
            "needs_background": "light"
          },
          "output_type": "display_data"
        }
      ],
      "source": [
        "x = np.arange(150)/100\n",
        "plt.plot(x, \"r-\", label='$x$')\n",
        "plt.plot(x**2, \"b--\", label='$x^2$')\n",
        "plt.plot(x**3, \"k-.\", label='$x^3$')\n",
        "plt.legend()"
      ]
    },
    {
      "cell_type": "code",
      "execution_count": null,
      "metadata": {
        "colab": {
          "base_uri": "https://localhost:8080/",
          "height": 265
        },
        "id": "-EYZRfxpZx8F",
        "outputId": "0abe275f-d19b-4bd1-f9ed-88d56d43b6fd"
      },
      "outputs": [
        {
          "data": {
            "image/png": "[encoded data removed]",
            "text/plain": [
              "<Figure size 432x288 with 1 Axes>"
            ]
          },
          "metadata": {
            "needs_background": "light"
          },
          "output_type": "display_data"
        }
      ],
      "source": [
        "x = np.arange(150)/100\n",
        "plt.plot(x, \"r-\", label='$x$')\n",
        "plt.plot(x**2, \"b--\", label='$x^2$')\n",
        "plt.plot(x**3, \"k-.\", label='$x^3$')\n",
        "plt.legend()\n",
        "plt.grid()"
      ]
    },
    {
      "cell_type": "markdown",
      "metadata": {
        "id": "yuuWWeCAYAQp"
      },
      "source": [
        "### Bar Chart"
      ]
    },
    {
      "cell_type": "code",
      "execution_count": null,
      "metadata": {
        "colab": {
          "base_uri": "https://localhost:8080/"
        },
        "id": "Dh81rocGYNTn",
        "outputId": "943ccb04-155d-4a20-dfdf-8e6b38e72b9f"
      },
      "outputs": [
        {
          "data": {
            "text/plain": [
              "array([33, 32, 69, 34, 30, 30, 33, 42, 48, 65])"
            ]
          },
          "execution_count": 136,
          "metadata": {},
          "output_type": "execute_result"
        }
      ],
      "source": [
        "data"
      ]
    },
    {
      "cell_type": "code",
      "execution_count": null,
      "metadata": {
        "id": "-6q5csdeYgC_"
      },
      "outputs": [],
      "source": [
        "x = list('abcdefghij')"
      ]
    },
    {
      "cell_type": "code",
      "execution_count": null,
      "metadata": {
        "colab": {
          "base_uri": "https://localhost:8080/",
          "height": 283
        },
        "id": "vmltHPulYTIq",
        "outputId": "9d18f790-9059-4828-f8f4-b80f709333b0"
      },
      "outputs": [
        {
          "data": {
            "text/plain": [
              "<BarContainer object of 10 artists>"
            ]
          },
          "execution_count": 138,
          "metadata": {},
          "output_type": "execute_result"
        },
        {
          "data": {
            "image/png": "[encoded data removed]",
            "text/plain": [
              "<Figure size 432x288 with 1 Axes>"
            ]
          },
          "metadata": {
            "needs_background": "light"
          },
          "output_type": "display_data"
        }
      ],
      "source": [
        "plt.bar(x, data)"
      ]
    },
    {
      "cell_type": "markdown",
      "metadata": {
        "id": "izcNM4SOYwBn"
      },
      "source": [
        "### Pie Chart"
      ]
    },
    {
      "cell_type": "code",
      "execution_count": null,
      "metadata": {
        "colab": {
          "base_uri": "https://localhost:8080/"
        },
        "id": "IZ3JrR19YoCR",
        "outputId": "dea8dbb1-2853-4458-b7db-1c9b3e5b173d"
      },
      "outputs": [
        {
          "data": {
            "text/plain": [
              "array([33, 32, 69, 34, 30, 30, 33, 42, 48, 65])"
            ]
          },
          "execution_count": 139,
          "metadata": {},
          "output_type": "execute_result"
        }
      ],
      "source": [
        "data"
      ]
    },
    {
      "cell_type": "code",
      "execution_count": null,
      "metadata": {
        "colab": {
          "base_uri": "https://localhost:8080/",
          "height": 248
        },
        "id": "MhaWhiCDYzMg",
        "outputId": "66f4da39-c61f-4ec4-c47a-5989d566f86e"
      },
      "outputs": [
        {
          "data": {
            "image/png": "[encoded data removed]",
            "text/plain": [
              "<Figure size 432x288 with 1 Axes>"
            ]
          },
          "metadata": {},
          "output_type": "display_data"
        }
      ],
      "source": [
        "plt.pie(data, labels=x);"
      ]
    },
    {
      "cell_type": "code",
      "execution_count": null,
      "metadata": {
        "colab": {
          "base_uri": "https://localhost:8080/",
          "height": 248
        },
        "id": "KGT-OHoGZBja",
        "outputId": "f1b08f54-52a5-4815-cb17-745da2429b06"
      },
      "outputs": [
        {
          "data": {
            "image/png": "[encoded data removed]",
            "text/plain": [
              "<Figure size 432x288 with 1 Axes>"
            ]
          },
          "metadata": {},
          "output_type": "display_data"
        }
      ],
      "source": [
        "plt.pie(data, labels=x, autopct='%1.2f%%');"
      ]
    },
    {
      "cell_type": "markdown",
      "metadata": {
        "id": "SxndOZe4aUO0"
      },
      "source": [
        "## Pandas\n",
        "\n",
        "* Series\n",
        "* DataFrame"
      ]
    },
    {
      "cell_type": "code",
      "execution_count": null,
      "metadata": {
        "id": "ItCNjDCjZjz4"
      },
      "outputs": [],
      "source": [
        "!pip install yfinance"
      ]
    },
    {
      "cell_type": "code",
      "execution_count": null,
      "metadata": {
        "id": "yK6BOZJsarj6"
      },
      "outputs": [],
      "source": [
        "import yfinance as yf"
      ]
    },
    {
      "cell_type": "code",
      "execution_count": null,
      "metadata": {
        "colab": {
          "base_uri": "https://localhost:8080/"
        },
        "id": "t64rEbMra6V-",
        "outputId": "27b083ec-5302-4c4f-d87f-493e2e1cf2c1"
      },
      "outputs": [
        {
          "name": "stdout",
          "output_type": "stream",
          "text": [
            "\r[*********************100%***********************]  1 of 1 completed\n"
          ]
        }
      ],
      "source": [
        "df = yf.download('TSLA')"
      ]
    },
    {
      "cell_type": "code",
      "execution_count": null,
      "metadata": {
        "colab": {
          "base_uri": "https://localhost:8080/",
          "height": 143
        },
        "id": "3Buno14mbI6_",
        "outputId": "4a6e10be-6383-4857-ba7f-b585b02cc451"
      },
      "outputs": [
        {
          "data": {
            "text/html": [
              "\n",
              "  <div id=\"df-39fce8c7-ce97-4fbf-90e4-dc1e090d4c4b\">\n",
              "    <div class=\"colab-df-container\">\n",
              "      <div>\n",
              "<style scoped>\n",
              "    .dataframe tbody tr th:only-of-type {\n",
              "        vertical-align: middle;\n",
              "    }\n",
              "\n",
              "    .dataframe tbody tr th {\n",
              "        vertical-align: top;\n",
              "    }\n",
              "\n",
              "    .dataframe thead th {\n",
              "        text-align: right;\n",
              "    }\n",
              "</style>\n",
              "<table border=\"1\" class=\"dataframe\">\n",
              "  <thead>\n",
              "    <tr style=\"text-align: right;\">\n",
              "      <th></th>\n",
              "      <th>Open</th>\n",
              "      <th>High</th>\n",
              "      <th>Low</th>\n",
              "      <th>Close</th>\n",
              "      <th>Adj Close</th>\n",
              "      <th>Volume</th>\n",
              "    </tr>\n",
              "    <tr>\n",
              "      <th>Date</th>\n",
              "      <th></th>\n",
              "      <th></th>\n",
              "      <th></th>\n",
              "      <th></th>\n",
              "      <th></th>\n",
              "      <th></th>\n",
              "    </tr>\n",
              "  </thead>\n",
              "  <tbody>\n",
              "    <tr>\n",
              "      <th>2010-06-29</th>\n",
              "      <td>3.800</td>\n",
              "      <td>5.000</td>\n",
              "      <td>3.508</td>\n",
              "      <td>4.778</td>\n",
              "      <td>4.778</td>\n",
              "      <td>93831500</td>\n",
              "    </tr>\n",
              "    <tr>\n",
              "      <th>2010-06-30</th>\n",
              "      <td>5.158</td>\n",
              "      <td>6.084</td>\n",
              "      <td>4.660</td>\n",
              "      <td>4.766</td>\n",
              "      <td>4.766</td>\n",
              "      <td>85935500</td>\n",
              "    </tr>\n",
              "  </tbody>\n",
              "</table>\n",
              "</div>\n",
              "      <button class=\"colab-df-convert\" onclick=\"convertToInteractive('df-39fce8c7-ce97-4fbf-90e4-dc1e090d4c4b')\"\n",
              "              title=\"Convert this dataframe to an interactive table.\"\n",
              "              style=\"display:none;\">\n",
              "        \n",
              "  <svg xmlns=\"http://www.w3.org/2000/svg\" height=\"24px\"viewBox=\"0 0 24 24\"\n",
              "       width=\"24px\">\n",
              "    <path d=\"M0 0h24v24H0V0z\" fill=\"none\"/>\n",
              "    <path d=\"M18.56 5.44l.94 2.06.94-2.06 2.06-.94-2.06-.94-.94-2.06-.94 2.06-2.06.94zm-11 1L8.5 8.5l.94-2.06 2.06-.94-2.06-.94L8.5 2.5l-.94 2.06-2.06.94zm10 10l.94 2.06.94-2.06 2.06-.94-2.06-.94-.94-2.06-.94 2.06-2.06.94z\"/><path d=\"M17.41 7.96l-1.37-1.37c-.4-.4-.92-.59-1.43-.59-.52 0-1.04.2-1.43.59L10.3 9.45l-7.72 7.72c-.78.78-.78 2.05 0 2.83L4 21.41c.39.39.9.59 1.41.59.51 0 1.02-.2 1.41-.59l7.78-7.78 2.81-2.81c.8-.78.8-2.07 0-2.86zM5.41 20L4 18.59l7.72-7.72 1.47 1.35L5.41 20z\"/>\n",
              "  </svg>\n",
              "      </button>\n",
              "      \n",
              "  <style>\n",
              "    .colab-df-container {\n",
              "      display:flex;\n",
              "      flex-wrap:wrap;\n",
              "      gap: 12px;\n",
              "    }\n",
              "\n",
              "    .colab-df-convert {\n",
              "      background-color: #E8F0FE;\n",
              "      border: none;\n",
              "      border-radius: 50%;\n",
              "      cursor: pointer;\n",
              "      display: none;\n",
              "      fill: #1967D2;\n",
              "      height: 32px;\n",
              "      padding: 0 0 0 0;\n",
              "      width: 32px;\n",
              "    }\n",
              "\n",
              "    .colab-df-convert:hover {\n",
              "      background-color: #E2EBFA;\n",
              "      box-shadow: 0px 1px 2px rgba(60, 64, 67, 0.3), 0px 1px 3px 1px rgba(60, 64, 67, 0.15);\n",
              "      fill: #174EA6;\n",
              "    }\n",
              "\n",
              "    [theme=dark] .colab-df-convert {\n",
              "      background-color: #3B4455;\n",
              "      fill: #D2E3FC;\n",
              "    }\n",
              "\n",
              "    [theme=dark] .colab-df-convert:hover {\n",
              "      background-color: #434B5C;\n",
              "      box-shadow: 0px 1px 3px 1px rgba(0, 0, 0, 0.15);\n",
              "      filter: drop-shadow(0px 1px 2px rgba(0, 0, 0, 0.3));\n",
              "      fill: #FFFFFF;\n",
              "    }\n",
              "  </style>\n",
              "\n",
              "      <script>\n",
              "        const buttonEl =\n",
              "          document.querySelector('#df-39fce8c7-ce97-4fbf-90e4-dc1e090d4c4b button.colab-df-convert');\n",
              "        buttonEl.style.display =\n",
              "          google.colab.kernel.accessAllowed ? 'block' : 'none';\n",
              "\n",
              "        async function convertToInteractive(key) {\n",
              "          const element = document.querySelector('#df-39fce8c7-ce97-4fbf-90e4-dc1e090d4c4b');\n",
              "          const dataTable =\n",
              "            await google.colab.kernel.invokeFunction('convertToInteractive',\n",
              "                                                     [key], {});\n",
              "          if (!dataTable) return;\n",
              "\n",
              "          const docLinkHtml = 'Like what you see? Visit the ' +\n",
              "            '<a target=\"_blank\" href=https://colab.research.google.com/notebooks/data_table.ipynb>data table notebook</a>'\n",
              "            + ' to learn more about interactive tables.';\n",
              "          element.innerHTML = '';\n",
              "          dataTable['output_type'] = 'display_data';\n",
              "          await google.colab.output.renderOutput(dataTable, element);\n",
              "          const docLink = document.createElement('div');\n",
              "          docLink.innerHTML = docLinkHtml;\n",
              "          element.appendChild(docLink);\n",
              "        }\n",
              "      </script>\n",
              "    </div>\n",
              "  </div>\n",
              "  "
            ],
            "text/plain": [
              "             Open   High    Low  Close  Adj Close    Volume\n",
              "Date                                                       \n",
              "2010-06-29  3.800  5.000  3.508  4.778      4.778  93831500\n",
              "2010-06-30  5.158  6.084  4.660  4.766      4.766  85935500"
            ]
          },
          "execution_count": 148,
          "metadata": {},
          "output_type": "execute_result"
        }
      ],
      "source": [
        "df[:2]"
      ]
    },
    {
      "cell_type": "code",
      "execution_count": null,
      "metadata": {
        "colab": {
          "base_uri": "https://localhost:8080/",
          "height": 143
        },
        "id": "p0lMgv0AbtoV",
        "outputId": "92252482-61a3-4ce5-a063-1844cb5df914"
      },
      "outputs": [
        {
          "data": {
            "text/html": [
              "\n",
              "  <div id=\"df-7dcdda0f-ddc5-4157-a7e6-e882ee6fc7fd\">\n",
              "    <div class=\"colab-df-container\">\n",
              "      <div>\n",
              "<style scoped>\n",
              "    .dataframe tbody tr th:only-of-type {\n",
              "        vertical-align: middle;\n",
              "    }\n",
              "\n",
              "    .dataframe tbody tr th {\n",
              "        vertical-align: top;\n",
              "    }\n",
              "\n",
              "    .dataframe thead th {\n",
              "        text-align: right;\n",
              "    }\n",
              "</style>\n",
              "<table border=\"1\" class=\"dataframe\">\n",
              "  <thead>\n",
              "    <tr style=\"text-align: right;\">\n",
              "      <th></th>\n",
              "      <th>Open</th>\n",
              "      <th>High</th>\n",
              "      <th>Low</th>\n",
              "      <th>Close</th>\n",
              "      <th>Adj Close</th>\n",
              "      <th>Volume</th>\n",
              "    </tr>\n",
              "    <tr>\n",
              "      <th>Date</th>\n",
              "      <th></th>\n",
              "      <th></th>\n",
              "      <th></th>\n",
              "      <th></th>\n",
              "      <th></th>\n",
              "      <th></th>\n",
              "    </tr>\n",
              "  </thead>\n",
              "  <tbody>\n",
              "    <tr>\n",
              "      <th>2022-07-26</th>\n",
              "      <td>799.539978</td>\n",
              "      <td>801.929993</td>\n",
              "      <td>768.789978</td>\n",
              "      <td>776.580017</td>\n",
              "      <td>776.580017</td>\n",
              "      <td>22273600</td>\n",
              "    </tr>\n",
              "    <tr>\n",
              "      <th>2022-07-27</th>\n",
              "      <td>791.429993</td>\n",
              "      <td>827.780029</td>\n",
              "      <td>785.369995</td>\n",
              "      <td>824.460022</td>\n",
              "      <td>824.460022</td>\n",
              "      <td>29286500</td>\n",
              "    </tr>\n",
              "  </tbody>\n",
              "</table>\n",
              "</div>\n",
              "      <button class=\"colab-df-convert\" onclick=\"convertToInteractive('df-7dcdda0f-ddc5-4157-a7e6-e882ee6fc7fd')\"\n",
              "              title=\"Convert this dataframe to an interactive table.\"\n",
              "              style=\"display:none;\">\n",
              "        \n",
              "  <svg xmlns=\"http://www.w3.org/2000/svg\" height=\"24px\"viewBox=\"0 0 24 24\"\n",
              "       width=\"24px\">\n",
              "    <path d=\"M0 0h24v24H0V0z\" fill=\"none\"/>\n",
              "    <path d=\"M18.56 5.44l.94 2.06.94-2.06 2.06-.94-2.06-.94-.94-2.06-.94 2.06-2.06.94zm-11 1L8.5 8.5l.94-2.06 2.06-.94-2.06-.94L8.5 2.5l-.94 2.06-2.06.94zm10 10l.94 2.06.94-2.06 2.06-.94-2.06-.94-.94-2.06-.94 2.06-2.06.94z\"/><path d=\"M17.41 7.96l-1.37-1.37c-.4-.4-.92-.59-1.43-.59-.52 0-1.04.2-1.43.59L10.3 9.45l-7.72 7.72c-.78.78-.78 2.05 0 2.83L4 21.41c.39.39.9.59 1.41.59.51 0 1.02-.2 1.41-.59l7.78-7.78 2.81-2.81c.8-.78.8-2.07 0-2.86zM5.41 20L4 18.59l7.72-7.72 1.47 1.35L5.41 20z\"/>\n",
              "  </svg>\n",
              "      </button>\n",
              "      \n",
              "  <style>\n",
              "    .colab-df-container {\n",
              "      display:flex;\n",
              "      flex-wrap:wrap;\n",
              "      gap: 12px;\n",
              "    }\n",
              "\n",
              "    .colab-df-convert {\n",
              "      background-color: #E8F0FE;\n",
              "      border: none;\n",
              "      border-radius: 50%;\n",
              "      cursor: pointer;\n",
              "      display: none;\n",
              "      fill: #1967D2;\n",
              "      height: 32px;\n",
              "      padding: 0 0 0 0;\n",
              "      width: 32px;\n",
              "    }\n",
              "\n",
              "    .colab-df-convert:hover {\n",
              "      background-color: #E2EBFA;\n",
              "      box-shadow: 0px 1px 2px rgba(60, 64, 67, 0.3), 0px 1px 3px 1px rgba(60, 64, 67, 0.15);\n",
              "      fill: #174EA6;\n",
              "    }\n",
              "\n",
              "    [theme=dark] .colab-df-convert {\n",
              "      background-color: #3B4455;\n",
              "      fill: #D2E3FC;\n",
              "    }\n",
              "\n",
              "    [theme=dark] .colab-df-convert:hover {\n",
              "      background-color: #434B5C;\n",
              "      box-shadow: 0px 1px 3px 1px rgba(0, 0, 0, 0.15);\n",
              "      filter: drop-shadow(0px 1px 2px rgba(0, 0, 0, 0.3));\n",
              "      fill: #FFFFFF;\n",
              "    }\n",
              "  </style>\n",
              "\n",
              "      <script>\n",
              "        const buttonEl =\n",
              "          document.querySelector('#df-7dcdda0f-ddc5-4157-a7e6-e882ee6fc7fd button.colab-df-convert');\n",
              "        buttonEl.style.display =\n",
              "          google.colab.kernel.accessAllowed ? 'block' : 'none';\n",
              "\n",
              "        async function convertToInteractive(key) {\n",
              "          const element = document.querySelector('#df-7dcdda0f-ddc5-4157-a7e6-e882ee6fc7fd');\n",
              "          const dataTable =\n",
              "            await google.colab.kernel.invokeFunction('convertToInteractive',\n",
              "                                                     [key], {});\n",
              "          if (!dataTable) return;\n",
              "\n",
              "          const docLinkHtml = 'Like what you see? Visit the ' +\n",
              "            '<a target=\"_blank\" href=https://colab.research.google.com/notebooks/data_table.ipynb>data table notebook</a>'\n",
              "            + ' to learn more about interactive tables.';\n",
              "          element.innerHTML = '';\n",
              "          dataTable['output_type'] = 'display_data';\n",
              "          await google.colab.output.renderOutput(dataTable, element);\n",
              "          const docLink = document.createElement('div');\n",
              "          docLink.innerHTML = docLinkHtml;\n",
              "          element.appendChild(docLink);\n",
              "        }\n",
              "      </script>\n",
              "    </div>\n",
              "  </div>\n",
              "  "
            ],
            "text/plain": [
              "                  Open        High         Low       Close   Adj Close  \\\n",
              "Date                                                                     \n",
              "2022-07-26  799.539978  801.929993  768.789978  776.580017  776.580017   \n",
              "2022-07-27  791.429993  827.780029  785.369995  824.460022  824.460022   \n",
              "\n",
              "              Volume  \n",
              "Date                  \n",
              "2022-07-26  22273600  \n",
              "2022-07-27  29286500  "
            ]
          },
          "execution_count": 149,
          "metadata": {},
          "output_type": "execute_result"
        }
      ],
      "source": [
        "df[-2:]"
      ]
    },
    {
      "cell_type": "code",
      "execution_count": null,
      "metadata": {
        "colab": {
          "base_uri": "https://localhost:8080/"
        },
        "id": "48dDTRczcBIQ",
        "outputId": "b5864cab-88e2-4a20-e6d2-182a74ce82e3"
      },
      "outputs": [
        {
          "data": {
            "text/plain": [
              "pandas.core.frame.DataFrame"
            ]
          },
          "execution_count": 150,
          "metadata": {},
          "output_type": "execute_result"
        }
      ],
      "source": [
        "type(df)"
      ]
    },
    {
      "cell_type": "code",
      "execution_count": null,
      "metadata": {
        "colab": {
          "base_uri": "https://localhost:8080/"
        },
        "id": "QcsvNx2pcPK7",
        "outputId": "8d29f061-119c-44e6-c5f9-e7a3fd72e2e0"
      },
      "outputs": [
        {
          "data": {
            "text/plain": [
              "Date\n",
              "2010-06-29      4.778000\n",
              "2010-06-30      4.766000\n",
              "2010-07-01      4.392000\n",
              "2010-07-02      3.840000\n",
              "2010-07-06      3.222000\n",
              "                 ...    \n",
              "2022-07-21    815.119995\n",
              "2022-07-22    816.729980\n",
              "2022-07-25    805.299988\n",
              "2022-07-26    776.580017\n",
              "2022-07-27    824.460022\n",
              "Name: Close, Length: 3041, dtype: float64"
            ]
          },
          "execution_count": 151,
          "metadata": {},
          "output_type": "execute_result"
        }
      ],
      "source": [
        "df['Close']"
      ]
    },
    {
      "cell_type": "code",
      "execution_count": null,
      "metadata": {
        "colab": {
          "base_uri": "https://localhost:8080/"
        },
        "id": "snlzncMzcXwX",
        "outputId": "5456e80e-dce1-4590-e282-bbb9c41bfd68"
      },
      "outputs": [
        {
          "data": {
            "text/plain": [
              "pandas.core.series.Series"
            ]
          },
          "execution_count": 152,
          "metadata": {},
          "output_type": "execute_result"
        }
      ],
      "source": [
        "type(df['Close'])"
      ]
    },
    {
      "cell_type": "code",
      "execution_count": null,
      "metadata": {
        "colab": {
          "base_uri": "https://localhost:8080/"
        },
        "id": "HqwYY2D2cbZF",
        "outputId": "79160298-a8e7-4045-dfa3-1c2f6599209f"
      },
      "outputs": [
        {
          "data": {
            "text/plain": [
              "1725533.7861789474"
            ]
          },
          "execution_count": 153,
          "metadata": {},
          "output_type": "execute_result"
        }
      ],
      "source": [
        "df['Close']['2022-07-27']/df['Close']['2010-06-29']*10000"
      ]
    },
    {
      "cell_type": "code",
      "execution_count": null,
      "metadata": {
        "colab": {
          "base_uri": "https://localhost:8080/"
        },
        "id": "iwSxsyzwdYkI",
        "outputId": "e7c8ba6e-4a2a-40d5-8cf6-4bfd62d4e856"
      },
      "outputs": [
        {
          "data": {
            "text/plain": [
              "1725533.7861789474"
            ]
          },
          "execution_count": 154,
          "metadata": {},
          "output_type": "execute_result"
        }
      ],
      "source": [
        "df['Close'][-1]/df['Close'][0]*10000"
      ]
    },
    {
      "cell_type": "code",
      "execution_count": null,
      "metadata": {
        "colab": {
          "base_uri": "https://localhost:8080/",
          "height": 555
        },
        "id": "ylHnA3N1dfHQ",
        "outputId": "aeaa0829-536f-4c8f-c939-083baff53ab9"
      },
      "outputs": [
        {
          "name": "stderr",
          "output_type": "stream",
          "text": [
            "/usr/local/lib/python3.7/dist-packages/ipykernel_launcher.py:1: FutureWarning: Indexing a DataFrame with a datetimelike index using a single string to slice the rows, like `frame[string]`, is deprecated and will be removed in a future version. Use `frame.loc[string]` instead.\n",
            "  \"\"\"Entry point for launching an IPython kernel.\n"
          ]
        },
        {
          "data": {
            "text/html": [
              "\n",
              "  <div id=\"df-b3e0923a-4306-4751-b07e-df07b778d276\">\n",
              "    <div class=\"colab-df-container\">\n",
              "      <div>\n",
              "<style scoped>\n",
              "    .dataframe tbody tr th:only-of-type {\n",
              "        vertical-align: middle;\n",
              "    }\n",
              "\n",
              "    .dataframe tbody tr th {\n",
              "        vertical-align: top;\n",
              "    }\n",
              "\n",
              "    .dataframe thead th {\n",
              "        text-align: right;\n",
              "    }\n",
              "</style>\n",
              "<table border=\"1\" class=\"dataframe\">\n",
              "  <thead>\n",
              "    <tr style=\"text-align: right;\">\n",
              "      <th></th>\n",
              "      <th>Open</th>\n",
              "      <th>High</th>\n",
              "      <th>Low</th>\n",
              "      <th>Close</th>\n",
              "      <th>Adj Close</th>\n",
              "      <th>Volume</th>\n",
              "    </tr>\n",
              "    <tr>\n",
              "      <th>Date</th>\n",
              "      <th></th>\n",
              "      <th></th>\n",
              "      <th></th>\n",
              "      <th></th>\n",
              "      <th></th>\n",
              "      <th></th>\n",
              "    </tr>\n",
              "  </thead>\n",
              "  <tbody>\n",
              "    <tr>\n",
              "      <th>2022-01-03</th>\n",
              "      <td>1147.750000</td>\n",
              "      <td>1201.069946</td>\n",
              "      <td>1136.040039</td>\n",
              "      <td>1199.780029</td>\n",
              "      <td>1199.780029</td>\n",
              "      <td>34643800</td>\n",
              "    </tr>\n",
              "    <tr>\n",
              "      <th>2022-01-04</th>\n",
              "      <td>1189.550049</td>\n",
              "      <td>1208.000000</td>\n",
              "      <td>1123.050049</td>\n",
              "      <td>1149.589966</td>\n",
              "      <td>1149.589966</td>\n",
              "      <td>33416100</td>\n",
              "    </tr>\n",
              "    <tr>\n",
              "      <th>2022-01-05</th>\n",
              "      <td>1146.650024</td>\n",
              "      <td>1170.339966</td>\n",
              "      <td>1081.010010</td>\n",
              "      <td>1088.119995</td>\n",
              "      <td>1088.119995</td>\n",
              "      <td>26706600</td>\n",
              "    </tr>\n",
              "    <tr>\n",
              "      <th>2022-01-06</th>\n",
              "      <td>1077.000000</td>\n",
              "      <td>1088.000000</td>\n",
              "      <td>1020.500000</td>\n",
              "      <td>1064.699951</td>\n",
              "      <td>1064.699951</td>\n",
              "      <td>30112200</td>\n",
              "    </tr>\n",
              "    <tr>\n",
              "      <th>2022-01-07</th>\n",
              "      <td>1080.369995</td>\n",
              "      <td>1080.930054</td>\n",
              "      <td>1010.000000</td>\n",
              "      <td>1026.959961</td>\n",
              "      <td>1026.959961</td>\n",
              "      <td>28054900</td>\n",
              "    </tr>\n",
              "    <tr>\n",
              "      <th>...</th>\n",
              "      <td>...</td>\n",
              "      <td>...</td>\n",
              "      <td>...</td>\n",
              "      <td>...</td>\n",
              "      <td>...</td>\n",
              "      <td>...</td>\n",
              "    </tr>\n",
              "    <tr>\n",
              "      <th>2022-07-21</th>\n",
              "      <td>765.320007</td>\n",
              "      <td>819.799988</td>\n",
              "      <td>764.599976</td>\n",
              "      <td>815.119995</td>\n",
              "      <td>815.119995</td>\n",
              "      <td>47344100</td>\n",
              "    </tr>\n",
              "    <tr>\n",
              "      <th>2022-07-22</th>\n",
              "      <td>828.659973</td>\n",
              "      <td>842.359985</td>\n",
              "      <td>812.140015</td>\n",
              "      <td>816.729980</td>\n",
              "      <td>816.729980</td>\n",
              "      <td>34421200</td>\n",
              "    </tr>\n",
              "    <tr>\n",
              "      <th>2022-07-25</th>\n",
              "      <td>816.650024</td>\n",
              "      <td>822.440002</td>\n",
              "      <td>802.200012</td>\n",
              "      <td>805.299988</td>\n",
              "      <td>805.299988</td>\n",
              "      <td>21357800</td>\n",
              "    </tr>\n",
              "    <tr>\n",
              "      <th>2022-07-26</th>\n",
              "      <td>799.539978</td>\n",
              "      <td>801.929993</td>\n",
              "      <td>768.789978</td>\n",
              "      <td>776.580017</td>\n",
              "      <td>776.580017</td>\n",
              "      <td>22273600</td>\n",
              "    </tr>\n",
              "    <tr>\n",
              "      <th>2022-07-27</th>\n",
              "      <td>791.429993</td>\n",
              "      <td>827.780029</td>\n",
              "      <td>785.369995</td>\n",
              "      <td>824.460022</td>\n",
              "      <td>824.460022</td>\n",
              "      <td>29286500</td>\n",
              "    </tr>\n",
              "  </tbody>\n",
              "</table>\n",
              "<p>142 rows × 6 columns</p>\n",
              "</div>\n",
              "      <button class=\"colab-df-convert\" onclick=\"convertToInteractive('df-b3e0923a-4306-4751-b07e-df07b778d276')\"\n",
              "              title=\"Convert this dataframe to an interactive table.\"\n",
              "              style=\"display:none;\">\n",
              "        \n",
              "  <svg xmlns=\"http://www.w3.org/2000/svg\" height=\"24px\"viewBox=\"0 0 24 24\"\n",
              "       width=\"24px\">\n",
              "    <path d=\"M0 0h24v24H0V0z\" fill=\"none\"/>\n",
              "    <path d=\"M18.56 5.44l.94 2.06.94-2.06 2.06-.94-2.06-.94-.94-2.06-.94 2.06-2.06.94zm-11 1L8.5 8.5l.94-2.06 2.06-.94-2.06-.94L8.5 2.5l-.94 2.06-2.06.94zm10 10l.94 2.06.94-2.06 2.06-.94-2.06-.94-.94-2.06-.94 2.06-2.06.94z\"/><path d=\"M17.41 7.96l-1.37-1.37c-.4-.4-.92-.59-1.43-.59-.52 0-1.04.2-1.43.59L10.3 9.45l-7.72 7.72c-.78.78-.78 2.05 0 2.83L4 21.41c.39.39.9.59 1.41.59.51 0 1.02-.2 1.41-.59l7.78-7.78 2.81-2.81c.8-.78.8-2.07 0-2.86zM5.41 20L4 18.59l7.72-7.72 1.47 1.35L5.41 20z\"/>\n",
              "  </svg>\n",
              "      </button>\n",
              "      \n",
              "  <style>\n",
              "    .colab-df-container {\n",
              "      display:flex;\n",
              "      flex-wrap:wrap;\n",
              "      gap: 12px;\n",
              "    }\n",
              "\n",
              "    .colab-df-convert {\n",
              "      background-color: #E8F0FE;\n",
              "      border: none;\n",
              "      border-radius: 50%;\n",
              "      cursor: pointer;\n",
              "      display: none;\n",
              "      fill: #1967D2;\n",
              "      height: 32px;\n",
              "      padding: 0 0 0 0;\n",
              "      width: 32px;\n",
              "    }\n",
              "\n",
              "    .colab-df-convert:hover {\n",
              "      background-color: #E2EBFA;\n",
              "      box-shadow: 0px 1px 2px rgba(60, 64, 67, 0.3), 0px 1px 3px 1px rgba(60, 64, 67, 0.15);\n",
              "      fill: #174EA6;\n",
              "    }\n",
              "\n",
              "    [theme=dark] .colab-df-convert {\n",
              "      background-color: #3B4455;\n",
              "      fill: #D2E3FC;\n",
              "    }\n",
              "\n",
              "    [theme=dark] .colab-df-convert:hover {\n",
              "      background-color: #434B5C;\n",
              "      box-shadow: 0px 1px 3px 1px rgba(0, 0, 0, 0.15);\n",
              "      filter: drop-shadow(0px 1px 2px rgba(0, 0, 0, 0.3));\n",
              "      fill: #FFFFFF;\n",
              "    }\n",
              "  </style>\n",
              "\n",
              "      <script>\n",
              "        const buttonEl =\n",
              "          document.querySelector('#df-b3e0923a-4306-4751-b07e-df07b778d276 button.colab-df-convert');\n",
              "        buttonEl.style.display =\n",
              "          google.colab.kernel.accessAllowed ? 'block' : 'none';\n",
              "\n",
              "        async function convertToInteractive(key) {\n",
              "          const element = document.querySelector('#df-b3e0923a-4306-4751-b07e-df07b778d276');\n",
              "          const dataTable =\n",
              "            await google.colab.kernel.invokeFunction('convertToInteractive',\n",
              "                                                     [key], {});\n",
              "          if (!dataTable) return;\n",
              "\n",
              "          const docLinkHtml = 'Like what you see? Visit the ' +\n",
              "            '<a target=\"_blank\" href=https://colab.research.google.com/notebooks/data_table.ipynb>data table notebook</a>'\n",
              "            + ' to learn more about interactive tables.';\n",
              "          element.innerHTML = '';\n",
              "          dataTable['output_type'] = 'display_data';\n",
              "          await google.colab.output.renderOutput(dataTable, element);\n",
              "          const docLink = document.createElement('div');\n",
              "          docLink.innerHTML = docLinkHtml;\n",
              "          element.appendChild(docLink);\n",
              "        }\n",
              "      </script>\n",
              "    </div>\n",
              "  </div>\n",
              "  "
            ],
            "text/plain": [
              "                   Open         High          Low        Close    Adj Close  \\\n",
              "Date                                                                          \n",
              "2022-01-03  1147.750000  1201.069946  1136.040039  1199.780029  1199.780029   \n",
              "2022-01-04  1189.550049  1208.000000  1123.050049  1149.589966  1149.589966   \n",
              "2022-01-05  1146.650024  1170.339966  1081.010010  1088.119995  1088.119995   \n",
              "2022-01-06  1077.000000  1088.000000  1020.500000  1064.699951  1064.699951   \n",
              "2022-01-07  1080.369995  1080.930054  1010.000000  1026.959961  1026.959961   \n",
              "...                 ...          ...          ...          ...          ...   \n",
              "2022-07-21   765.320007   819.799988   764.599976   815.119995   815.119995   \n",
              "2022-07-22   828.659973   842.359985   812.140015   816.729980   816.729980   \n",
              "2022-07-25   816.650024   822.440002   802.200012   805.299988   805.299988   \n",
              "2022-07-26   799.539978   801.929993   768.789978   776.580017   776.580017   \n",
              "2022-07-27   791.429993   827.780029   785.369995   824.460022   824.460022   \n",
              "\n",
              "              Volume  \n",
              "Date                  \n",
              "2022-01-03  34643800  \n",
              "2022-01-04  33416100  \n",
              "2022-01-05  26706600  \n",
              "2022-01-06  30112200  \n",
              "2022-01-07  28054900  \n",
              "...              ...  \n",
              "2022-07-21  47344100  \n",
              "2022-07-22  34421200  \n",
              "2022-07-25  21357800  \n",
              "2022-07-26  22273600  \n",
              "2022-07-27  29286500  \n",
              "\n",
              "[142 rows x 6 columns]"
            ]
          },
          "execution_count": 155,
          "metadata": {},
          "output_type": "execute_result"
        }
      ],
      "source": [
        "df['2022']"
      ]
    },
    {
      "cell_type": "code",
      "execution_count": null,
      "metadata": {
        "colab": {
          "base_uri": "https://localhost:8080/"
        },
        "id": "109qT2lkgvjR",
        "outputId": "ed64a8e1-9fda-48f0-cb1b-e9e2e8bae9d6"
      },
      "outputs": [
        {
          "name": "stderr",
          "output_type": "stream",
          "text": [
            "/usr/local/lib/python3.7/dist-packages/ipykernel_launcher.py:1: FutureWarning: Indexing a DataFrame with a datetimelike index using a single string to slice the rows, like `frame[string]`, is deprecated and will be removed in a future version. Use `frame.loc[string]` instead.\n",
            "  \"\"\"Entry point for launching an IPython kernel.\n"
          ]
        },
        {
          "data": {
            "text/plain": [
              "0.6871759837974857"
            ]
          },
          "execution_count": 156,
          "metadata": {},
          "output_type": "execute_result"
        }
      ],
      "source": [
        "# 今年(2022)以來的投資報酬率\n",
        "df['2022']['Close'][-1]/df['2022']['Close'][0]"
      ]
    },
    {
      "cell_type": "code",
      "execution_count": null,
      "metadata": {
        "colab": {
          "base_uri": "https://localhost:8080/"
        },
        "id": "JdfoJUVXhBXn",
        "outputId": "9db818f8-c202-4b70-c30a-2af2254e1d74"
      },
      "outputs": [
        {
          "data": {
            "text/plain": [
              "[0, 1, 2, 3, 4]"
            ]
          },
          "execution_count": 157,
          "metadata": {},
          "output_type": "execute_result"
        }
      ],
      "source": [
        "list(range(5))"
      ]
    },
    {
      "cell_type": "code",
      "execution_count": null,
      "metadata": {
        "id": "kJiThbn9hQ3f"
      },
      "outputs": [],
      "source": [
        "range?"
      ]
    },
    {
      "cell_type": "code",
      "execution_count": null,
      "metadata": {
        "colab": {
          "base_uri": "https://localhost:8080/"
        },
        "id": "FfT2H1jOhTqv",
        "outputId": "9146578d-8b29-4c24-c9ce-84d0bbb8f319"
      },
      "outputs": [
        {
          "data": {
            "text/plain": [
              "[2010, 2011, 2012, 2013, 2014, 2015, 2016, 2017, 2018, 2019, 2020, 2021, 2022]"
            ]
          },
          "execution_count": 159,
          "metadata": {},
          "output_type": "execute_result"
        }
      ],
      "source": [
        "list(range(2010, 2023))"
      ]
    },
    {
      "cell_type": "code",
      "execution_count": null,
      "metadata": {
        "colab": {
          "base_uri": "https://localhost:8080/"
        },
        "id": "jwjn0qjMhiqd",
        "outputId": "2f69eda6-0842-475d-d36a-793d04eb95cb"
      },
      "outputs": [
        {
          "name": "stdout",
          "output_type": "stream",
          "text": [
            "2010 ==> 1.11469241307951\n",
            "2011 ==> 1.072877539455723\n",
            "2012 ==> 1.2061965733953064\n",
            "2013 ==> 4.2542421279559335\n",
            "2014 ==> 1.4817454285581042\n",
            "2015 ==> 1.0943869279954357\n",
            "2016 ==> 0.9564925410979382\n",
            "2017 ==> 1.4348587991500041\n",
            "2018 ==> 1.0382802646164202\n",
            "2019 ==> 1.3489294904017222\n",
            "2020 ==> 8.200506285659165\n",
            "2021 ==> 1.4481000877175962\n",
            "2022 ==> 0.6871759837974857\n"
          ]
        },
        {
          "name": "stderr",
          "output_type": "stream",
          "text": [
            "/usr/local/lib/python3.7/dist-packages/ipykernel_launcher.py:2: FutureWarning: Indexing a DataFrame with a datetimelike index using a single string to slice the rows, like `frame[string]`, is deprecated and will be removed in a future version. Use `frame.loc[string]` instead.\n",
            "  \n"
          ]
        }
      ],
      "source": [
        "for i in range(2010, 2023):\n",
        "  ret = df[str(i)]['Close'][-1]/df[str(i)]['Close'][0]\n",
        "  print(f\"{i} ==> {ret}\")"
      ]
    },
    {
      "cell_type": "code",
      "execution_count": null,
      "metadata": {
        "colab": {
          "base_uri": "https://localhost:8080/",
          "height": 283
        },
        "id": "m7QM8tkxh-el",
        "outputId": "61a9ae5a-2939-41ee-d841-228cfc930bfc"
      },
      "outputs": [
        {
          "data": {
            "text/plain": [
              "[<matplotlib.lines.Line2D at 0x7f06a98f9890>]"
            ]
          },
          "execution_count": 161,
          "metadata": {},
          "output_type": "execute_result"
        },
        {
          "data": {
            "image/png": "[encoded data removed]",
            "text/plain": [
              "<Figure size 432x288 with 1 Axes>"
            ]
          },
          "metadata": {
            "needs_background": "light"
          },
          "output_type": "display_data"
        }
      ],
      "source": [
        "plt.plot(df['Close'])"
      ]
    },
    {
      "cell_type": "code",
      "execution_count": null,
      "metadata": {
        "colab": {
          "base_uri": "https://localhost:8080/",
          "height": 287
        },
        "id": "Q3Srrdwmir4e",
        "outputId": "2ce83380-10f0-4e26-b56f-5d8307876ad1"
      },
      "outputs": [
        {
          "data": {
            "text/plain": [
              "<matplotlib.axes._subplots.AxesSubplot at 0x7f06a8363910>"
            ]
          },
          "execution_count": 162,
          "metadata": {},
          "output_type": "execute_result"
        },
        {
          "data": {
            "image/png": "[encoded data removed]",
            "text/plain": [
              "<Figure size 432x288 with 1 Axes>"
            ]
          },
          "metadata": {
            "needs_background": "light"
          },
          "output_type": "display_data"
        }
      ],
      "source": [
        "df['Close'].plot()"
      ]
    },
    {
      "cell_type": "code",
      "execution_count": null,
      "metadata": {
        "colab": {
          "base_uri": "https://localhost:8080/",
          "height": 295
        },
        "id": "4mzng-wEiw8L",
        "outputId": "8a0a22d9-e65f-4803-ebfa-27b2b8fbef3d"
      },
      "outputs": [
        {
          "data": {
            "text/plain": [
              "<matplotlib.axes._subplots.AxesSubplot at 0x7f06a8245990>"
            ]
          },
          "execution_count": 168,
          "metadata": {},
          "output_type": "execute_result"
        },
        {
          "data": {
            "image/png": "[encoded data removed]",
            "text/plain": [
              "<Figure size 432x288 with 1 Axes>"
            ]
          },
          "metadata": {
            "needs_background": "light"
          },
          "output_type": "display_data"
        }
      ],
      "source": [
        "# 取出收盤價 > 300 的資料，並將其收盤價曲線畫出來\n",
        "df[df['Close'] > 300]['Close'].plot()"
      ]
    },
    {
      "cell_type": "markdown",
      "metadata": {
        "id": "D714yiYEkxOD"
      },
      "source": [
        "### 使用 Pandas 讀取 HTML Table\n",
        "\n",
        "https://www.pmi.org.tw/?p=5361"
      ]
    },
    {
      "cell_type": "code",
      "execution_count": null,
      "metadata": {
        "id": "oiy-LIrZldmG"
      },
      "outputs": [],
      "source": [
        "import pandas as pd"
      ]
    },
    {
      "cell_type": "code",
      "execution_count": null,
      "metadata": {
        "id": "pivRffnfjsKg"
      },
      "outputs": [],
      "source": [
        "url = \"https://www.pmi.org.tw/?p=5361\""
      ]
    },
    {
      "cell_type": "code",
      "execution_count": null,
      "metadata": {
        "id": "eARntglQlNWp"
      },
      "outputs": [],
      "source": [
        "# pandas會剖析HTML表格(<table>開始的表格)，並將結果轉成DataFrame，放到 list 裡面去。\n",
        "dfs = pd.read_html(url)"
      ]
    },
    {
      "cell_type": "code",
      "execution_count": null,
      "metadata": {
        "colab": {
          "base_uri": "https://localhost:8080/"
        },
        "id": "nUt-adWSmMC5",
        "outputId": "e40bef26-26ea-4c75-f194-b487d0b44fbb"
      },
      "outputs": [
        {
          "data": {
            "text/plain": [
              "list"
            ]
          },
          "execution_count": 175,
          "metadata": {},
          "output_type": "execute_result"
        }
      ],
      "source": [
        "type(dfs)"
      ]
    },
    {
      "cell_type": "code",
      "execution_count": null,
      "metadata": {
        "colab": {
          "base_uri": "https://localhost:8080/"
        },
        "id": "4kzjp8FMlgZU",
        "outputId": "30b3f974-4b05-482a-b5b1-ee0642bd56a7"
      },
      "outputs": [
        {
          "data": {
            "text/plain": [
              "2"
            ]
          },
          "execution_count": 172,
          "metadata": {},
          "output_type": "execute_result"
        }
      ],
      "source": [
        "len(dfs)"
      ]
    },
    {
      "cell_type": "code",
      "execution_count": null,
      "metadata": {
        "colab": {
          "base_uri": "https://localhost:8080/",
          "height": 332
        },
        "id": "zkRWlgXyliUj",
        "outputId": "7e230af3-5022-4998-a7cd-4565f1fd7398"
      },
      "outputs": [
        {
          "data": {
            "text/html": [
              "\n",
              "  <div id=\"df-3fbb36e4-303e-4e34-9b35-63eb7d0560ce\">\n",
              "    <div class=\"colab-df-container\">\n",
              "      <div>\n",
              "<style scoped>\n",
              "    .dataframe tbody tr th:only-of-type {\n",
              "        vertical-align: middle;\n",
              "    }\n",
              "\n",
              "    .dataframe tbody tr th {\n",
              "        vertical-align: top;\n",
              "    }\n",
              "\n",
              "    .dataframe thead th {\n",
              "        text-align: right;\n",
              "    }\n",
              "</style>\n",
              "<table border=\"1\" class=\"dataframe\">\n",
              "  <thead>\n",
              "    <tr style=\"text-align: right;\">\n",
              "      <th></th>\n",
              "      <th>參賽類型</th>\n",
              "      <th>參賽單位名稱</th>\n",
              "      <th>獎項</th>\n",
              "    </tr>\n",
              "  </thead>\n",
              "  <tbody>\n",
              "    <tr>\n",
              "      <th>0</th>\n",
              "      <td>大型企業</td>\n",
              "      <td>中華電信股份有限公司臺灣南區電信分公司</td>\n",
              "      <td>標竿企業獎</td>\n",
              "    </tr>\n",
              "    <tr>\n",
              "      <th>1</th>\n",
              "      <td>大型企業</td>\n",
              "      <td>致伸科技股份有限公司</td>\n",
              "      <td>典範企業獎</td>\n",
              "    </tr>\n",
              "    <tr>\n",
              "      <th>2</th>\n",
              "      <td>大型企業</td>\n",
              "      <td>香港商聯寶電腦有限公司台灣分公司</td>\n",
              "      <td>典範企業獎</td>\n",
              "    </tr>\n",
              "    <tr>\n",
              "      <th>3</th>\n",
              "      <td>中小企業</td>\n",
              "      <td>日昇意定科技顧問有限公司</td>\n",
              "      <td>標竿企業獎</td>\n",
              "    </tr>\n",
              "    <tr>\n",
              "      <th>4</th>\n",
              "      <td>中小企業</td>\n",
              "      <td>湯武生技企業有限公司</td>\n",
              "      <td>典範企業獎</td>\n",
              "    </tr>\n",
              "    <tr>\n",
              "      <th>5</th>\n",
              "      <td>中小企業</td>\n",
              "      <td>漢翔航空工業股份有限公司民用飛機專案處</td>\n",
              "      <td>典範企業獎</td>\n",
              "    </tr>\n",
              "    <tr>\n",
              "      <th>6</th>\n",
              "      <td>中小企業</td>\n",
              "      <td>大同永旭能源股份有限公司</td>\n",
              "      <td>優選</td>\n",
              "    </tr>\n",
              "    <tr>\n",
              "      <th>7</th>\n",
              "      <td>中小企業</td>\n",
              "      <td>協科資訊股份有限公司</td>\n",
              "      <td>優選</td>\n",
              "    </tr>\n",
              "    <tr>\n",
              "      <th>8</th>\n",
              "      <td>政府及法人</td>\n",
              "      <td>屏東縣政府</td>\n",
              "      <td>優選</td>\n",
              "    </tr>\n",
              "  </tbody>\n",
              "</table>\n",
              "</div>\n",
              "      <button class=\"colab-df-convert\" onclick=\"convertToInteractive('df-3fbb36e4-303e-4e34-9b35-63eb7d0560ce')\"\n",
              "              title=\"Convert this dataframe to an interactive table.\"\n",
              "              style=\"display:none;\">\n",
              "        \n",
              "  <svg xmlns=\"http://www.w3.org/2000/svg\" height=\"24px\"viewBox=\"0 0 24 24\"\n",
              "       width=\"24px\">\n",
              "    <path d=\"M0 0h24v24H0V0z\" fill=\"none\"/>\n",
              "    <path d=\"M18.56 5.44l.94 2.06.94-2.06 2.06-.94-2.06-.94-.94-2.06-.94 2.06-2.06.94zm-11 1L8.5 8.5l.94-2.06 2.06-.94-2.06-.94L8.5 2.5l-.94 2.06-2.06.94zm10 10l.94 2.06.94-2.06 2.06-.94-2.06-.94-.94-2.06-.94 2.06-2.06.94z\"/><path d=\"M17.41 7.96l-1.37-1.37c-.4-.4-.92-.59-1.43-.59-.52 0-1.04.2-1.43.59L10.3 9.45l-7.72 7.72c-.78.78-.78 2.05 0 2.83L4 21.41c.39.39.9.59 1.41.59.51 0 1.02-.2 1.41-.59l7.78-7.78 2.81-2.81c.8-.78.8-2.07 0-2.86zM5.41 20L4 18.59l7.72-7.72 1.47 1.35L5.41 20z\"/>\n",
              "  </svg>\n",
              "      </button>\n",
              "      \n",
              "  <style>\n",
              "    .colab-df-container {\n",
              "      display:flex;\n",
              "      flex-wrap:wrap;\n",
              "      gap: 12px;\n",
              "    }\n",
              "\n",
              "    .colab-df-convert {\n",
              "      background-color: #E8F0FE;\n",
              "      border: none;\n",
              "      border-radius: 50%;\n",
              "      cursor: pointer;\n",
              "      display: none;\n",
              "      fill: #1967D2;\n",
              "      height: 32px;\n",
              "      padding: 0 0 0 0;\n",
              "      width: 32px;\n",
              "    }\n",
              "\n",
              "    .colab-df-convert:hover {\n",
              "      background-color: #E2EBFA;\n",
              "      box-shadow: 0px 1px 2px rgba(60, 64, 67, 0.3), 0px 1px 3px 1px rgba(60, 64, 67, 0.15);\n",
              "      fill: #174EA6;\n",
              "    }\n",
              "\n",
              "    [theme=dark] .colab-df-convert {\n",
              "      background-color: #3B4455;\n",
              "      fill: #D2E3FC;\n",
              "    }\n",
              "\n",
              "    [theme=dark] .colab-df-convert:hover {\n",
              "      background-color: #434B5C;\n",
              "      box-shadow: 0px 1px 3px 1px rgba(0, 0, 0, 0.15);\n",
              "      filter: drop-shadow(0px 1px 2px rgba(0, 0, 0, 0.3));\n",
              "      fill: #FFFFFF;\n",
              "    }\n",
              "  </style>\n",
              "\n",
              "      <script>\n",
              "        const buttonEl =\n",
              "          document.querySelector('#df-3fbb36e4-303e-4e34-9b35-63eb7d0560ce button.colab-df-convert');\n",
              "        buttonEl.style.display =\n",
              "          google.colab.kernel.accessAllowed ? 'block' : 'none';\n",
              "\n",
              "        async function convertToInteractive(key) {\n",
              "          const element = document.querySelector('#df-3fbb36e4-303e-4e34-9b35-63eb7d0560ce');\n",
              "          const dataTable =\n",
              "            await google.colab.kernel.invokeFunction('convertToInteractive',\n",
              "                                                     [key], {});\n",
              "          if (!dataTable) return;\n",
              "\n",
              "          const docLinkHtml = 'Like what you see? Visit the ' +\n",
              "            '<a target=\"_blank\" href=https://colab.research.google.com/notebooks/data_table.ipynb>data table notebook</a>'\n",
              "            + ' to learn more about interactive tables.';\n",
              "          element.innerHTML = '';\n",
              "          dataTable['output_type'] = 'display_data';\n",
              "          await google.colab.output.renderOutput(dataTable, element);\n",
              "          const docLink = document.createElement('div');\n",
              "          docLink.innerHTML = docLinkHtml;\n",
              "          element.appendChild(docLink);\n",
              "        }\n",
              "      </script>\n",
              "    </div>\n",
              "  </div>\n",
              "  "
            ],
            "text/plain": [
              "    參賽類型               參賽單位名稱     獎項\n",
              "0   大型企業  中華電信股份有限公司臺灣南區電信分公司  標竿企業獎\n",
              "1   大型企業           致伸科技股份有限公司  典範企業獎\n",
              "2   大型企業     香港商聯寶電腦有限公司台灣分公司  典範企業獎\n",
              "3   中小企業         日昇意定科技顧問有限公司  標竿企業獎\n",
              "4   中小企業           湯武生技企業有限公司  典範企業獎\n",
              "5   中小企業  漢翔航空工業股份有限公司民用飛機專案處  典範企業獎\n",
              "6   中小企業         大同永旭能源股份有限公司     優選\n",
              "7   中小企業           協科資訊股份有限公司     優選\n",
              "8  政府及法人                屏東縣政府     優選"
            ]
          },
          "execution_count": 173,
          "metadata": {},
          "output_type": "execute_result"
        }
      ],
      "source": [
        "dfs[0]"
      ]
    },
    {
      "cell_type": "code",
      "execution_count": null,
      "metadata": {
        "colab": {
          "base_uri": "https://localhost:8080/"
        },
        "id": "gc9b6g55mREG",
        "outputId": "1ebaa0dd-00d0-4d5b-9249-fb7ad4be5f3d"
      },
      "outputs": [
        {
          "data": {
            "text/plain": [
              "pandas.core.frame.DataFrame"
            ]
          },
          "execution_count": 177,
          "metadata": {},
          "output_type": "execute_result"
        }
      ],
      "source": [
        "type(dfs[0])"
      ]
    },
    {
      "cell_type": "code",
      "execution_count": null,
      "metadata": {
        "colab": {
          "base_uri": "https://localhost:8080/",
          "height": 363
        },
        "id": "iUwN7pfSljp6",
        "outputId": "ee3d05bd-ed8a-4fdc-ab7d-67ab24605ca5"
      },
      "outputs": [
        {
          "data": {
            "text/html": [
              "\n",
              "  <div id=\"df-1f1d25f3-7d45-4203-b009-d625df7fbd27\">\n",
              "    <div class=\"colab-df-container\">\n",
              "      <div>\n",
              "<style scoped>\n",
              "    .dataframe tbody tr th:only-of-type {\n",
              "        vertical-align: middle;\n",
              "    }\n",
              "\n",
              "    .dataframe tbody tr th {\n",
              "        vertical-align: top;\n",
              "    }\n",
              "\n",
              "    .dataframe thead th {\n",
              "        text-align: right;\n",
              "    }\n",
              "</style>\n",
              "<table border=\"1\" class=\"dataframe\">\n",
              "  <thead>\n",
              "    <tr style=\"text-align: right;\">\n",
              "      <th></th>\n",
              "      <th>專案經理人姓名</th>\n",
              "      <th>參賽單位名稱</th>\n",
              "      <th>獎項</th>\n",
              "    </tr>\n",
              "  </thead>\n",
              "  <tbody>\n",
              "    <tr>\n",
              "      <th>0</th>\n",
              "      <td>呂炯明</td>\n",
              "      <td>資拓宏宇國際股份有限公司</td>\n",
              "      <td>十專獎</td>\n",
              "    </tr>\n",
              "    <tr>\n",
              "      <th>1</th>\n",
              "      <td>李得元</td>\n",
              "      <td>嘉南藥理大學</td>\n",
              "      <td>十專獎</td>\n",
              "    </tr>\n",
              "    <tr>\n",
              "      <th>2</th>\n",
              "      <td>林慶和</td>\n",
              "      <td>中華電信股份有限公司臺灣南區電信分公司</td>\n",
              "      <td>十專獎</td>\n",
              "    </tr>\n",
              "    <tr>\n",
              "      <th>3</th>\n",
              "      <td>侯里智</td>\n",
              "      <td>香港商聯寶電腦有限公司台灣分公司</td>\n",
              "      <td>十專獎</td>\n",
              "    </tr>\n",
              "    <tr>\n",
              "      <th>4</th>\n",
              "      <td>莊信慧</td>\n",
              "      <td>中華開發金融控股公司</td>\n",
              "      <td>十專獎</td>\n",
              "    </tr>\n",
              "    <tr>\n",
              "      <th>5</th>\n",
              "      <td>郭慶輝</td>\n",
              "      <td>樂高渥克公關廣告活動有限公司</td>\n",
              "      <td>十專獎</td>\n",
              "    </tr>\n",
              "    <tr>\n",
              "      <th>6</th>\n",
              "      <td>陳協良</td>\n",
              "      <td>台灣世曦工程顧問股份有限公司</td>\n",
              "      <td>十專獎</td>\n",
              "    </tr>\n",
              "    <tr>\n",
              "      <th>7</th>\n",
              "      <td>黃俊銘</td>\n",
              "      <td>行政院環境保護署環境監測及資訊處</td>\n",
              "      <td>十專獎</td>\n",
              "    </tr>\n",
              "    <tr>\n",
              "      <th>8</th>\n",
              "      <td>黃遠鵬</td>\n",
              "      <td>麗寶大數據股份有限公司</td>\n",
              "      <td>十專獎</td>\n",
              "    </tr>\n",
              "    <tr>\n",
              "      <th>9</th>\n",
              "      <td>蔡昆男</td>\n",
              "      <td>致伸科技股份有限公司</td>\n",
              "      <td>十專獎</td>\n",
              "    </tr>\n",
              "  </tbody>\n",
              "</table>\n",
              "</div>\n",
              "      <button class=\"colab-df-convert\" onclick=\"convertToInteractive('df-1f1d25f3-7d45-4203-b009-d625df7fbd27')\"\n",
              "              title=\"Convert this dataframe to an interactive table.\"\n",
              "              style=\"display:none;\">\n",
              "        \n",
              "  <svg xmlns=\"http://www.w3.org/2000/svg\" height=\"24px\"viewBox=\"0 0 24 24\"\n",
              "       width=\"24px\">\n",
              "    <path d=\"M0 0h24v24H0V0z\" fill=\"none\"/>\n",
              "    <path d=\"M18.56 5.44l.94 2.06.94-2.06 2.06-.94-2.06-.94-.94-2.06-.94 2.06-2.06.94zm-11 1L8.5 8.5l.94-2.06 2.06-.94-2.06-.94L8.5 2.5l-.94 2.06-2.06.94zm10 10l.94 2.06.94-2.06 2.06-.94-2.06-.94-.94-2.06-.94 2.06-2.06.94z\"/><path d=\"M17.41 7.96l-1.37-1.37c-.4-.4-.92-.59-1.43-.59-.52 0-1.04.2-1.43.59L10.3 9.45l-7.72 7.72c-.78.78-.78 2.05 0 2.83L4 21.41c.39.39.9.59 1.41.59.51 0 1.02-.2 1.41-.59l7.78-7.78 2.81-2.81c.8-.78.8-2.07 0-2.86zM5.41 20L4 18.59l7.72-7.72 1.47 1.35L5.41 20z\"/>\n",
              "  </svg>\n",
              "      </button>\n",
              "      \n",
              "  <style>\n",
              "    .colab-df-container {\n",
              "      display:flex;\n",
              "      flex-wrap:wrap;\n",
              "      gap: 12px;\n",
              "    }\n",
              "\n",
              "    .colab-df-convert {\n",
              "      background-color: #E8F0FE;\n",
              "      border: none;\n",
              "      border-radius: 50%;\n",
              "      cursor: pointer;\n",
              "      display: none;\n",
              "      fill: #1967D2;\n",
              "      height: 32px;\n",
              "      padding: 0 0 0 0;\n",
              "      width: 32px;\n",
              "    }\n",
              "\n",
              "    .colab-df-convert:hover {\n",
              "      background-color: #E2EBFA;\n",
              "      box-shadow: 0px 1px 2px rgba(60, 64, 67, 0.3), 0px 1px 3px 1px rgba(60, 64, 67, 0.15);\n",
              "      fill: #174EA6;\n",
              "    }\n",
              "\n",
              "    [theme=dark] .colab-df-convert {\n",
              "      background-color: #3B4455;\n",
              "      fill: #D2E3FC;\n",
              "    }\n",
              "\n",
              "    [theme=dark] .colab-df-convert:hover {\n",
              "      background-color: #434B5C;\n",
              "      box-shadow: 0px 1px 3px 1px rgba(0, 0, 0, 0.15);\n",
              "      filter: drop-shadow(0px 1px 2px rgba(0, 0, 0, 0.3));\n",
              "      fill: #FFFFFF;\n",
              "    }\n",
              "  </style>\n",
              "\n",
              "      <script>\n",
              "        const buttonEl =\n",
              "          document.querySelector('#df-1f1d25f3-7d45-4203-b009-d625df7fbd27 button.colab-df-convert');\n",
              "        buttonEl.style.display =\n",
              "          google.colab.kernel.accessAllowed ? 'block' : 'none';\n",
              "\n",
              "        async function convertToInteractive(key) {\n",
              "          const element = document.querySelector('#df-1f1d25f3-7d45-4203-b009-d625df7fbd27');\n",
              "          const dataTable =\n",
              "            await google.colab.kernel.invokeFunction('convertToInteractive',\n",
              "                                                     [key], {});\n",
              "          if (!dataTable) return;\n",
              "\n",
              "          const docLinkHtml = 'Like what you see? Visit the ' +\n",
              "            '<a target=\"_blank\" href=https://colab.research.google.com/notebooks/data_table.ipynb>data table notebook</a>'\n",
              "            + ' to learn more about interactive tables.';\n",
              "          element.innerHTML = '';\n",
              "          dataTable['output_type'] = 'display_data';\n",
              "          await google.colab.output.renderOutput(dataTable, element);\n",
              "          const docLink = document.createElement('div');\n",
              "          docLink.innerHTML = docLinkHtml;\n",
              "          element.appendChild(docLink);\n",
              "        }\n",
              "      </script>\n",
              "    </div>\n",
              "  </div>\n",
              "  "
            ],
            "text/plain": [
              "  專案經理人姓名               參賽單位名稱   獎項\n",
              "0     呂炯明         資拓宏宇國際股份有限公司  十專獎\n",
              "1     李得元               嘉南藥理大學  十專獎\n",
              "2     林慶和  中華電信股份有限公司臺灣南區電信分公司  十專獎\n",
              "3     侯里智     香港商聯寶電腦有限公司台灣分公司  十專獎\n",
              "4     莊信慧           中華開發金融控股公司  十專獎\n",
              "5     郭慶輝       樂高渥克公關廣告活動有限公司  十專獎\n",
              "6     陳協良       台灣世曦工程顧問股份有限公司  十專獎\n",
              "7     黃俊銘     行政院環境保護署環境監測及資訊處  十專獎\n",
              "8     黃遠鵬          麗寶大數據股份有限公司  十專獎\n",
              "9     蔡昆男           致伸科技股份有限公司  十專獎"
            ]
          },
          "execution_count": 174,
          "metadata": {},
          "output_type": "execute_result"
        }
      ],
      "source": [
        "dfs[1]"
      ]
    },
    {
      "cell_type": "markdown",
      "metadata": {
        "id": "sj76qeZCmn68"
      },
      "source": [
        "### 讀取0050成分股\n",
        "\n",
        "https://www.yuantaetfs.com/api/StkWeights?date=&fundid=1066"
      ]
    },
    {
      "cell_type": "code",
      "execution_count": null,
      "metadata": {
        "id": "fWhMUcr4loor"
      },
      "outputs": [],
      "source": [
        "url = \"https://www.yuantaetfs.com/api/StkWeights?date=&fundid=1066\""
      ]
    },
    {
      "cell_type": "code",
      "execution_count": null,
      "metadata": {
        "id": "5_xLRLr9mtly"
      },
      "outputs": [],
      "source": [
        "stocks = pd.read_json(url)"
      ]
    },
    {
      "cell_type": "code",
      "execution_count": null,
      "metadata": {
        "colab": {
          "base_uri": "https://localhost:8080/",
          "height": 250
        },
        "id": "Fn7XJNW9mw21",
        "outputId": "82352cd8-4fc5-49ad-acb0-47718196e6a9"
      },
      "outputs": [
        {
          "data": {
            "text/html": [
              "\n",
              "  <div id=\"df-8462802a-b573-42f4-91d5-67e8c5fef254\">\n",
              "    <div class=\"colab-df-container\">\n",
              "      <div>\n",
              "<style scoped>\n",
              "    .dataframe tbody tr th:only-of-type {\n",
              "        vertical-align: middle;\n",
              "    }\n",
              "\n",
              "    .dataframe tbody tr th {\n",
              "        vertical-align: top;\n",
              "    }\n",
              "\n",
              "    .dataframe thead th {\n",
              "        text-align: right;\n",
              "    }\n",
              "</style>\n",
              "<table border=\"1\" class=\"dataframe\">\n",
              "  <thead>\n",
              "    <tr style=\"text-align: right;\">\n",
              "      <th></th>\n",
              "      <th>code</th>\n",
              "      <th>ym</th>\n",
              "      <th>name</th>\n",
              "      <th>ename</th>\n",
              "      <th>weights</th>\n",
              "      <th>qty</th>\n",
              "    </tr>\n",
              "  </thead>\n",
              "  <tbody>\n",
              "    <tr>\n",
              "      <th>0</th>\n",
              "      <td>2330</td>\n",
              "      <td>NaN</td>\n",
              "      <td>台積電</td>\n",
              "      <td>Taiwan Semiconductor Manufacturing Co. Ltd.</td>\n",
              "      <td>46.65</td>\n",
              "      <td>226740394</td>\n",
              "    </tr>\n",
              "    <tr>\n",
              "      <th>1</th>\n",
              "      <td>2317</td>\n",
              "      <td>NaN</td>\n",
              "      <td>鴻海</td>\n",
              "      <td>HON HAI PRECISION IND. CO. LTD.</td>\n",
              "      <td>4.99</td>\n",
              "      <td>112674871</td>\n",
              "    </tr>\n",
              "    <tr>\n",
              "      <th>2</th>\n",
              "      <td>2454</td>\n",
              "      <td>NaN</td>\n",
              "      <td>聯發科</td>\n",
              "      <td>MediaTek Inc.</td>\n",
              "      <td>3.90</td>\n",
              "      <td>14046458</td>\n",
              "    </tr>\n",
              "    <tr>\n",
              "      <th>3</th>\n",
              "      <td>2308</td>\n",
              "      <td>NaN</td>\n",
              "      <td>台達電</td>\n",
              "      <td>DELTA ELECTRONICS INC.</td>\n",
              "      <td>2.12</td>\n",
              "      <td>20398636</td>\n",
              "    </tr>\n",
              "    <tr>\n",
              "      <th>4</th>\n",
              "      <td>2412</td>\n",
              "      <td>NaN</td>\n",
              "      <td>中華電</td>\n",
              "      <td>Chunghwa Telecom Co. Ltd</td>\n",
              "      <td>1.79</td>\n",
              "      <td>35911753</td>\n",
              "    </tr>\n",
              "  </tbody>\n",
              "</table>\n",
              "</div>\n",
              "      <button class=\"colab-df-convert\" onclick=\"convertToInteractive('df-8462802a-b573-42f4-91d5-67e8c5fef254')\"\n",
              "              title=\"Convert this dataframe to an interactive table.\"\n",
              "              style=\"display:none;\">\n",
              "        \n",
              "  <svg xmlns=\"http://www.w3.org/2000/svg\" height=\"24px\"viewBox=\"0 0 24 24\"\n",
              "       width=\"24px\">\n",
              "    <path d=\"M0 0h24v24H0V0z\" fill=\"none\"/>\n",
              "    <path d=\"M18.56 5.44l.94 2.06.94-2.06 2.06-.94-2.06-.94-.94-2.06-.94 2.06-2.06.94zm-11 1L8.5 8.5l.94-2.06 2.06-.94-2.06-.94L8.5 2.5l-.94 2.06-2.06.94zm10 10l.94 2.06.94-2.06 2.06-.94-2.06-.94-.94-2.06-.94 2.06-2.06.94z\"/><path d=\"M17.41 7.96l-1.37-1.37c-.4-.4-.92-.59-1.43-.59-.52 0-1.04.2-1.43.59L10.3 9.45l-7.72 7.72c-.78.78-.78 2.05 0 2.83L4 21.41c.39.39.9.59 1.41.59.51 0 1.02-.2 1.41-.59l7.78-7.78 2.81-2.81c.8-.78.8-2.07 0-2.86zM5.41 20L4 18.59l7.72-7.72 1.47 1.35L5.41 20z\"/>\n",
              "  </svg>\n",
              "      </button>\n",
              "      \n",
              "  <style>\n",
              "    .colab-df-container {\n",
              "      display:flex;\n",
              "      flex-wrap:wrap;\n",
              "      gap: 12px;\n",
              "    }\n",
              "\n",
              "    .colab-df-convert {\n",
              "      background-color: #E8F0FE;\n",
              "      border: none;\n",
              "      border-radius: 50%;\n",
              "      cursor: pointer;\n",
              "      display: none;\n",
              "      fill: #1967D2;\n",
              "      height: 32px;\n",
              "      padding: 0 0 0 0;\n",
              "      width: 32px;\n",
              "    }\n",
              "\n",
              "    .colab-df-convert:hover {\n",
              "      background-color: #E2EBFA;\n",
              "      box-shadow: 0px 1px 2px rgba(60, 64, 67, 0.3), 0px 1px 3px 1px rgba(60, 64, 67, 0.15);\n",
              "      fill: #174EA6;\n",
              "    }\n",
              "\n",
              "    [theme=dark] .colab-df-convert {\n",
              "      background-color: #3B4455;\n",
              "      fill: #D2E3FC;\n",
              "    }\n",
              "\n",
              "    [theme=dark] .colab-df-convert:hover {\n",
              "      background-color: #434B5C;\n",
              "      box-shadow: 0px 1px 3px 1px rgba(0, 0, 0, 0.15);\n",
              "      filter: drop-shadow(0px 1px 2px rgba(0, 0, 0, 0.3));\n",
              "      fill: #FFFFFF;\n",
              "    }\n",
              "  </style>\n",
              "\n",
              "      <script>\n",
              "        const buttonEl =\n",
              "          document.querySelector('#df-8462802a-b573-42f4-91d5-67e8c5fef254 button.colab-df-convert');\n",
              "        buttonEl.style.display =\n",
              "          google.colab.kernel.accessAllowed ? 'block' : 'none';\n",
              "\n",
              "        async function convertToInteractive(key) {\n",
              "          const element = document.querySelector('#df-8462802a-b573-42f4-91d5-67e8c5fef254');\n",
              "          const dataTable =\n",
              "            await google.colab.kernel.invokeFunction('convertToInteractive',\n",
              "                                                     [key], {});\n",
              "          if (!dataTable) return;\n",
              "\n",
              "          const docLinkHtml = 'Like what you see? Visit the ' +\n",
              "            '<a target=\"_blank\" href=https://colab.research.google.com/notebooks/data_table.ipynb>data table notebook</a>'\n",
              "            + ' to learn more about interactive tables.';\n",
              "          element.innerHTML = '';\n",
              "          dataTable['output_type'] = 'display_data';\n",
              "          await google.colab.output.renderOutput(dataTable, element);\n",
              "          const docLink = document.createElement('div');\n",
              "          docLink.innerHTML = docLinkHtml;\n",
              "          element.appendChild(docLink);\n",
              "        }\n",
              "      </script>\n",
              "    </div>\n",
              "  </div>\n",
              "  "
            ],
            "text/plain": [
              "   code  ym name                                        ename  weights  \\\n",
              "0  2330 NaN  台積電  Taiwan Semiconductor Manufacturing Co. Ltd.    46.65   \n",
              "1  2317 NaN   鴻海              HON HAI PRECISION IND. CO. LTD.     4.99   \n",
              "2  2454 NaN  聯發科                                MediaTek Inc.     3.90   \n",
              "3  2308 NaN  台達電                       DELTA ELECTRONICS INC.     2.12   \n",
              "4  2412 NaN  中華電                     Chunghwa Telecom Co. Ltd     1.79   \n",
              "\n",
              "         qty  \n",
              "0  226740394  \n",
              "1  112674871  \n",
              "2   14046458  \n",
              "3   20398636  \n",
              "4   35911753  "
            ]
          },
          "execution_count": 181,
          "metadata": {},
          "output_type": "execute_result"
        }
      ],
      "source": [
        "stocks.head()"
      ]
    },
    {
      "cell_type": "code",
      "execution_count": null,
      "metadata": {
        "colab": {
          "base_uri": "https://localhost:8080/",
          "height": 250
        },
        "id": "eI-_FS0umyNt",
        "outputId": "7763b2f8-b93c-432d-cec5-e4d4df76ff70"
      },
      "outputs": [
        {
          "data": {
            "text/html": [
              "\n",
              "  <div id=\"df-f6d8e6f6-b542-433c-b49e-c5ae4168facb\">\n",
              "    <div class=\"colab-df-container\">\n",
              "      <div>\n",
              "<style scoped>\n",
              "    .dataframe tbody tr th:only-of-type {\n",
              "        vertical-align: middle;\n",
              "    }\n",
              "\n",
              "    .dataframe tbody tr th {\n",
              "        vertical-align: top;\n",
              "    }\n",
              "\n",
              "    .dataframe thead th {\n",
              "        text-align: right;\n",
              "    }\n",
              "</style>\n",
              "<table border=\"1\" class=\"dataframe\">\n",
              "  <thead>\n",
              "    <tr style=\"text-align: right;\">\n",
              "      <th></th>\n",
              "      <th>code</th>\n",
              "      <th>ym</th>\n",
              "      <th>name</th>\n",
              "      <th>ename</th>\n",
              "      <th>weights</th>\n",
              "      <th>qty</th>\n",
              "    </tr>\n",
              "  </thead>\n",
              "  <tbody>\n",
              "    <tr>\n",
              "      <th>0</th>\n",
              "      <td>2330</td>\n",
              "      <td>NaN</td>\n",
              "      <td>台積電</td>\n",
              "      <td>Taiwan Semiconductor Manufacturing Co. Ltd.</td>\n",
              "      <td>46.65</td>\n",
              "      <td>226740394</td>\n",
              "    </tr>\n",
              "    <tr>\n",
              "      <th>1</th>\n",
              "      <td>2317</td>\n",
              "      <td>NaN</td>\n",
              "      <td>鴻海</td>\n",
              "      <td>HON HAI PRECISION IND. CO. LTD.</td>\n",
              "      <td>4.99</td>\n",
              "      <td>112674871</td>\n",
              "    </tr>\n",
              "    <tr>\n",
              "      <th>2</th>\n",
              "      <td>2454</td>\n",
              "      <td>NaN</td>\n",
              "      <td>聯發科</td>\n",
              "      <td>MediaTek Inc.</td>\n",
              "      <td>3.90</td>\n",
              "      <td>14046458</td>\n",
              "    </tr>\n",
              "    <tr>\n",
              "      <th>3</th>\n",
              "      <td>2308</td>\n",
              "      <td>NaN</td>\n",
              "      <td>台達電</td>\n",
              "      <td>DELTA ELECTRONICS INC.</td>\n",
              "      <td>2.12</td>\n",
              "      <td>20398636</td>\n",
              "    </tr>\n",
              "    <tr>\n",
              "      <th>4</th>\n",
              "      <td>2412</td>\n",
              "      <td>NaN</td>\n",
              "      <td>中華電</td>\n",
              "      <td>Chunghwa Telecom Co. Ltd</td>\n",
              "      <td>1.79</td>\n",
              "      <td>35911753</td>\n",
              "    </tr>\n",
              "  </tbody>\n",
              "</table>\n",
              "</div>\n",
              "      <button class=\"colab-df-convert\" onclick=\"convertToInteractive('df-f6d8e6f6-b542-433c-b49e-c5ae4168facb')\"\n",
              "              title=\"Convert this dataframe to an interactive table.\"\n",
              "              style=\"display:none;\">\n",
              "        \n",
              "  <svg xmlns=\"http://www.w3.org/2000/svg\" height=\"24px\"viewBox=\"0 0 24 24\"\n",
              "       width=\"24px\">\n",
              "    <path d=\"M0 0h24v24H0V0z\" fill=\"none\"/>\n",
              "    <path d=\"M18.56 5.44l.94 2.06.94-2.06 2.06-.94-2.06-.94-.94-2.06-.94 2.06-2.06.94zm-11 1L8.5 8.5l.94-2.06 2.06-.94-2.06-.94L8.5 2.5l-.94 2.06-2.06.94zm10 10l.94 2.06.94-2.06 2.06-.94-2.06-.94-.94-2.06-.94 2.06-2.06.94z\"/><path d=\"M17.41 7.96l-1.37-1.37c-.4-.4-.92-.59-1.43-.59-.52 0-1.04.2-1.43.59L10.3 9.45l-7.72 7.72c-.78.78-.78 2.05 0 2.83L4 21.41c.39.39.9.59 1.41.59.51 0 1.02-.2 1.41-.59l7.78-7.78 2.81-2.81c.8-.78.8-2.07 0-2.86zM5.41 20L4 18.59l7.72-7.72 1.47 1.35L5.41 20z\"/>\n",
              "  </svg>\n",
              "      </button>\n",
              "      \n",
              "  <style>\n",
              "    .colab-df-container {\n",
              "      display:flex;\n",
              "      flex-wrap:wrap;\n",
              "      gap: 12px;\n",
              "    }\n",
              "\n",
              "    .colab-df-convert {\n",
              "      background-color: #E8F0FE;\n",
              "      border: none;\n",
              "      border-radius: 50%;\n",
              "      cursor: pointer;\n",
              "      display: none;\n",
              "      fill: #1967D2;\n",
              "      height: 32px;\n",
              "      padding: 0 0 0 0;\n",
              "      width: 32px;\n",
              "    }\n",
              "\n",
              "    .colab-df-convert:hover {\n",
              "      background-color: #E2EBFA;\n",
              "      box-shadow: 0px 1px 2px rgba(60, 64, 67, 0.3), 0px 1px 3px 1px rgba(60, 64, 67, 0.15);\n",
              "      fill: #174EA6;\n",
              "    }\n",
              "\n",
              "    [theme=dark] .colab-df-convert {\n",
              "      background-color: #3B4455;\n",
              "      fill: #D2E3FC;\n",
              "    }\n",
              "\n",
              "    [theme=dark] .colab-df-convert:hover {\n",
              "      background-color: #434B5C;\n",
              "      box-shadow: 0px 1px 3px 1px rgba(0, 0, 0, 0.15);\n",
              "      filter: drop-shadow(0px 1px 2px rgba(0, 0, 0, 0.3));\n",
              "      fill: #FFFFFF;\n",
              "    }\n",
              "  </style>\n",
              "\n",
              "      <script>\n",
              "        const buttonEl =\n",
              "          document.querySelector('#df-f6d8e6f6-b542-433c-b49e-c5ae4168facb button.colab-df-convert');\n",
              "        buttonEl.style.display =\n",
              "          google.colab.kernel.accessAllowed ? 'block' : 'none';\n",
              "\n",
              "        async function convertToInteractive(key) {\n",
              "          const element = document.querySelector('#df-f6d8e6f6-b542-433c-b49e-c5ae4168facb');\n",
              "          const dataTable =\n",
              "            await google.colab.kernel.invokeFunction('convertToInteractive',\n",
              "                                                     [key], {});\n",
              "          if (!dataTable) return;\n",
              "\n",
              "          const docLinkHtml = 'Like what you see? Visit the ' +\n",
              "            '<a target=\"_blank\" href=https://colab.research.google.com/notebooks/data_table.ipynb>data table notebook</a>'\n",
              "            + ' to learn more about interactive tables.';\n",
              "          element.innerHTML = '';\n",
              "          dataTable['output_type'] = 'display_data';\n",
              "          await google.colab.output.renderOutput(dataTable, element);\n",
              "          const docLink = document.createElement('div');\n",
              "          docLink.innerHTML = docLinkHtml;\n",
              "          element.appendChild(docLink);\n",
              "        }\n",
              "      </script>\n",
              "    </div>\n",
              "  </div>\n",
              "  "
            ],
            "text/plain": [
              "   code  ym name                                        ename  weights  \\\n",
              "0  2330 NaN  台積電  Taiwan Semiconductor Manufacturing Co. Ltd.    46.65   \n",
              "1  2317 NaN   鴻海              HON HAI PRECISION IND. CO. LTD.     4.99   \n",
              "2  2454 NaN  聯發科                                MediaTek Inc.     3.90   \n",
              "3  2308 NaN  台達電                       DELTA ELECTRONICS INC.     2.12   \n",
              "4  2412 NaN  中華電                     Chunghwa Telecom Co. Ltd     1.79   \n",
              "\n",
              "         qty  \n",
              "0  226740394  \n",
              "1  112674871  \n",
              "2   14046458  \n",
              "3   20398636  \n",
              "4   35911753  "
            ]
          },
          "execution_count": 182,
          "metadata": {},
          "output_type": "execute_result"
        }
      ],
      "source": [
        "stocks[:5]"
      ]
    },
    {
      "cell_type": "code",
      "execution_count": null,
      "metadata": {
        "colab": {
          "base_uri": "https://localhost:8080/"
        },
        "id": "WOE89ZUlnHhd",
        "outputId": "75f13fe3-2561-47b0-b189-94ee5b262c84"
      },
      "outputs": [
        {
          "data": {
            "text/plain": [
              "0     2330\n",
              "1     2317\n",
              "2     2454\n",
              "3     2308\n",
              "4     2412\n",
              "5     2303\n",
              "6     1301\n",
              "7     2891\n",
              "8     2881\n",
              "9     2886\n",
              "10    2882\n",
              "11    2884\n",
              "12    1303\n",
              "13    2002\n",
              "14    1216\n",
              "15    3711\n",
              "16    5871\n",
              "17    2892\n",
              "18    5880\n",
              "19    2603\n",
              "20    1326\n",
              "21    2885\n",
              "22    2357\n",
              "23    3037\n",
              "24    1101\n",
              "25    2880\n",
              "26    2382\n",
              "27    2883\n",
              "28    3008\n",
              "29    2207\n",
              "30    3045\n",
              "31    2379\n",
              "32    2887\n",
              "33    2912\n",
              "34    5876\n",
              "35    2327\n",
              "36    2609\n",
              "37    3034\n",
              "38    2615\n",
              "39    6415\n",
              "40    2395\n",
              "41    1590\n",
              "42    4904\n",
              "43    2409\n",
              "44    2801\n",
              "45    6505\n",
              "46    6770\n",
              "47    9910\n",
              "48    8046\n",
              "49    2408\n",
              "Name: code, dtype: int64"
            ]
          },
          "execution_count": 183,
          "metadata": {},
          "output_type": "execute_result"
        }
      ],
      "source": [
        "stocks['code']"
      ]
    },
    {
      "cell_type": "code",
      "execution_count": null,
      "metadata": {
        "colab": {
          "base_uri": "https://localhost:8080/"
        },
        "id": "X0kKkRe6nPAC",
        "outputId": "04db1a15-6043-4fd8-b3b8-8b155770f8dd"
      },
      "outputs": [
        {
          "name": "stdout",
          "output_type": "stream",
          "text": [
            "分析2330中!\n",
            "分析2317中!\n",
            "分析2454中!\n",
            "分析2308中!\n",
            "分析2412中!\n",
            "分析2303中!\n",
            "分析1301中!\n",
            "分析2891中!\n",
            "分析2881中!\n",
            "分析2886中!\n",
            "分析2882中!\n",
            "分析2884中!\n",
            "分析1303中!\n",
            "分析2002中!\n",
            "分析1216中!\n",
            "分析3711中!\n",
            "分析5871中!\n",
            "分析2892中!\n",
            "分析5880中!\n",
            "分析2603中!\n",
            "分析1326中!\n",
            "分析2885中!\n",
            "分析2357中!\n",
            "分析3037中!\n",
            "分析1101中!\n",
            "分析2880中!\n",
            "分析2382中!\n",
            "分析2883中!\n",
            "分析3008中!\n",
            "分析2207中!\n",
            "分析3045中!\n",
            "分析2379中!\n",
            "分析2887中!\n",
            "分析2912中!\n",
            "分析5876中!\n",
            "分析2327中!\n",
            "分析2609中!\n",
            "分析3034中!\n",
            "分析2615中!\n",
            "分析6415中!\n",
            "分析2395中!\n",
            "分析1590中!\n",
            "分析4904中!\n",
            "分析2409中!\n",
            "分析2801中!\n",
            "分析6505中!\n",
            "分析6770中!\n",
            "分析9910中!\n",
            "分析8046中!\n",
            "分析2408中!\n"
          ]
        }
      ],
      "source": [
        "for x in stocks['code']:\n",
        "  print(f\"分析{x}中!\")"
      ]
    },
    {
      "cell_type": "markdown",
      "metadata": {
        "id": "ck1saYqPn2o3"
      },
      "source": [
        "## 深度學習簡介"
      ]
    },
    {
      "cell_type": "code",
      "execution_count": null,
      "metadata": {
        "colab": {
          "base_uri": "https://localhost:8080/"
        },
        "id": "QnX4mg86tzpb",
        "outputId": "10b7e2e5-1dfc-42f7-d7d8-7ee053c52340"
      },
      "outputs": [
        {
          "name": "stdout",
          "output_type": "stream",
          "text": [
            "Archive:  model.zip\n",
            " extracting: keras_model.h5          \n",
            " extracting: labels.txt              \n"
          ]
        }
      ],
      "source": [
        "!unzip model.zip"
      ]
    },
    {
      "cell_type": "code",
      "execution_count": null,
      "metadata": {
        "colab": {
          "base_uri": "https://localhost:8080/"
        },
        "id": "JRE5HR3cnaAG",
        "outputId": "48117aaf-dca2-4674-f2b0-52374d13876e"
      },
      "outputs": [
        {
          "name": "stderr",
          "output_type": "stream",
          "text": [
            "WARNING:tensorflow:No training configuration found in the save file, so the model was *not* compiled. Compile it manually.\n"
          ]
        },
        {
          "name": "stdout",
          "output_type": "stream",
          "text": [
            "[[0.504588 0.495412]]\n"
          ]
        }
      ],
      "source": [
        "from keras.models import load_model\n",
        "from PIL import Image, ImageOps\n",
        "import numpy as np\n",
        "\n",
        "# Load the model\n",
        "model = load_model('keras_model.h5')\n",
        "\n",
        "# Create the array of the right shape to feed into the keras model\n",
        "# The 'length' or number of images you can put into the array is\n",
        "# determined by the first position in the shape tuple, in this case 1.\n",
        "data = np.ndarray(shape=(1, 224, 224, 3), dtype=np.float32)\n",
        "# Replace this with the path to your image\n",
        "image = Image.open('lin.jpg')\n",
        "#resize the image to a 224x224 with the same strategy as in TM2:\n",
        "#resizing the image to be at least 224x224 and then cropping from the center\n",
        "size = (224, 224)\n",
        "image = ImageOps.fit(image, size, Image.ANTIALIAS)\n",
        "\n",
        "#turn the image into a numpy array\n",
        "image_array = np.asarray(image)\n",
        "# Normalize the image\n",
        "normalized_image_array = (image_array.astype(np.float32) / 127.0) - 1\n",
        "# Load the image into the array\n",
        "data[0] = normalized_image_array\n",
        "\n",
        "# run the inference\n",
        "prediction = model.predict(data)\n",
        "print(prediction)"
      ]
    },
    {
      "cell_type": "code",
      "execution_count": null,
      "metadata": {
        "colab": {
          "base_uri": "https://localhost:8080/"
        },
        "id": "3RYxmJx1vw58",
        "outputId": "c9a0974f-4fde-416c-d149-d461286d306e"
      },
      "outputs": [
        {
          "data": {
            "text/plain": [
              "1"
            ]
          },
          "execution_count": 189,
          "metadata": {},
          "output_type": "execute_result"
        }
      ],
      "source": [
        "np.argmax(prediction)"
      ]
    },
    {
      "cell_type": "code",
      "execution_count": null,
      "metadata": {
        "id": "D3jTWUEbvqVn"
      },
      "outputs": [],
      "source": [
        "image"
      ]
    },
    {
      "cell_type": "markdown",
      "metadata": {
        "id": "V_aJ1OYT2shY"
      },
      "source": [
        "## Scikit-Learn 使用簡介"
      ]
    },
    {
      "cell_type": "code",
      "execution_count": null,
      "metadata": {
        "id": "5QACU-3SvrDN"
      },
      "outputs": [],
      "source": [
        "import numpy as np\n",
        "import matplotlib.pyplot as plt"
      ]
    },
    {
      "cell_type": "markdown",
      "metadata": {
        "id": "Dlyxxt9p2_8b"
      },
      "source": [
        "### 載入iris資料集"
      ]
    },
    {
      "cell_type": "code",
      "execution_count": null,
      "metadata": {
        "id": "zm0MJIsk29la"
      },
      "outputs": [],
      "source": [
        "from sklearn.datasets import load_iris"
      ]
    },
    {
      "cell_type": "code",
      "execution_count": null,
      "metadata": {
        "id": "vIFNstPR3GDs"
      },
      "outputs": [],
      "source": [
        "iris = load_iris()"
      ]
    },
    {
      "cell_type": "code",
      "execution_count": null,
      "metadata": {
        "colab": {
          "base_uri": "https://localhost:8080/"
        },
        "id": "FzRoOFn33Ipp",
        "outputId": "087f1478-4af0-465b-a841-1406ba9712c9"
      },
      "outputs": [
        {
          "data": {
            "text/plain": [
              "['sepal length (cm)',\n",
              " 'sepal width (cm)',\n",
              " 'petal length (cm)',\n",
              " 'petal width (cm)']"
            ]
          },
          "execution_count": 194,
          "metadata": {},
          "output_type": "execute_result"
        }
      ],
      "source": [
        "iris.feature_names"
      ]
    },
    {
      "cell_type": "code",
      "execution_count": null,
      "metadata": {
        "colab": {
          "base_uri": "https://localhost:8080/"
        },
        "id": "vYYljuiH3QqO",
        "outputId": "f3fb0915-2242-49f8-c53a-a236c2d624df"
      },
      "outputs": [
        {
          "data": {
            "text/plain": [
              "array(['setosa', 'versicolor', 'virginica'], dtype='<U10')"
            ]
          },
          "execution_count": 195,
          "metadata": {},
          "output_type": "execute_result"
        }
      ],
      "source": [
        "iris.target_names"
      ]
    },
    {
      "cell_type": "code",
      "execution_count": null,
      "metadata": {
        "id": "TJMolObb3dch"
      },
      "outputs": [],
      "source": [
        "X = iris.data\n",
        "Y = iris.target"
      ]
    },
    {
      "cell_type": "code",
      "execution_count": null,
      "metadata": {
        "colab": {
          "base_uri": "https://localhost:8080/"
        },
        "id": "6YCxAPgE3k04",
        "outputId": "45194a1f-8520-48f6-e53e-1ee45914c9d6"
      },
      "outputs": [
        {
          "data": {
            "text/plain": [
              "array([5.1, 3.5, 1.4, 0.2])"
            ]
          },
          "execution_count": 197,
          "metadata": {},
          "output_type": "execute_result"
        }
      ],
      "source": [
        "X[0]"
      ]
    },
    {
      "cell_type": "code",
      "execution_count": null,
      "metadata": {
        "colab": {
          "base_uri": "https://localhost:8080/"
        },
        "id": "STZXdbo53pxi",
        "outputId": "09ab5ef7-7110-4ae6-b167-78c7fa63a900"
      },
      "outputs": [
        {
          "data": {
            "text/plain": [
              "0"
            ]
          },
          "execution_count": 198,
          "metadata": {},
          "output_type": "execute_result"
        }
      ],
      "source": [
        "Y[0]"
      ]
    },
    {
      "cell_type": "code",
      "execution_count": null,
      "metadata": {
        "colab": {
          "base_uri": "https://localhost:8080/"
        },
        "id": "36z_2f2r4A0q",
        "outputId": "0dbb9817-f3c9-412d-f621-9f4610fafa75"
      },
      "outputs": [
        {
          "data": {
            "text/plain": [
              "150"
            ]
          },
          "execution_count": 199,
          "metadata": {},
          "output_type": "execute_result"
        }
      ],
      "source": [
        "len(X)"
      ]
    },
    {
      "cell_type": "markdown",
      "metadata": {
        "id": "lrO7yovR36d5"
      },
      "source": [
        "### 產生訓練集跟測試集"
      ]
    },
    {
      "cell_type": "code",
      "execution_count": null,
      "metadata": {
        "id": "9CaRvlLh3t3r"
      },
      "outputs": [],
      "source": [
        "from sklearn.model_selection import train_test_split"
      ]
    },
    {
      "cell_type": "code",
      "execution_count": null,
      "metadata": {
        "id": "pLn_Wbk04Gtw"
      },
      "outputs": [],
      "source": [
        "x_train, x_test, y_train, y_test = train_test_split(X, Y, test_size=0.2)"
      ]
    },
    {
      "cell_type": "markdown",
      "metadata": {
        "id": "xNwFiJjv4X_f"
      },
      "source": [
        "### 使用SVM來做分類"
      ]
    },
    {
      "cell_type": "code",
      "execution_count": null,
      "metadata": {
        "id": "7-0sNvg_4VMw"
      },
      "outputs": [],
      "source": [
        "#1. 載入模型\n",
        "from sklearn.svm import SVC"
      ]
    },
    {
      "cell_type": "code",
      "execution_count": null,
      "metadata": {
        "id": "3Ssv1TaI4gT6"
      },
      "outputs": [],
      "source": [
        "#2. 建立模型\n",
        "clf = SVC()"
      ]
    },
    {
      "cell_type": "code",
      "execution_count": null,
      "metadata": {
        "colab": {
          "base_uri": "https://localhost:8080/"
        },
        "id": "sPauSMon4ibf",
        "outputId": "b0c6c7c9-be17-49f6-e145-08a350f2d491"
      },
      "outputs": [
        {
          "data": {
            "text/plain": [
              "SVC()"
            ]
          },
          "execution_count": 204,
          "metadata": {},
          "output_type": "execute_result"
        }
      ],
      "source": [
        "#3. 訓練模型\n",
        "clf.fit(x_train, y_train)"
      ]
    },
    {
      "cell_type": "code",
      "execution_count": null,
      "metadata": {
        "colab": {
          "base_uri": "https://localhost:8080/"
        },
        "id": "4makTBJ14qv0",
        "outputId": "d93074ff-6200-4fcd-b4de-5b7f7c287e66"
      },
      "outputs": [
        {
          "data": {
            "text/plain": [
              "0.9666666666666667"
            ]
          },
          "execution_count": 205,
          "metadata": {},
          "output_type": "execute_result"
        }
      ],
      "source": [
        "# 計算模型的Accuracy\n",
        "clf.score(x_test, y_test)"
      ]
    },
    {
      "cell_type": "code",
      "execution_count": null,
      "metadata": {
        "id": "WTCPewg14mB7"
      },
      "outputs": [],
      "source": [
        "#4. 使用模型來做預測\n",
        "y_predict = clf.predict(x_test)"
      ]
    },
    {
      "cell_type": "markdown",
      "metadata": {
        "id": "8OTMh4zX8mhb"
      },
      "source": [
        "### 練習：使用Random Forest來做分類"
      ]
    },
    {
      "cell_type": "markdown",
      "metadata": {
        "id": "SctZzmiz8u3o"
      },
      "source": [
        "https://scikit-learn.org/stable/modules/generated/sklearn.ensemble.RandomForestClassifier.html"
      ]
    },
    {
      "cell_type": "code",
      "execution_count": null,
      "metadata": {
        "id": "L1RNJGb84r-n"
      },
      "outputs": [],
      "source": [
        "#1. 載入模型\n",
        "from sklearn.ensemble import RandomForestClassifier"
      ]
    },
    {
      "cell_type": "code",
      "execution_count": null,
      "metadata": {
        "id": "9Ghum7PB8yNo"
      },
      "outputs": [],
      "source": [
        "#2. 建立模型\n",
        "clf = RandomForestClassifier()"
      ]
    },
    {
      "cell_type": "code",
      "execution_count": null,
      "metadata": {
        "colab": {
          "base_uri": "https://localhost:8080/"
        },
        "id": "JPovj3mp80Og",
        "outputId": "3555b423-77c5-4529-d245-338cc02c38fe"
      },
      "outputs": [
        {
          "data": {
            "text/plain": [
              "RandomForestClassifier()"
            ]
          },
          "execution_count": 208,
          "metadata": {},
          "output_type": "execute_result"
        }
      ],
      "source": [
        "#3. 訓練模型\n",
        "clf.fit(x_train, y_train)"
      ]
    },
    {
      "cell_type": "code",
      "execution_count": null,
      "metadata": {
        "colab": {
          "base_uri": "https://localhost:8080/"
        },
        "id": "WrAVLK1_837W",
        "outputId": "a572aac9-4d9a-493f-dba5-fbe1df5ec3c8"
      },
      "outputs": [
        {
          "data": {
            "text/plain": [
              "0.9666666666666667"
            ]
          },
          "execution_count": 209,
          "metadata": {},
          "output_type": "execute_result"
        }
      ],
      "source": [
        "# 計算模型的Accuracy\n",
        "clf.score(x_test, y_test)"
      ]
    },
    {
      "cell_type": "code",
      "execution_count": null,
      "metadata": {
        "id": "g3x5hfVH85mB"
      },
      "outputs": [],
      "source": [
        "#4. 使用模型來做預測\n",
        "y_predict = clf.predict(x_test)"
      ]
    },
    {
      "cell_type": "markdown",
      "metadata": {
        "id": "fTMgtwOAAujR"
      },
      "source": [
        "## 繼續說明Pandas"
      ]
    },
    {
      "cell_type": "markdown",
      "metadata": {
        "id": "GYKUPh1wD63Q"
      },
      "source": [
        "### Series"
      ]
    },
    {
      "cell_type": "code",
      "execution_count": null,
      "metadata": {
        "id": "aW1-4uQiAw6S"
      },
      "outputs": [],
      "source": [
        "x = [1, 2, 3, 4, 5]\n",
        "y = [2, 3, 4, 5, 6]"
      ]
    },
    {
      "cell_type": "code",
      "execution_count": null,
      "metadata": {
        "id": "3xIhoFTKBo5f"
      },
      "outputs": [],
      "source": [
        "x1 = np.array(x)\n",
        "y1 = np.array(y)"
      ]
    },
    {
      "cell_type": "code",
      "execution_count": null,
      "metadata": {
        "colab": {
          "base_uri": "https://localhost:8080/"
        },
        "id": "oT2mNRNeBtys",
        "outputId": "8d940ef2-f2f0-415d-b290-f35f1433eebb"
      },
      "outputs": [
        {
          "data": {
            "text/plain": [
              "array([ 3,  5,  7,  9, 11])"
            ]
          },
          "execution_count": 212,
          "metadata": {},
          "output_type": "execute_result"
        }
      ],
      "source": [
        "x1 + y1"
      ]
    },
    {
      "cell_type": "code",
      "execution_count": null,
      "metadata": {
        "id": "JQ46Ma82Bu7S"
      },
      "outputs": [],
      "source": [
        "x2 = pd.Series(x)\n",
        "y2 = pd.Series(y)"
      ]
    },
    {
      "cell_type": "code",
      "execution_count": null,
      "metadata": {
        "colab": {
          "base_uri": "https://localhost:8080/"
        },
        "id": "0CGNOMvRB5JV",
        "outputId": "d4411372-5720-40f7-a946-9d5dcad7a512"
      },
      "outputs": [
        {
          "data": {
            "text/plain": [
              "array([ 3,  5,  7,  9, 11])"
            ]
          },
          "execution_count": 215,
          "metadata": {},
          "output_type": "execute_result"
        }
      ],
      "source": [
        "(x2 + y2).values"
      ]
    },
    {
      "cell_type": "code",
      "execution_count": null,
      "metadata": {
        "id": "LK5qgnHNB6YF"
      },
      "outputs": [],
      "source": [
        "x2.index = list('abcde')"
      ]
    },
    {
      "cell_type": "code",
      "execution_count": null,
      "metadata": {
        "colab": {
          "base_uri": "https://localhost:8080/"
        },
        "id": "8s1S2ZCXCtFP",
        "outputId": "35a616ad-052a-471b-d5be-9c9e4998b5b4"
      },
      "outputs": [
        {
          "data": {
            "text/plain": [
              "a    1\n",
              "b    2\n",
              "c    3\n",
              "d    4\n",
              "e    5\n",
              "dtype: int64"
            ]
          },
          "execution_count": 222,
          "metadata": {},
          "output_type": "execute_result"
        }
      ],
      "source": [
        "x2"
      ]
    },
    {
      "cell_type": "code",
      "execution_count": null,
      "metadata": {
        "colab": {
          "base_uri": "https://localhost:8080/"
        },
        "id": "Ihm_sJkuCKxL",
        "outputId": "7c9349f6-08d0-4d31-9121-90fc523cb4b6"
      },
      "outputs": [
        {
          "data": {
            "text/plain": [
              "b    2\n",
              "c    3\n",
              "dtype: int64"
            ]
          },
          "execution_count": 221,
          "metadata": {},
          "output_type": "execute_result"
        }
      ],
      "source": [
        "x2[1:3]"
      ]
    },
    {
      "cell_type": "code",
      "execution_count": null,
      "metadata": {
        "colab": {
          "base_uri": "https://localhost:8080/"
        },
        "id": "jcSo9r4tC0I6",
        "outputId": "947fc8b4-a906-4be4-dcf0-1b6b07e7461f"
      },
      "outputs": [
        {
          "data": {
            "text/plain": [
              "b    2\n",
              "c    3\n",
              "d    4\n",
              "dtype: int64"
            ]
          },
          "execution_count": 223,
          "metadata": {},
          "output_type": "execute_result"
        }
      ],
      "source": [
        "x2['b':'d']"
      ]
    },
    {
      "cell_type": "code",
      "execution_count": null,
      "metadata": {
        "colab": {
          "base_uri": "https://localhost:8080/"
        },
        "id": "b2XNTY3zCTGe",
        "outputId": "f0cb70ad-1075-4c50-abce-73a887accba8"
      },
      "outputs": [
        {
          "data": {
            "text/plain": [
              "1    3\n",
              "2    4\n",
              "dtype: int64"
            ]
          },
          "execution_count": 220,
          "metadata": {},
          "output_type": "execute_result"
        }
      ],
      "source": [
        "y2[1:3]"
      ]
    },
    {
      "cell_type": "code",
      "execution_count": null,
      "metadata": {
        "colab": {
          "base_uri": "https://localhost:8080/"
        },
        "id": "cMZHMPNICeWG",
        "outputId": "20afd00f-ad63-445f-96ba-b5626ea2203d"
      },
      "outputs": [
        {
          "data": {
            "text/plain": [
              "0    2\n",
              "1    3\n",
              "2    4\n",
              "3    5\n",
              "4    6\n",
              "dtype: int64"
            ]
          },
          "execution_count": 224,
          "metadata": {},
          "output_type": "execute_result"
        }
      ],
      "source": [
        "y2"
      ]
    },
    {
      "cell_type": "code",
      "execution_count": null,
      "metadata": {
        "id": "E-CvrCGoDGqc"
      },
      "outputs": [],
      "source": [
        "y2.index = list('bcdef')"
      ]
    },
    {
      "cell_type": "code",
      "execution_count": null,
      "metadata": {
        "colab": {
          "base_uri": "https://localhost:8080/"
        },
        "id": "nmOShZCzDKWE",
        "outputId": "48e8ac73-5f70-4f1a-8d39-e5807eb2c532"
      },
      "outputs": [
        {
          "data": {
            "text/plain": [
              "b    2\n",
              "c    3\n",
              "d    4\n",
              "e    5\n",
              "f    6\n",
              "dtype: int64"
            ]
          },
          "execution_count": 226,
          "metadata": {},
          "output_type": "execute_result"
        }
      ],
      "source": [
        "y2"
      ]
    },
    {
      "cell_type": "code",
      "execution_count": null,
      "metadata": {
        "colab": {
          "base_uri": "https://localhost:8080/"
        },
        "id": "C_N9iEa4DLEH",
        "outputId": "b4e7e0b3-625d-4a3a-a2c7-fd0f50f24e65"
      },
      "outputs": [
        {
          "data": {
            "text/plain": [
              "a    1\n",
              "b    2\n",
              "c    3\n",
              "d    4\n",
              "e    5\n",
              "dtype: int64"
            ]
          },
          "execution_count": 227,
          "metadata": {},
          "output_type": "execute_result"
        }
      ],
      "source": [
        "x2"
      ]
    },
    {
      "cell_type": "code",
      "execution_count": null,
      "metadata": {
        "colab": {
          "base_uri": "https://localhost:8080/"
        },
        "id": "8lRcZ9_eDOQc",
        "outputId": "076ff8d1-6164-4b5e-a3f6-b60d4d46230b"
      },
      "outputs": [
        {
          "data": {
            "text/plain": [
              "a     NaN\n",
              "b     4.0\n",
              "c     6.0\n",
              "d     8.0\n",
              "e    10.0\n",
              "f     NaN\n",
              "dtype: float64"
            ]
          },
          "execution_count": 228,
          "metadata": {},
          "output_type": "execute_result"
        }
      ],
      "source": [
        "x2 + y2"
      ]
    },
    {
      "cell_type": "markdown",
      "metadata": {
        "id": "FqVTIAnCD95v"
      },
      "source": [
        "### DataFrame"
      ]
    },
    {
      "cell_type": "code",
      "execution_count": null,
      "metadata": {
        "id": "PSrsKhaYD_Hz"
      },
      "outputs": [],
      "source": [
        "data = np.random.randint(40, 100, (10, 4))"
      ]
    },
    {
      "cell_type": "code",
      "execution_count": null,
      "metadata": {
        "colab": {
          "base_uri": "https://localhost:8080/"
        },
        "id": "hPdSMGqUEIcy",
        "outputId": "65252267-da0d-48c9-c2c8-b63c0766dd56"
      },
      "outputs": [
        {
          "data": {
            "text/plain": [
              "array([[47, 74, 44, 45],\n",
              "       [94, 79, 90, 52],\n",
              "       [85, 72, 61, 90],\n",
              "       [68, 47, 68, 87],\n",
              "       [65, 81, 95, 73],\n",
              "       [41, 53, 92, 78],\n",
              "       [61, 67, 78, 60],\n",
              "       [73, 41, 71, 93],\n",
              "       [89, 90, 78, 68],\n",
              "       [51, 90, 75, 71]])"
            ]
          },
          "execution_count": 232,
          "metadata": {},
          "output_type": "execute_result"
        }
      ],
      "source": [
        "data"
      ]
    },
    {
      "cell_type": "code",
      "execution_count": null,
      "metadata": {
        "id": "c0abRNhZEJSq"
      },
      "outputs": [],
      "source": [
        "df = pd.DataFrame(data)"
      ]
    },
    {
      "cell_type": "code",
      "execution_count": null,
      "metadata": {
        "colab": {
          "base_uri": "https://localhost:8080/",
          "height": 363
        },
        "id": "l5kGihxMEQta",
        "outputId": "4678dab7-9023-430a-a128-b9a9a498effb"
      },
      "outputs": [
        {
          "data": {
            "text/html": [
              "\n",
              "  <div id=\"df-88b6517a-bb5a-497f-85b5-27a122b24c60\">\n",
              "    <div class=\"colab-df-container\">\n",
              "      <div>\n",
              "<style scoped>\n",
              "    .dataframe tbody tr th:only-of-type {\n",
              "        vertical-align: middle;\n",
              "    }\n",
              "\n",
              "    .dataframe tbody tr th {\n",
              "        vertical-align: top;\n",
              "    }\n",
              "\n",
              "    .dataframe thead th {\n",
              "        text-align: right;\n",
              "    }\n",
              "</style>\n",
              "<table border=\"1\" class=\"dataframe\">\n",
              "  <thead>\n",
              "    <tr style=\"text-align: right;\">\n",
              "      <th></th>\n",
              "      <th>0</th>\n",
              "      <th>1</th>\n",
              "      <th>2</th>\n",
              "      <th>3</th>\n",
              "    </tr>\n",
              "  </thead>\n",
              "  <tbody>\n",
              "    <tr>\n",
              "      <th>0</th>\n",
              "      <td>47</td>\n",
              "      <td>74</td>\n",
              "      <td>44</td>\n",
              "      <td>45</td>\n",
              "    </tr>\n",
              "    <tr>\n",
              "      <th>1</th>\n",
              "      <td>94</td>\n",
              "      <td>79</td>\n",
              "      <td>90</td>\n",
              "      <td>52</td>\n",
              "    </tr>\n",
              "    <tr>\n",
              "      <th>2</th>\n",
              "      <td>85</td>\n",
              "      <td>72</td>\n",
              "      <td>61</td>\n",
              "      <td>90</td>\n",
              "    </tr>\n",
              "    <tr>\n",
              "      <th>3</th>\n",
              "      <td>68</td>\n",
              "      <td>47</td>\n",
              "      <td>68</td>\n",
              "      <td>87</td>\n",
              "    </tr>\n",
              "    <tr>\n",
              "      <th>4</th>\n",
              "      <td>65</td>\n",
              "      <td>81</td>\n",
              "      <td>95</td>\n",
              "      <td>73</td>\n",
              "    </tr>\n",
              "    <tr>\n",
              "      <th>5</th>\n",
              "      <td>41</td>\n",
              "      <td>53</td>\n",
              "      <td>92</td>\n",
              "      <td>78</td>\n",
              "    </tr>\n",
              "    <tr>\n",
              "      <th>6</th>\n",
              "      <td>61</td>\n",
              "      <td>67</td>\n",
              "      <td>78</td>\n",
              "      <td>60</td>\n",
              "    </tr>\n",
              "    <tr>\n",
              "      <th>7</th>\n",
              "      <td>73</td>\n",
              "      <td>41</td>\n",
              "      <td>71</td>\n",
              "      <td>93</td>\n",
              "    </tr>\n",
              "    <tr>\n",
              "      <th>8</th>\n",
              "      <td>89</td>\n",
              "      <td>90</td>\n",
              "      <td>78</td>\n",
              "      <td>68</td>\n",
              "    </tr>\n",
              "    <tr>\n",
              "      <th>9</th>\n",
              "      <td>51</td>\n",
              "      <td>90</td>\n",
              "      <td>75</td>\n",
              "      <td>71</td>\n",
              "    </tr>\n",
              "  </tbody>\n",
              "</table>\n",
              "</div>\n",
              "      <button class=\"colab-df-convert\" onclick=\"convertToInteractive('df-88b6517a-bb5a-497f-85b5-27a122b24c60')\"\n",
              "              title=\"Convert this dataframe to an interactive table.\"\n",
              "              style=\"display:none;\">\n",
              "        \n",
              "  <svg xmlns=\"http://www.w3.org/2000/svg\" height=\"24px\"viewBox=\"0 0 24 24\"\n",
              "       width=\"24px\">\n",
              "    <path d=\"M0 0h24v24H0V0z\" fill=\"none\"/>\n",
              "    <path d=\"M18.56 5.44l.94 2.06.94-2.06 2.06-.94-2.06-.94-.94-2.06-.94 2.06-2.06.94zm-11 1L8.5 8.5l.94-2.06 2.06-.94-2.06-.94L8.5 2.5l-.94 2.06-2.06.94zm10 10l.94 2.06.94-2.06 2.06-.94-2.06-.94-.94-2.06-.94 2.06-2.06.94z\"/><path d=\"M17.41 7.96l-1.37-1.37c-.4-.4-.92-.59-1.43-.59-.52 0-1.04.2-1.43.59L10.3 9.45l-7.72 7.72c-.78.78-.78 2.05 0 2.83L4 21.41c.39.39.9.59 1.41.59.51 0 1.02-.2 1.41-.59l7.78-7.78 2.81-2.81c.8-.78.8-2.07 0-2.86zM5.41 20L4 18.59l7.72-7.72 1.47 1.35L5.41 20z\"/>\n",
              "  </svg>\n",
              "      </button>\n",
              "      \n",
              "  <style>\n",
              "    .colab-df-container {\n",
              "      display:flex;\n",
              "      flex-wrap:wrap;\n",
              "      gap: 12px;\n",
              "    }\n",
              "\n",
              "    .colab-df-convert {\n",
              "      background-color: #E8F0FE;\n",
              "      border: none;\n",
              "      border-radius: 50%;\n",
              "      cursor: pointer;\n",
              "      display: none;\n",
              "      fill: #1967D2;\n",
              "      height: 32px;\n",
              "      padding: 0 0 0 0;\n",
              "      width: 32px;\n",
              "    }\n",
              "\n",
              "    .colab-df-convert:hover {\n",
              "      background-color: #E2EBFA;\n",
              "      box-shadow: 0px 1px 2px rgba(60, 64, 67, 0.3), 0px 1px 3px 1px rgba(60, 64, 67, 0.15);\n",
              "      fill: #174EA6;\n",
              "    }\n",
              "\n",
              "    [theme=dark] .colab-df-convert {\n",
              "      background-color: #3B4455;\n",
              "      fill: #D2E3FC;\n",
              "    }\n",
              "\n",
              "    [theme=dark] .colab-df-convert:hover {\n",
              "      background-color: #434B5C;\n",
              "      box-shadow: 0px 1px 3px 1px rgba(0, 0, 0, 0.15);\n",
              "      filter: drop-shadow(0px 1px 2px rgba(0, 0, 0, 0.3));\n",
              "      fill: #FFFFFF;\n",
              "    }\n",
              "  </style>\n",
              "\n",
              "      <script>\n",
              "        const buttonEl =\n",
              "          document.querySelector('#df-88b6517a-bb5a-497f-85b5-27a122b24c60 button.colab-df-convert');\n",
              "        buttonEl.style.display =\n",
              "          google.colab.kernel.accessAllowed ? 'block' : 'none';\n",
              "\n",
              "        async function convertToInteractive(key) {\n",
              "          const element = document.querySelector('#df-88b6517a-bb5a-497f-85b5-27a122b24c60');\n",
              "          const dataTable =\n",
              "            await google.colab.kernel.invokeFunction('convertToInteractive',\n",
              "                                                     [key], {});\n",
              "          if (!dataTable) return;\n",
              "\n",
              "          const docLinkHtml = 'Like what you see? Visit the ' +\n",
              "            '<a target=\"_blank\" href=https://colab.research.google.com/notebooks/data_table.ipynb>data table notebook</a>'\n",
              "            + ' to learn more about interactive tables.';\n",
              "          element.innerHTML = '';\n",
              "          dataTable['output_type'] = 'display_data';\n",
              "          await google.colab.output.renderOutput(dataTable, element);\n",
              "          const docLink = document.createElement('div');\n",
              "          docLink.innerHTML = docLinkHtml;\n",
              "          element.appendChild(docLink);\n",
              "        }\n",
              "      </script>\n",
              "    </div>\n",
              "  </div>\n",
              "  "
            ],
            "text/plain": [
              "    0   1   2   3\n",
              "0  47  74  44  45\n",
              "1  94  79  90  52\n",
              "2  85  72  61  90\n",
              "3  68  47  68  87\n",
              "4  65  81  95  73\n",
              "5  41  53  92  78\n",
              "6  61  67  78  60\n",
              "7  73  41  71  93\n",
              "8  89  90  78  68\n",
              "9  51  90  75  71"
            ]
          },
          "execution_count": 234,
          "metadata": {},
          "output_type": "execute_result"
        }
      ],
      "source": [
        "df"
      ]
    },
    {
      "cell_type": "code",
      "execution_count": null,
      "metadata": {
        "id": "RSf3S46uERTR"
      },
      "outputs": [],
      "source": [
        "df.columns = ['國文','英文','數學','理化']"
      ]
    },
    {
      "cell_type": "code",
      "execution_count": null,
      "metadata": {
        "colab": {
          "base_uri": "https://localhost:8080/",
          "height": 363
        },
        "id": "pK6rNOldEibR",
        "outputId": "45f41c23-6148-4e07-b19f-a145475ade13"
      },
      "outputs": [
        {
          "data": {
            "text/html": [
              "\n",
              "  <div id=\"df-4c9e440c-855d-41b3-a3c3-e8d0dd71610f\">\n",
              "    <div class=\"colab-df-container\">\n",
              "      <div>\n",
              "<style scoped>\n",
              "    .dataframe tbody tr th:only-of-type {\n",
              "        vertical-align: middle;\n",
              "    }\n",
              "\n",
              "    .dataframe tbody tr th {\n",
              "        vertical-align: top;\n",
              "    }\n",
              "\n",
              "    .dataframe thead th {\n",
              "        text-align: right;\n",
              "    }\n",
              "</style>\n",
              "<table border=\"1\" class=\"dataframe\">\n",
              "  <thead>\n",
              "    <tr style=\"text-align: right;\">\n",
              "      <th></th>\n",
              "      <th>國文</th>\n",
              "      <th>英文</th>\n",
              "      <th>數學</th>\n",
              "      <th>理化</th>\n",
              "    </tr>\n",
              "  </thead>\n",
              "  <tbody>\n",
              "    <tr>\n",
              "      <th>0</th>\n",
              "      <td>47</td>\n",
              "      <td>74</td>\n",
              "      <td>44</td>\n",
              "      <td>45</td>\n",
              "    </tr>\n",
              "    <tr>\n",
              "      <th>1</th>\n",
              "      <td>94</td>\n",
              "      <td>79</td>\n",
              "      <td>90</td>\n",
              "      <td>52</td>\n",
              "    </tr>\n",
              "    <tr>\n",
              "      <th>2</th>\n",
              "      <td>85</td>\n",
              "      <td>72</td>\n",
              "      <td>61</td>\n",
              "      <td>90</td>\n",
              "    </tr>\n",
              "    <tr>\n",
              "      <th>3</th>\n",
              "      <td>68</td>\n",
              "      <td>47</td>\n",
              "      <td>68</td>\n",
              "      <td>87</td>\n",
              "    </tr>\n",
              "    <tr>\n",
              "      <th>4</th>\n",
              "      <td>65</td>\n",
              "      <td>81</td>\n",
              "      <td>95</td>\n",
              "      <td>73</td>\n",
              "    </tr>\n",
              "    <tr>\n",
              "      <th>5</th>\n",
              "      <td>41</td>\n",
              "      <td>53</td>\n",
              "      <td>92</td>\n",
              "      <td>78</td>\n",
              "    </tr>\n",
              "    <tr>\n",
              "      <th>6</th>\n",
              "      <td>61</td>\n",
              "      <td>67</td>\n",
              "      <td>78</td>\n",
              "      <td>60</td>\n",
              "    </tr>\n",
              "    <tr>\n",
              "      <th>7</th>\n",
              "      <td>73</td>\n",
              "      <td>41</td>\n",
              "      <td>71</td>\n",
              "      <td>93</td>\n",
              "    </tr>\n",
              "    <tr>\n",
              "      <th>8</th>\n",
              "      <td>89</td>\n",
              "      <td>90</td>\n",
              "      <td>78</td>\n",
              "      <td>68</td>\n",
              "    </tr>\n",
              "    <tr>\n",
              "      <th>9</th>\n",
              "      <td>51</td>\n",
              "      <td>90</td>\n",
              "      <td>75</td>\n",
              "      <td>71</td>\n",
              "    </tr>\n",
              "  </tbody>\n",
              "</table>\n",
              "</div>\n",
              "      <button class=\"colab-df-convert\" onclick=\"convertToInteractive('df-4c9e440c-855d-41b3-a3c3-e8d0dd71610f')\"\n",
              "              title=\"Convert this dataframe to an interactive table.\"\n",
              "              style=\"display:none;\">\n",
              "        \n",
              "  <svg xmlns=\"http://www.w3.org/2000/svg\" height=\"24px\"viewBox=\"0 0 24 24\"\n",
              "       width=\"24px\">\n",
              "    <path d=\"M0 0h24v24H0V0z\" fill=\"none\"/>\n",
              "    <path d=\"M18.56 5.44l.94 2.06.94-2.06 2.06-.94-2.06-.94-.94-2.06-.94 2.06-2.06.94zm-11 1L8.5 8.5l.94-2.06 2.06-.94-2.06-.94L8.5 2.5l-.94 2.06-2.06.94zm10 10l.94 2.06.94-2.06 2.06-.94-2.06-.94-.94-2.06-.94 2.06-2.06.94z\"/><path d=\"M17.41 7.96l-1.37-1.37c-.4-.4-.92-.59-1.43-.59-.52 0-1.04.2-1.43.59L10.3 9.45l-7.72 7.72c-.78.78-.78 2.05 0 2.83L4 21.41c.39.39.9.59 1.41.59.51 0 1.02-.2 1.41-.59l7.78-7.78 2.81-2.81c.8-.78.8-2.07 0-2.86zM5.41 20L4 18.59l7.72-7.72 1.47 1.35L5.41 20z\"/>\n",
              "  </svg>\n",
              "      </button>\n",
              "      \n",
              "  <style>\n",
              "    .colab-df-container {\n",
              "      display:flex;\n",
              "      flex-wrap:wrap;\n",
              "      gap: 12px;\n",
              "    }\n",
              "\n",
              "    .colab-df-convert {\n",
              "      background-color: #E8F0FE;\n",
              "      border: none;\n",
              "      border-radius: 50%;\n",
              "      cursor: pointer;\n",
              "      display: none;\n",
              "      fill: #1967D2;\n",
              "      height: 32px;\n",
              "      padding: 0 0 0 0;\n",
              "      width: 32px;\n",
              "    }\n",
              "\n",
              "    .colab-df-convert:hover {\n",
              "      background-color: #E2EBFA;\n",
              "      box-shadow: 0px 1px 2px rgba(60, 64, 67, 0.3), 0px 1px 3px 1px rgba(60, 64, 67, 0.15);\n",
              "      fill: #174EA6;\n",
              "    }\n",
              "\n",
              "    [theme=dark] .colab-df-convert {\n",
              "      background-color: #3B4455;\n",
              "      fill: #D2E3FC;\n",
              "    }\n",
              "\n",
              "    [theme=dark] .colab-df-convert:hover {\n",
              "      background-color: #434B5C;\n",
              "      box-shadow: 0px 1px 3px 1px rgba(0, 0, 0, 0.15);\n",
              "      filter: drop-shadow(0px 1px 2px rgba(0, 0, 0, 0.3));\n",
              "      fill: #FFFFFF;\n",
              "    }\n",
              "  </style>\n",
              "\n",
              "      <script>\n",
              "        const buttonEl =\n",
              "          document.querySelector('#df-4c9e440c-855d-41b3-a3c3-e8d0dd71610f button.colab-df-convert');\n",
              "        buttonEl.style.display =\n",
              "          google.colab.kernel.accessAllowed ? 'block' : 'none';\n",
              "\n",
              "        async function convertToInteractive(key) {\n",
              "          const element = document.querySelector('#df-4c9e440c-855d-41b3-a3c3-e8d0dd71610f');\n",
              "          const dataTable =\n",
              "            await google.colab.kernel.invokeFunction('convertToInteractive',\n",
              "                                                     [key], {});\n",
              "          if (!dataTable) return;\n",
              "\n",
              "          const docLinkHtml = 'Like what you see? Visit the ' +\n",
              "            '<a target=\"_blank\" href=https://colab.research.google.com/notebooks/data_table.ipynb>data table notebook</a>'\n",
              "            + ' to learn more about interactive tables.';\n",
              "          element.innerHTML = '';\n",
              "          dataTable['output_type'] = 'display_data';\n",
              "          await google.colab.output.renderOutput(dataTable, element);\n",
              "          const docLink = document.createElement('div');\n",
              "          docLink.innerHTML = docLinkHtml;\n",
              "          element.appendChild(docLink);\n",
              "        }\n",
              "      </script>\n",
              "    </div>\n",
              "  </div>\n",
              "  "
            ],
            "text/plain": [
              "   國文  英文  數學  理化\n",
              "0  47  74  44  45\n",
              "1  94  79  90  52\n",
              "2  85  72  61  90\n",
              "3  68  47  68  87\n",
              "4  65  81  95  73\n",
              "5  41  53  92  78\n",
              "6  61  67  78  60\n",
              "7  73  41  71  93\n",
              "8  89  90  78  68\n",
              "9  51  90  75  71"
            ]
          },
          "execution_count": 236,
          "metadata": {},
          "output_type": "execute_result"
        }
      ],
      "source": [
        "df"
      ]
    },
    {
      "cell_type": "code",
      "execution_count": null,
      "metadata": {
        "id": "8AzH3otLEjJv"
      },
      "outputs": [],
      "source": [
        "df.index = list('abcdefghij')"
      ]
    },
    {
      "cell_type": "code",
      "execution_count": null,
      "metadata": {
        "colab": {
          "base_uri": "https://localhost:8080/",
          "height": 363
        },
        "id": "8RONcMa8EpN1",
        "outputId": "13b9d09b-1d1a-4ea0-c186-295590996d0d"
      },
      "outputs": [
        {
          "data": {
            "text/html": [
              "\n",
              "  <div id=\"df-ee461e2e-3861-4939-aee6-2de6f78a7e09\">\n",
              "    <div class=\"colab-df-container\">\n",
              "      <div>\n",
              "<style scoped>\n",
              "    .dataframe tbody tr th:only-of-type {\n",
              "        vertical-align: middle;\n",
              "    }\n",
              "\n",
              "    .dataframe tbody tr th {\n",
              "        vertical-align: top;\n",
              "    }\n",
              "\n",
              "    .dataframe thead th {\n",
              "        text-align: right;\n",
              "    }\n",
              "</style>\n",
              "<table border=\"1\" class=\"dataframe\">\n",
              "  <thead>\n",
              "    <tr style=\"text-align: right;\">\n",
              "      <th></th>\n",
              "      <th>國文</th>\n",
              "      <th>英文</th>\n",
              "      <th>數學</th>\n",
              "      <th>理化</th>\n",
              "    </tr>\n",
              "  </thead>\n",
              "  <tbody>\n",
              "    <tr>\n",
              "      <th>a</th>\n",
              "      <td>47</td>\n",
              "      <td>74</td>\n",
              "      <td>44</td>\n",
              "      <td>45</td>\n",
              "    </tr>\n",
              "    <tr>\n",
              "      <th>b</th>\n",
              "      <td>94</td>\n",
              "      <td>79</td>\n",
              "      <td>90</td>\n",
              "      <td>52</td>\n",
              "    </tr>\n",
              "    <tr>\n",
              "      <th>c</th>\n",
              "      <td>85</td>\n",
              "      <td>72</td>\n",
              "      <td>61</td>\n",
              "      <td>90</td>\n",
              "    </tr>\n",
              "    <tr>\n",
              "      <th>d</th>\n",
              "      <td>68</td>\n",
              "      <td>47</td>\n",
              "      <td>68</td>\n",
              "      <td>87</td>\n",
              "    </tr>\n",
              "    <tr>\n",
              "      <th>e</th>\n",
              "      <td>65</td>\n",
              "      <td>81</td>\n",
              "      <td>95</td>\n",
              "      <td>73</td>\n",
              "    </tr>\n",
              "    <tr>\n",
              "      <th>f</th>\n",
              "      <td>41</td>\n",
              "      <td>53</td>\n",
              "      <td>92</td>\n",
              "      <td>78</td>\n",
              "    </tr>\n",
              "    <tr>\n",
              "      <th>g</th>\n",
              "      <td>61</td>\n",
              "      <td>67</td>\n",
              "      <td>78</td>\n",
              "      <td>60</td>\n",
              "    </tr>\n",
              "    <tr>\n",
              "      <th>h</th>\n",
              "      <td>73</td>\n",
              "      <td>41</td>\n",
              "      <td>71</td>\n",
              "      <td>93</td>\n",
              "    </tr>\n",
              "    <tr>\n",
              "      <th>i</th>\n",
              "      <td>89</td>\n",
              "      <td>90</td>\n",
              "      <td>78</td>\n",
              "      <td>68</td>\n",
              "    </tr>\n",
              "    <tr>\n",
              "      <th>j</th>\n",
              "      <td>51</td>\n",
              "      <td>90</td>\n",
              "      <td>75</td>\n",
              "      <td>71</td>\n",
              "    </tr>\n",
              "  </tbody>\n",
              "</table>\n",
              "</div>\n",
              "      <button class=\"colab-df-convert\" onclick=\"convertToInteractive('df-ee461e2e-3861-4939-aee6-2de6f78a7e09')\"\n",
              "              title=\"Convert this dataframe to an interactive table.\"\n",
              "              style=\"display:none;\">\n",
              "        \n",
              "  <svg xmlns=\"http://www.w3.org/2000/svg\" height=\"24px\"viewBox=\"0 0 24 24\"\n",
              "       width=\"24px\">\n",
              "    <path d=\"M0 0h24v24H0V0z\" fill=\"none\"/>\n",
              "    <path d=\"M18.56 5.44l.94 2.06.94-2.06 2.06-.94-2.06-.94-.94-2.06-.94 2.06-2.06.94zm-11 1L8.5 8.5l.94-2.06 2.06-.94-2.06-.94L8.5 2.5l-.94 2.06-2.06.94zm10 10l.94 2.06.94-2.06 2.06-.94-2.06-.94-.94-2.06-.94 2.06-2.06.94z\"/><path d=\"M17.41 7.96l-1.37-1.37c-.4-.4-.92-.59-1.43-.59-.52 0-1.04.2-1.43.59L10.3 9.45l-7.72 7.72c-.78.78-.78 2.05 0 2.83L4 21.41c.39.39.9.59 1.41.59.51 0 1.02-.2 1.41-.59l7.78-7.78 2.81-2.81c.8-.78.8-2.07 0-2.86zM5.41 20L4 18.59l7.72-7.72 1.47 1.35L5.41 20z\"/>\n",
              "  </svg>\n",
              "      </button>\n",
              "      \n",
              "  <style>\n",
              "    .colab-df-container {\n",
              "      display:flex;\n",
              "      flex-wrap:wrap;\n",
              "      gap: 12px;\n",
              "    }\n",
              "\n",
              "    .colab-df-convert {\n",
              "      background-color: #E8F0FE;\n",
              "      border: none;\n",
              "      border-radius: 50%;\n",
              "      cursor: pointer;\n",
              "      display: none;\n",
              "      fill: #1967D2;\n",
              "      height: 32px;\n",
              "      padding: 0 0 0 0;\n",
              "      width: 32px;\n",
              "    }\n",
              "\n",
              "    .colab-df-convert:hover {\n",
              "      background-color: #E2EBFA;\n",
              "      box-shadow: 0px 1px 2px rgba(60, 64, 67, 0.3), 0px 1px 3px 1px rgba(60, 64, 67, 0.15);\n",
              "      fill: #174EA6;\n",
              "    }\n",
              "\n",
              "    [theme=dark] .colab-df-convert {\n",
              "      background-color: #3B4455;\n",
              "      fill: #D2E3FC;\n",
              "    }\n",
              "\n",
              "    [theme=dark] .colab-df-convert:hover {\n",
              "      background-color: #434B5C;\n",
              "      box-shadow: 0px 1px 3px 1px rgba(0, 0, 0, 0.15);\n",
              "      filter: drop-shadow(0px 1px 2px rgba(0, 0, 0, 0.3));\n",
              "      fill: #FFFFFF;\n",
              "    }\n",
              "  </style>\n",
              "\n",
              "      <script>\n",
              "        const buttonEl =\n",
              "          document.querySelector('#df-ee461e2e-3861-4939-aee6-2de6f78a7e09 button.colab-df-convert');\n",
              "        buttonEl.style.display =\n",
              "          google.colab.kernel.accessAllowed ? 'block' : 'none';\n",
              "\n",
              "        async function convertToInteractive(key) {\n",
              "          const element = document.querySelector('#df-ee461e2e-3861-4939-aee6-2de6f78a7e09');\n",
              "          const dataTable =\n",
              "            await google.colab.kernel.invokeFunction('convertToInteractive',\n",
              "                                                     [key], {});\n",
              "          if (!dataTable) return;\n",
              "\n",
              "          const docLinkHtml = 'Like what you see? Visit the ' +\n",
              "            '<a target=\"_blank\" href=https://colab.research.google.com/notebooks/data_table.ipynb>data table notebook</a>'\n",
              "            + ' to learn more about interactive tables.';\n",
              "          element.innerHTML = '';\n",
              "          dataTable['output_type'] = 'display_data';\n",
              "          await google.colab.output.renderOutput(dataTable, element);\n",
              "          const docLink = document.createElement('div');\n",
              "          docLink.innerHTML = docLinkHtml;\n",
              "          element.appendChild(docLink);\n",
              "        }\n",
              "      </script>\n",
              "    </div>\n",
              "  </div>\n",
              "  "
            ],
            "text/plain": [
              "   國文  英文  數學  理化\n",
              "a  47  74  44  45\n",
              "b  94  79  90  52\n",
              "c  85  72  61  90\n",
              "d  68  47  68  87\n",
              "e  65  81  95  73\n",
              "f  41  53  92  78\n",
              "g  61  67  78  60\n",
              "h  73  41  71  93\n",
              "i  89  90  78  68\n",
              "j  51  90  75  71"
            ]
          },
          "execution_count": 238,
          "metadata": {},
          "output_type": "execute_result"
        }
      ],
      "source": [
        "df"
      ]
    },
    {
      "cell_type": "code",
      "execution_count": null,
      "metadata": {
        "colab": {
          "base_uri": "https://localhost:8080/",
          "height": 143
        },
        "id": "MVCtQexzEqKk",
        "outputId": "39f1704d-eac4-44bd-cde0-6bcf463e0dbd"
      },
      "outputs": [
        {
          "data": {
            "text/html": [
              "\n",
              "  <div id=\"df-3b9e54fc-f628-424f-b302-3ea5d2cf0953\">\n",
              "    <div class=\"colab-df-container\">\n",
              "      <div>\n",
              "<style scoped>\n",
              "    .dataframe tbody tr th:only-of-type {\n",
              "        vertical-align: middle;\n",
              "    }\n",
              "\n",
              "    .dataframe tbody tr th {\n",
              "        vertical-align: top;\n",
              "    }\n",
              "\n",
              "    .dataframe thead th {\n",
              "        text-align: right;\n",
              "    }\n",
              "</style>\n",
              "<table border=\"1\" class=\"dataframe\">\n",
              "  <thead>\n",
              "    <tr style=\"text-align: right;\">\n",
              "      <th></th>\n",
              "      <th>國文</th>\n",
              "      <th>英文</th>\n",
              "      <th>數學</th>\n",
              "      <th>理化</th>\n",
              "    </tr>\n",
              "  </thead>\n",
              "  <tbody>\n",
              "    <tr>\n",
              "      <th>a</th>\n",
              "      <td>47</td>\n",
              "      <td>74</td>\n",
              "      <td>44</td>\n",
              "      <td>45</td>\n",
              "    </tr>\n",
              "    <tr>\n",
              "      <th>f</th>\n",
              "      <td>41</td>\n",
              "      <td>53</td>\n",
              "      <td>92</td>\n",
              "      <td>78</td>\n",
              "    </tr>\n",
              "    <tr>\n",
              "      <th>j</th>\n",
              "      <td>51</td>\n",
              "      <td>90</td>\n",
              "      <td>75</td>\n",
              "      <td>71</td>\n",
              "    </tr>\n",
              "  </tbody>\n",
              "</table>\n",
              "</div>\n",
              "      <button class=\"colab-df-convert\" onclick=\"convertToInteractive('df-3b9e54fc-f628-424f-b302-3ea5d2cf0953')\"\n",
              "              title=\"Convert this dataframe to an interactive table.\"\n",
              "              style=\"display:none;\">\n",
              "        \n",
              "  <svg xmlns=\"http://www.w3.org/2000/svg\" height=\"24px\"viewBox=\"0 0 24 24\"\n",
              "       width=\"24px\">\n",
              "    <path d=\"M0 0h24v24H0V0z\" fill=\"none\"/>\n",
              "    <path d=\"M18.56 5.44l.94 2.06.94-2.06 2.06-.94-2.06-.94-.94-2.06-.94 2.06-2.06.94zm-11 1L8.5 8.5l.94-2.06 2.06-.94-2.06-.94L8.5 2.5l-.94 2.06-2.06.94zm10 10l.94 2.06.94-2.06 2.06-.94-2.06-.94-.94-2.06-.94 2.06-2.06.94z\"/><path d=\"M17.41 7.96l-1.37-1.37c-.4-.4-.92-.59-1.43-.59-.52 0-1.04.2-1.43.59L10.3 9.45l-7.72 7.72c-.78.78-.78 2.05 0 2.83L4 21.41c.39.39.9.59 1.41.59.51 0 1.02-.2 1.41-.59l7.78-7.78 2.81-2.81c.8-.78.8-2.07 0-2.86zM5.41 20L4 18.59l7.72-7.72 1.47 1.35L5.41 20z\"/>\n",
              "  </svg>\n",
              "      </button>\n",
              "      \n",
              "  <style>\n",
              "    .colab-df-container {\n",
              "      display:flex;\n",
              "      flex-wrap:wrap;\n",
              "      gap: 12px;\n",
              "    }\n",
              "\n",
              "    .colab-df-convert {\n",
              "      background-color: #E8F0FE;\n",
              "      border: none;\n",
              "      border-radius: 50%;\n",
              "      cursor: pointer;\n",
              "      display: none;\n",
              "      fill: #1967D2;\n",
              "      height: 32px;\n",
              "      padding: 0 0 0 0;\n",
              "      width: 32px;\n",
              "    }\n",
              "\n",
              "    .colab-df-convert:hover {\n",
              "      background-color: #E2EBFA;\n",
              "      box-shadow: 0px 1px 2px rgba(60, 64, 67, 0.3), 0px 1px 3px 1px rgba(60, 64, 67, 0.15);\n",
              "      fill: #174EA6;\n",
              "    }\n",
              "\n",
              "    [theme=dark] .colab-df-convert {\n",
              "      background-color: #3B4455;\n",
              "      fill: #D2E3FC;\n",
              "    }\n",
              "\n",
              "    [theme=dark] .colab-df-convert:hover {\n",
              "      background-color: #434B5C;\n",
              "      box-shadow: 0px 1px 3px 1px rgba(0, 0, 0, 0.15);\n",
              "      filter: drop-shadow(0px 1px 2px rgba(0, 0, 0, 0.3));\n",
              "      fill: #FFFFFF;\n",
              "    }\n",
              "  </style>\n",
              "\n",
              "      <script>\n",
              "        const buttonEl =\n",
              "          document.querySelector('#df-3b9e54fc-f628-424f-b302-3ea5d2cf0953 button.colab-df-convert');\n",
              "        buttonEl.style.display =\n",
              "          google.colab.kernel.accessAllowed ? 'block' : 'none';\n",
              "\n",
              "        async function convertToInteractive(key) {\n",
              "          const element = document.querySelector('#df-3b9e54fc-f628-424f-b302-3ea5d2cf0953');\n",
              "          const dataTable =\n",
              "            await google.colab.kernel.invokeFunction('convertToInteractive',\n",
              "                                                     [key], {});\n",
              "          if (!dataTable) return;\n",
              "\n",
              "          const docLinkHtml = 'Like what you see? Visit the ' +\n",
              "            '<a target=\"_blank\" href=https://colab.research.google.com/notebooks/data_table.ipynb>data table notebook</a>'\n",
              "            + ' to learn more about interactive tables.';\n",
              "          element.innerHTML = '';\n",
              "          dataTable['output_type'] = 'display_data';\n",
              "          await google.colab.output.renderOutput(dataTable, element);\n",
              "          const docLink = document.createElement('div');\n",
              "          docLink.innerHTML = docLinkHtml;\n",
              "          element.appendChild(docLink);\n",
              "        }\n",
              "      </script>\n",
              "    </div>\n",
              "  </div>\n",
              "  "
            ],
            "text/plain": [
              "   國文  英文  數學  理化\n",
              "a  47  74  44  45\n",
              "f  41  53  92  78\n",
              "j  51  90  75  71"
            ]
          },
          "execution_count": 239,
          "metadata": {},
          "output_type": "execute_result"
        }
      ],
      "source": [
        "df[df['國文'] < 60]"
      ]
    },
    {
      "cell_type": "code",
      "execution_count": null,
      "metadata": {
        "id": "N2B_VzE7E0hq"
      },
      "outputs": [],
      "source": [
        "df['總分'] = df.apply(sum, axis=1)"
      ]
    },
    {
      "cell_type": "code",
      "execution_count": null,
      "metadata": {
        "colab": {
          "base_uri": "https://localhost:8080/",
          "height": 363
        },
        "id": "9pDLZjNOFF1h",
        "outputId": "135e8d3e-c55b-4316-d1d4-6c573a238e6c"
      },
      "outputs": [
        {
          "data": {
            "text/html": [
              "\n",
              "  <div id=\"df-95ce5364-8fa8-4d7f-a998-036b8c56ebf1\">\n",
              "    <div class=\"colab-df-container\">\n",
              "      <div>\n",
              "<style scoped>\n",
              "    .dataframe tbody tr th:only-of-type {\n",
              "        vertical-align: middle;\n",
              "    }\n",
              "\n",
              "    .dataframe tbody tr th {\n",
              "        vertical-align: top;\n",
              "    }\n",
              "\n",
              "    .dataframe thead th {\n",
              "        text-align: right;\n",
              "    }\n",
              "</style>\n",
              "<table border=\"1\" class=\"dataframe\">\n",
              "  <thead>\n",
              "    <tr style=\"text-align: right;\">\n",
              "      <th></th>\n",
              "      <th>國文</th>\n",
              "      <th>英文</th>\n",
              "      <th>數學</th>\n",
              "      <th>理化</th>\n",
              "      <th>總分</th>\n",
              "    </tr>\n",
              "  </thead>\n",
              "  <tbody>\n",
              "    <tr>\n",
              "      <th>a</th>\n",
              "      <td>47</td>\n",
              "      <td>74</td>\n",
              "      <td>44</td>\n",
              "      <td>45</td>\n",
              "      <td>210</td>\n",
              "    </tr>\n",
              "    <tr>\n",
              "      <th>b</th>\n",
              "      <td>94</td>\n",
              "      <td>79</td>\n",
              "      <td>90</td>\n",
              "      <td>52</td>\n",
              "      <td>315</td>\n",
              "    </tr>\n",
              "    <tr>\n",
              "      <th>c</th>\n",
              "      <td>85</td>\n",
              "      <td>72</td>\n",
              "      <td>61</td>\n",
              "      <td>90</td>\n",
              "      <td>308</td>\n",
              "    </tr>\n",
              "    <tr>\n",
              "      <th>d</th>\n",
              "      <td>68</td>\n",
              "      <td>47</td>\n",
              "      <td>68</td>\n",
              "      <td>87</td>\n",
              "      <td>270</td>\n",
              "    </tr>\n",
              "    <tr>\n",
              "      <th>e</th>\n",
              "      <td>65</td>\n",
              "      <td>81</td>\n",
              "      <td>95</td>\n",
              "      <td>73</td>\n",
              "      <td>314</td>\n",
              "    </tr>\n",
              "    <tr>\n",
              "      <th>f</th>\n",
              "      <td>41</td>\n",
              "      <td>53</td>\n",
              "      <td>92</td>\n",
              "      <td>78</td>\n",
              "      <td>264</td>\n",
              "    </tr>\n",
              "    <tr>\n",
              "      <th>g</th>\n",
              "      <td>61</td>\n",
              "      <td>67</td>\n",
              "      <td>78</td>\n",
              "      <td>60</td>\n",
              "      <td>266</td>\n",
              "    </tr>\n",
              "    <tr>\n",
              "      <th>h</th>\n",
              "      <td>73</td>\n",
              "      <td>41</td>\n",
              "      <td>71</td>\n",
              "      <td>93</td>\n",
              "      <td>278</td>\n",
              "    </tr>\n",
              "    <tr>\n",
              "      <th>i</th>\n",
              "      <td>89</td>\n",
              "      <td>90</td>\n",
              "      <td>78</td>\n",
              "      <td>68</td>\n",
              "      <td>325</td>\n",
              "    </tr>\n",
              "    <tr>\n",
              "      <th>j</th>\n",
              "      <td>51</td>\n",
              "      <td>90</td>\n",
              "      <td>75</td>\n",
              "      <td>71</td>\n",
              "      <td>287</td>\n",
              "    </tr>\n",
              "  </tbody>\n",
              "</table>\n",
              "</div>\n",
              "      <button class=\"colab-df-convert\" onclick=\"convertToInteractive('df-95ce5364-8fa8-4d7f-a998-036b8c56ebf1')\"\n",
              "              title=\"Convert this dataframe to an interactive table.\"\n",
              "              style=\"display:none;\">\n",
              "        \n",
              "  <svg xmlns=\"http://www.w3.org/2000/svg\" height=\"24px\"viewBox=\"0 0 24 24\"\n",
              "       width=\"24px\">\n",
              "    <path d=\"M0 0h24v24H0V0z\" fill=\"none\"/>\n",
              "    <path d=\"M18.56 5.44l.94 2.06.94-2.06 2.06-.94-2.06-.94-.94-2.06-.94 2.06-2.06.94zm-11 1L8.5 8.5l.94-2.06 2.06-.94-2.06-.94L8.5 2.5l-.94 2.06-2.06.94zm10 10l.94 2.06.94-2.06 2.06-.94-2.06-.94-.94-2.06-.94 2.06-2.06.94z\"/><path d=\"M17.41 7.96l-1.37-1.37c-.4-.4-.92-.59-1.43-.59-.52 0-1.04.2-1.43.59L10.3 9.45l-7.72 7.72c-.78.78-.78 2.05 0 2.83L4 21.41c.39.39.9.59 1.41.59.51 0 1.02-.2 1.41-.59l7.78-7.78 2.81-2.81c.8-.78.8-2.07 0-2.86zM5.41 20L4 18.59l7.72-7.72 1.47 1.35L5.41 20z\"/>\n",
              "  </svg>\n",
              "      </button>\n",
              "      \n",
              "  <style>\n",
              "    .colab-df-container {\n",
              "      display:flex;\n",
              "      flex-wrap:wrap;\n",
              "      gap: 12px;\n",
              "    }\n",
              "\n",
              "    .colab-df-convert {\n",
              "      background-color: #E8F0FE;\n",
              "      border: none;\n",
              "      border-radius: 50%;\n",
              "      cursor: pointer;\n",
              "      display: none;\n",
              "      fill: #1967D2;\n",
              "      height: 32px;\n",
              "      padding: 0 0 0 0;\n",
              "      width: 32px;\n",
              "    }\n",
              "\n",
              "    .colab-df-convert:hover {\n",
              "      background-color: #E2EBFA;\n",
              "      box-shadow: 0px 1px 2px rgba(60, 64, 67, 0.3), 0px 1px 3px 1px rgba(60, 64, 67, 0.15);\n",
              "      fill: #174EA6;\n",
              "    }\n",
              "\n",
              "    [theme=dark] .colab-df-convert {\n",
              "      background-color: #3B4455;\n",
              "      fill: #D2E3FC;\n",
              "    }\n",
              "\n",
              "    [theme=dark] .colab-df-convert:hover {\n",
              "      background-color: #434B5C;\n",
              "      box-shadow: 0px 1px 3px 1px rgba(0, 0, 0, 0.15);\n",
              "      filter: drop-shadow(0px 1px 2px rgba(0, 0, 0, 0.3));\n",
              "      fill: #FFFFFF;\n",
              "    }\n",
              "  </style>\n",
              "\n",
              "      <script>\n",
              "        const buttonEl =\n",
              "          document.querySelector('#df-95ce5364-8fa8-4d7f-a998-036b8c56ebf1 button.colab-df-convert');\n",
              "        buttonEl.style.display =\n",
              "          google.colab.kernel.accessAllowed ? 'block' : 'none';\n",
              "\n",
              "        async function convertToInteractive(key) {\n",
              "          const element = document.querySelector('#df-95ce5364-8fa8-4d7f-a998-036b8c56ebf1');\n",
              "          const dataTable =\n",
              "            await google.colab.kernel.invokeFunction('convertToInteractive',\n",
              "                                                     [key], {});\n",
              "          if (!dataTable) return;\n",
              "\n",
              "          const docLinkHtml = 'Like what you see? Visit the ' +\n",
              "            '<a target=\"_blank\" href=https://colab.research.google.com/notebooks/data_table.ipynb>data table notebook</a>'\n",
              "            + ' to learn more about interactive tables.';\n",
              "          element.innerHTML = '';\n",
              "          dataTable['output_type'] = 'display_data';\n",
              "          await google.colab.output.renderOutput(dataTable, element);\n",
              "          const docLink = document.createElement('div');\n",
              "          docLink.innerHTML = docLinkHtml;\n",
              "          element.appendChild(docLink);\n",
              "        }\n",
              "      </script>\n",
              "    </div>\n",
              "  </div>\n",
              "  "
            ],
            "text/plain": [
              "   國文  英文  數學  理化   總分\n",
              "a  47  74  44  45  210\n",
              "b  94  79  90  52  315\n",
              "c  85  72  61  90  308\n",
              "d  68  47  68  87  270\n",
              "e  65  81  95  73  314\n",
              "f  41  53  92  78  264\n",
              "g  61  67  78  60  266\n",
              "h  73  41  71  93  278\n",
              "i  89  90  78  68  325\n",
              "j  51  90  75  71  287"
            ]
          },
          "execution_count": 243,
          "metadata": {},
          "output_type": "execute_result"
        }
      ],
      "source": [
        "df"
      ]
    },
    {
      "cell_type": "markdown",
      "metadata": {
        "id": "F6YzoozeFshY"
      },
      "source": [
        "### 計算0050成分股的投資報酬率"
      ]
    },
    {
      "cell_type": "code",
      "execution_count": null,
      "metadata": {
        "id": "Z6ddOq5kFOKs"
      },
      "outputs": [],
      "source": [
        "url = \"https://www.yuantaetfs.com/api/StkWeights?date=&fundid=1066\""
      ]
    },
    {
      "cell_type": "code",
      "execution_count": null,
      "metadata": {
        "id": "mJ3oYcp1Fwpl"
      },
      "outputs": [],
      "source": [
        "stocks = pd.read_json(url)"
      ]
    },
    {
      "cell_type": "code",
      "execution_count": null,
      "metadata": {
        "colab": {
          "base_uri": "https://localhost:8080/"
        },
        "id": "D2oZVmmfF1rY",
        "outputId": "d2bc3f68-f9f8-4127-951c-d53fd05f4a99"
      },
      "outputs": [
        {
          "name": "stdout",
          "output_type": "stream",
          "text": [
            "\r[*********************100%***********************]  1 of 1 completed\n",
            "2330 ==> 1.4778761061946903\n",
            "[*********************100%***********************]  1 of 1 completed\n",
            "2317 ==> 1.1949338805435155\n",
            "[*********************100%***********************]  1 of 1 completed\n",
            "2454 ==> 1.5447338618346547\n",
            "[*********************100%***********************]  1 of 1 completed\n",
            "2308 ==> 1.7350993377483444\n",
            "[*********************100%***********************]  1 of 1 completed\n",
            "2412 ==> 1.1095890410958904\n",
            "[*********************100%***********************]  1 of 1 completed\n",
            "2303 ==> 2.3444109381090117\n",
            "[*********************100%***********************]  1 of 1 completed\n",
            "1301 ==> 0.9146586332307169\n",
            "[*********************100%***********************]  1 of 1 completed\n",
            "2891 ==> 1.0380313363293925\n",
            "[*********************100%***********************]  1 of 1 completed\n",
            "2881 ==> 1.333261575413659\n",
            "[*********************100%***********************]  1 of 1 completed\n",
            "2886 ==> 1.1633986284418214\n",
            "[*********************100%***********************]  1 of 1 completed\n",
            "2882 ==> 1.0763807299241803\n",
            "[*********************100%***********************]  1 of 1 completed\n",
            "1303 ==> 0.9173553701638334\n",
            "[*********************100%***********************]  1 of 1 completed\n",
            "2884 ==> nan\n",
            "[*********************100%***********************]  1 of 1 completed\n",
            "2002 ==> 1.1395833492279053\n",
            "[*********************100%***********************]  1 of 1 completed\n",
            "1216 ==> 0.9420485768299597\n",
            "[*********************100%***********************]  1 of 1 completed\n",
            "3711 ==> 1.0603864712042887\n",
            "[*********************100%***********************]  1 of 1 completed\n",
            "5871 ==> 1.7011374704218818\n",
            "[*********************100%***********************]  1 of 1 completed\n",
            "2892 ==> 1.174178315277676\n",
            "[*********************100%***********************]  1 of 1 completed\n",
            "5880 ==> 1.3730863372659616\n",
            "[*********************100%***********************]  1 of 1 completed\n",
            "1326 ==> 0.7844926504656715\n",
            "[*********************100%***********************]  1 of 1 completed\n",
            "2885 ==> 1.034851520422779\n",
            "[*********************100%***********************]  1 of 1 completed\n",
            "2603 ==> 7.244094596984362\n",
            "[*********************100%***********************]  1 of 1 completed\n",
            "1101 ==> 1.0004261893665454\n",
            "[*********************100%***********************]  1 of 1 completed\n",
            "2880 ==> 1.1356411637804456\n",
            "[*********************100%***********************]  1 of 1 completed\n",
            "2357 ==> 1.375\n",
            "[*********************100%***********************]  1 of 1 completed\n",
            "2382 ==> 1.318750023841858\n",
            "[*********************100%***********************]  1 of 1 completed\n",
            "2883 ==> 1.3323044705248417\n",
            "[*********************100%***********************]  1 of 1 completed\n",
            "3037 ==> 3.715596460310786\n",
            "[*********************100%***********************]  1 of 1 completed\n",
            "3008 ==> 0.3946322067594433\n",
            "[*********************100%***********************]  1 of 1 completed\n",
            "2207 ==> 0.8986587183308494\n",
            "[*********************100%***********************]  1 of 1 completed\n",
            "3045 ==> 0.9022222222222223\n",
            "[*********************100%***********************]  1 of 1 completed\n",
            "2887 ==> 1.1541517624349\n",
            "[*********************100%***********************]  1 of 1 completed\n",
            "2379 ==> 1.4245472837022133\n",
            "[*********************100%***********************]  1 of 1 completed\n",
            "5876 ==> 0.9605769377488357\n",
            "[*********************100%***********************]  1 of 1 completed\n",
            "2912 ==> 0.9421487603305785\n",
            "[*********************100%***********************]  1 of 1 completed\n",
            "2327 ==> 0.7809633027522935\n",
            "[*********************100%***********************]  1 of 1 completed\n",
            "2609 ==> 11.881867789434743\n",
            "[*********************100%***********************]  1 of 1 completed\n",
            "3034 ==> 1.1797752808988764\n",
            "[*********************100%***********************]  1 of 1 completed\n",
            "2615 ==> 6.97459501705423\n",
            "[*********************100%***********************]  1 of 1 completed\n",
            "6415 ==> 2.2009756097560977\n",
            "[*********************100%***********************]  1 of 1 completed\n",
            "2395 ==> 1.2509329932663913\n",
            "[*********************100%***********************]  1 of 1 completed\n",
            "1590 ==> 1.8385360602798708\n",
            "[*********************100%***********************]  1 of 1 completed\n",
            "4904 ==> 1.0484094032125342\n",
            "[*********************100%***********************]  1 of 1 completed\n",
            "2801 ==> 0.8200490957807083\n",
            "[*********************100%***********************]  1 of 1 completed\n",
            "2409 ==> 1.305418768273669\n",
            "[*********************100%***********************]  1 of 1 completed\n",
            "6505 ==> 0.8581632497359295\n",
            "[*********************100%***********************]  1 of 1 completed\n",
            "6770 ==> 0.7099780549194176\n",
            "[*********************100%***********************]  1 of 1 completed\n",
            "9910 ==> 1.043877583527159\n",
            "[*********************100%***********************]  1 of 1 completed\n",
            "8046 ==> 4.979123014665161\n",
            "[*********************100%***********************]  1 of 1 completed\n",
            "2408 ==> 0.6104651162790697\n"
          ]
        }
      ],
      "source": [
        "for i in stocks['code']:\n",
        "  df = yf.download(f\"{i}.tw\", '2020-01-01')\n",
        "  ret = df['Close'][-1]/df['Close'][0]\n",
        "  print(i, \"==>\", ret)"
      ]
    },
    {
      "cell_type": "code",
      "execution_count": null,
      "metadata": {
        "colab": {
          "base_uri": "https://localhost:8080/",
          "height": 1000
        },
        "id": "ibrvN2x0F317",
        "outputId": "6f597dbc-3de8-4f2f-894b-c6b40b99d678"
      },
      "outputs": [
        {
          "data": {
            "text/html": [
              "\n",
              "  <div id=\"df-9edd5909-0439-4853-acb2-6fe3750f3e0b\">\n",
              "    <div class=\"colab-df-container\">\n",
              "      <div>\n",
              "<style scoped>\n",
              "    .dataframe tbody tr th:only-of-type {\n",
              "        vertical-align: middle;\n",
              "    }\n",
              "\n",
              "    .dataframe tbody tr th {\n",
              "        vertical-align: top;\n",
              "    }\n",
              "\n",
              "    .dataframe thead th {\n",
              "        text-align: right;\n",
              "    }\n",
              "</style>\n",
              "<table border=\"1\" class=\"dataframe\">\n",
              "  <thead>\n",
              "    <tr style=\"text-align: right;\">\n",
              "      <th></th>\n",
              "      <th>code</th>\n",
              "      <th>ym</th>\n",
              "      <th>name</th>\n",
              "      <th>ename</th>\n",
              "      <th>weights</th>\n",
              "      <th>qty</th>\n",
              "    </tr>\n",
              "  </thead>\n",
              "  <tbody>\n",
              "    <tr>\n",
              "      <th>0</th>\n",
              "      <td>2330</td>\n",
              "      <td>NaN</td>\n",
              "      <td>台積電</td>\n",
              "      <td>Taiwan Semiconductor Manufacturing Co. Ltd.</td>\n",
              "      <td>46.58</td>\n",
              "      <td>227558774</td>\n",
              "    </tr>\n",
              "    <tr>\n",
              "      <th>1</th>\n",
              "      <td>2317</td>\n",
              "      <td>NaN</td>\n",
              "      <td>鴻海</td>\n",
              "      <td>HON HAI PRECISION IND. CO. LTD.</td>\n",
              "      <td>5.01</td>\n",
              "      <td>113081861</td>\n",
              "    </tr>\n",
              "    <tr>\n",
              "      <th>2</th>\n",
              "      <td>2454</td>\n",
              "      <td>NaN</td>\n",
              "      <td>聯發科</td>\n",
              "      <td>MediaTek Inc.</td>\n",
              "      <td>3.93</td>\n",
              "      <td>14096738</td>\n",
              "    </tr>\n",
              "    <tr>\n",
              "      <th>3</th>\n",
              "      <td>2308</td>\n",
              "      <td>NaN</td>\n",
              "      <td>台達電</td>\n",
              "      <td>DELTA ELECTRONICS INC.</td>\n",
              "      <td>2.19</td>\n",
              "      <td>20472416</td>\n",
              "    </tr>\n",
              "    <tr>\n",
              "      <th>4</th>\n",
              "      <td>2412</td>\n",
              "      <td>NaN</td>\n",
              "      <td>中華電</td>\n",
              "      <td>Chunghwa Telecom Co. Ltd</td>\n",
              "      <td>1.79</td>\n",
              "      <td>36041393</td>\n",
              "    </tr>\n",
              "    <tr>\n",
              "      <th>5</th>\n",
              "      <td>2303</td>\n",
              "      <td>NaN</td>\n",
              "      <td>聯電</td>\n",
              "      <td>UNITED MICROELECTRONICS CORP.</td>\n",
              "      <td>1.76</td>\n",
              "      <td>110942960</td>\n",
              "    </tr>\n",
              "    <tr>\n",
              "      <th>6</th>\n",
              "      <td>1301</td>\n",
              "      <td>NaN</td>\n",
              "      <td>台塑</td>\n",
              "      <td>Formosa Plastics Corporation</td>\n",
              "      <td>1.72</td>\n",
              "      <td>46143291</td>\n",
              "    </tr>\n",
              "    <tr>\n",
              "      <th>7</th>\n",
              "      <td>2891</td>\n",
              "      <td>NaN</td>\n",
              "      <td>中信金</td>\n",
              "      <td>CTBC FINANCIAL HOLDING CO. LTD.</td>\n",
              "      <td>1.63</td>\n",
              "      <td>171923444</td>\n",
              "    </tr>\n",
              "    <tr>\n",
              "      <th>8</th>\n",
              "      <td>2881</td>\n",
              "      <td>NaN</td>\n",
              "      <td>富邦金</td>\n",
              "      <td>Fubon Financial Holding Co. Ltd.</td>\n",
              "      <td>1.53</td>\n",
              "      <td>66543107</td>\n",
              "    </tr>\n",
              "    <tr>\n",
              "      <th>9</th>\n",
              "      <td>2886</td>\n",
              "      <td>NaN</td>\n",
              "      <td>兆豐金</td>\n",
              "      <td>Mega Financial Holding Company Ltd.</td>\n",
              "      <td>1.50</td>\n",
              "      <td>103159552</td>\n",
              "    </tr>\n",
              "    <tr>\n",
              "      <th>10</th>\n",
              "      <td>2882</td>\n",
              "      <td>NaN</td>\n",
              "      <td>國泰金</td>\n",
              "      <td>CATHAY FINANCIAL HOLDING CO. LTD.</td>\n",
              "      <td>1.47</td>\n",
              "      <td>78303879</td>\n",
              "    </tr>\n",
              "    <tr>\n",
              "      <th>11</th>\n",
              "      <td>1303</td>\n",
              "      <td>NaN</td>\n",
              "      <td>南亞</td>\n",
              "      <td>NAN YA PLASTICS CORPORATION</td>\n",
              "      <td>1.46</td>\n",
              "      <td>53501692</td>\n",
              "    </tr>\n",
              "    <tr>\n",
              "      <th>12</th>\n",
              "      <td>2884</td>\n",
              "      <td>NaN</td>\n",
              "      <td>玉山金</td>\n",
              "      <td>E.SUN FINANCIAL HOLDING COMPANYLTD.</td>\n",
              "      <td>1.45</td>\n",
              "      <td>128388842</td>\n",
              "    </tr>\n",
              "    <tr>\n",
              "      <th>13</th>\n",
              "      <td>2002</td>\n",
              "      <td>NaN</td>\n",
              "      <td>中鋼</td>\n",
              "      <td>China Steel Corporation</td>\n",
              "      <td>1.31</td>\n",
              "      <td>116862713</td>\n",
              "    </tr>\n",
              "    <tr>\n",
              "      <th>14</th>\n",
              "      <td>1216</td>\n",
              "      <td>NaN</td>\n",
              "      <td>統一</td>\n",
              "      <td>UNI-PRESIDENT ENTERPRISES CORP.</td>\n",
              "      <td>1.30</td>\n",
              "      <td>45427144</td>\n",
              "    </tr>\n",
              "    <tr>\n",
              "      <th>15</th>\n",
              "      <td>3711</td>\n",
              "      <td>NaN</td>\n",
              "      <td>日月光投控</td>\n",
              "      <td>ASE Technology Holding Co. Ltd.</td>\n",
              "      <td>1.16</td>\n",
              "      <td>32256485</td>\n",
              "    </tr>\n",
              "    <tr>\n",
              "      <th>16</th>\n",
              "      <td>5871</td>\n",
              "      <td>NaN</td>\n",
              "      <td>中租-KY</td>\n",
              "      <td>Chailease Holding Company Limited</td>\n",
              "      <td>1.10</td>\n",
              "      <td>13208658</td>\n",
              "    </tr>\n",
              "    <tr>\n",
              "      <th>17</th>\n",
              "      <td>2892</td>\n",
              "      <td>NaN</td>\n",
              "      <td>第一金</td>\n",
              "      <td>First  Financial  Holding  Co.  Ltd.</td>\n",
              "      <td>1.06</td>\n",
              "      <td>96826036</td>\n",
              "    </tr>\n",
              "    <tr>\n",
              "      <th>18</th>\n",
              "      <td>5880</td>\n",
              "      <td>NaN</td>\n",
              "      <td>合庫金</td>\n",
              "      <td>Taiwan Cooperative Financial Holding Co.Ltd.</td>\n",
              "      <td>1.03</td>\n",
              "      <td>92850870</td>\n",
              "    </tr>\n",
              "    <tr>\n",
              "      <th>19</th>\n",
              "      <td>1326</td>\n",
              "      <td>NaN</td>\n",
              "      <td>台化</td>\n",
              "      <td>FORMOSA CHEMICALS &amp; FIBRE CORPORATION</td>\n",
              "      <td>0.91</td>\n",
              "      <td>32441695</td>\n",
              "    </tr>\n",
              "    <tr>\n",
              "      <th>20</th>\n",
              "      <td>2885</td>\n",
              "      <td>NaN</td>\n",
              "      <td>元大金</td>\n",
              "      <td>Yuanta Financial Holding Co. Ltd</td>\n",
              "      <td>0.90</td>\n",
              "      <td>110191976</td>\n",
              "    </tr>\n",
              "    <tr>\n",
              "      <th>21</th>\n",
              "      <td>2603</td>\n",
              "      <td>NaN</td>\n",
              "      <td>長榮</td>\n",
              "      <td>EVERGREEN MARINE CORP. (TAIWAN) LTD.</td>\n",
              "      <td>0.90</td>\n",
              "      <td>23830216</td>\n",
              "    </tr>\n",
              "    <tr>\n",
              "      <th>22</th>\n",
              "      <td>1101</td>\n",
              "      <td>NaN</td>\n",
              "      <td>台泥</td>\n",
              "      <td>Taiwan Cement Corp.</td>\n",
              "      <td>0.88</td>\n",
              "      <td>56366165</td>\n",
              "    </tr>\n",
              "    <tr>\n",
              "      <th>23</th>\n",
              "      <td>2880</td>\n",
              "      <td>NaN</td>\n",
              "      <td>華南金</td>\n",
              "      <td>HUA NAN FINANCIAL HOLDINGS CO.LTD.</td>\n",
              "      <td>0.88</td>\n",
              "      <td>93101178</td>\n",
              "    </tr>\n",
              "    <tr>\n",
              "      <th>24</th>\n",
              "      <td>2357</td>\n",
              "      <td>NaN</td>\n",
              "      <td>華碩</td>\n",
              "      <td>ASUSTEK COMPUTER INC.</td>\n",
              "      <td>0.87</td>\n",
              "      <td>6684420</td>\n",
              "    </tr>\n",
              "    <tr>\n",
              "      <th>25</th>\n",
              "      <td>2382</td>\n",
              "      <td>NaN</td>\n",
              "      <td>廣達</td>\n",
              "      <td>QUANTA COMPUTER INC.</td>\n",
              "      <td>0.87</td>\n",
              "      <td>25212333</td>\n",
              "    </tr>\n",
              "    <tr>\n",
              "      <th>26</th>\n",
              "      <td>2883</td>\n",
              "      <td>NaN</td>\n",
              "      <td>開發金</td>\n",
              "      <td>CHINA DEVELOPMENT FINANCIAL HOLDING CORP.</td>\n",
              "      <td>0.81</td>\n",
              "      <td>152351715</td>\n",
              "    </tr>\n",
              "    <tr>\n",
              "      <th>27</th>\n",
              "      <td>3037</td>\n",
              "      <td>NaN</td>\n",
              "      <td>欣興</td>\n",
              "      <td>Unimicron Technology Corp.</td>\n",
              "      <td>0.79</td>\n",
              "      <td>11923797</td>\n",
              "    </tr>\n",
              "    <tr>\n",
              "      <th>28</th>\n",
              "      <td>3008</td>\n",
              "      <td>NaN</td>\n",
              "      <td>大立光</td>\n",
              "      <td>LARGAN Precision Co.Ltd</td>\n",
              "      <td>0.79</td>\n",
              "      <td>971346</td>\n",
              "    </tr>\n",
              "    <tr>\n",
              "      <th>29</th>\n",
              "      <td>2207</td>\n",
              "      <td>NaN</td>\n",
              "      <td>和泰車</td>\n",
              "      <td>HOTAI MOTOR CO.LTD.</td>\n",
              "      <td>0.74</td>\n",
              "      <td>3023232</td>\n",
              "    </tr>\n",
              "    <tr>\n",
              "      <th>30</th>\n",
              "      <td>3045</td>\n",
              "      <td>NaN</td>\n",
              "      <td>台灣大</td>\n",
              "      <td>TAIWAN  MOBILE  CO. LTD.</td>\n",
              "      <td>0.68</td>\n",
              "      <td>16350618</td>\n",
              "    </tr>\n",
              "    <tr>\n",
              "      <th>31</th>\n",
              "      <td>2887</td>\n",
              "      <td>NaN</td>\n",
              "      <td>台新金</td>\n",
              "      <td>Taishin Financial Holding Co. Ltd.</td>\n",
              "      <td>0.66</td>\n",
              "      <td>102630023</td>\n",
              "    </tr>\n",
              "    <tr>\n",
              "      <th>32</th>\n",
              "      <td>2379</td>\n",
              "      <td>NaN</td>\n",
              "      <td>瑞昱</td>\n",
              "      <td>Realtek Semiconductor Corporation</td>\n",
              "      <td>0.65</td>\n",
              "      <td>4506086</td>\n",
              "    </tr>\n",
              "    <tr>\n",
              "      <th>33</th>\n",
              "      <td>5876</td>\n",
              "      <td>NaN</td>\n",
              "      <td>上海商銀</td>\n",
              "      <td>THE SHANGHAI COMMERCIAL &amp; SAVINGS BANK LTD.</td>\n",
              "      <td>0.63</td>\n",
              "      <td>31046611</td>\n",
              "    </tr>\n",
              "    <tr>\n",
              "      <th>34</th>\n",
              "      <td>2912</td>\n",
              "      <td>NaN</td>\n",
              "      <td>統一超</td>\n",
              "      <td>PRESIDENT CHAIN STORE CORPORATION</td>\n",
              "      <td>0.62</td>\n",
              "      <td>5318396</td>\n",
              "    </tr>\n",
              "    <tr>\n",
              "      <th>35</th>\n",
              "      <td>2327</td>\n",
              "      <td>NaN</td>\n",
              "      <td>國巨</td>\n",
              "      <td>YAGEO CORPORATION</td>\n",
              "      <td>0.61</td>\n",
              "      <td>4357777</td>\n",
              "    </tr>\n",
              "    <tr>\n",
              "      <th>36</th>\n",
              "      <td>2609</td>\n",
              "      <td>NaN</td>\n",
              "      <td>陽明</td>\n",
              "      <td>Yang Ming Marine Transport Corp.</td>\n",
              "      <td>0.59</td>\n",
              "      <td>16552045</td>\n",
              "    </tr>\n",
              "    <tr>\n",
              "      <th>37</th>\n",
              "      <td>3034</td>\n",
              "      <td>NaN</td>\n",
              "      <td>聯詠</td>\n",
              "      <td>NOVATEK MICROELECTRONICS CORP.</td>\n",
              "      <td>0.58</td>\n",
              "      <td>5423105</td>\n",
              "    </tr>\n",
              "    <tr>\n",
              "      <th>38</th>\n",
              "      <td>2615</td>\n",
              "      <td>NaN</td>\n",
              "      <td>萬海</td>\n",
              "      <td>WAN HAI LINES LTD.</td>\n",
              "      <td>0.55</td>\n",
              "      <td>13299789</td>\n",
              "    </tr>\n",
              "    <tr>\n",
              "      <th>39</th>\n",
              "      <td>6415</td>\n",
              "      <td>NaN</td>\n",
              "      <td>矽力*-KY</td>\n",
              "      <td>Silergy Corp.</td>\n",
              "      <td>0.55</td>\n",
              "      <td>2372139</td>\n",
              "    </tr>\n",
              "    <tr>\n",
              "      <th>40</th>\n",
              "      <td>2395</td>\n",
              "      <td>NaN</td>\n",
              "      <td>研華</td>\n",
              "      <td>ADVANTECH Co. Ltd.</td>\n",
              "      <td>0.54</td>\n",
              "      <td>3913639</td>\n",
              "    </tr>\n",
              "    <tr>\n",
              "      <th>41</th>\n",
              "      <td>1590</td>\n",
              "      <td>NaN</td>\n",
              "      <td>亞德客-KY</td>\n",
              "      <td>AIRTAC INTERNATIONAL GROUP</td>\n",
              "      <td>0.52</td>\n",
              "      <td>1478796</td>\n",
              "    </tr>\n",
              "    <tr>\n",
              "      <th>42</th>\n",
              "      <td>4904</td>\n",
              "      <td>NaN</td>\n",
              "      <td>遠傳</td>\n",
              "      <td>Far EasTone Telecommunications Co. Ltd.</td>\n",
              "      <td>0.47</td>\n",
              "      <td>15139117</td>\n",
              "    </tr>\n",
              "    <tr>\n",
              "      <th>43</th>\n",
              "      <td>2801</td>\n",
              "      <td>NaN</td>\n",
              "      <td>彰銀</td>\n",
              "      <td>CHANG HWA COMMERCIAL BANK LTD.</td>\n",
              "      <td>0.45</td>\n",
              "      <td>62174124</td>\n",
              "    </tr>\n",
              "    <tr>\n",
              "      <th>44</th>\n",
              "      <td>2409</td>\n",
              "      <td>NaN</td>\n",
              "      <td>友達</td>\n",
              "      <td>AUO Corporation</td>\n",
              "      <td>0.45</td>\n",
              "      <td>83396381</td>\n",
              "    </tr>\n",
              "    <tr>\n",
              "      <th>45</th>\n",
              "      <td>6505</td>\n",
              "      <td>NaN</td>\n",
              "      <td>台塑化</td>\n",
              "      <td>Formosa Petrochemical Corp</td>\n",
              "      <td>0.44</td>\n",
              "      <td>12933095</td>\n",
              "    </tr>\n",
              "    <tr>\n",
              "      <th>46</th>\n",
              "      <td>6770</td>\n",
              "      <td>NaN</td>\n",
              "      <td>力積電</td>\n",
              "      <td>Powerchip Semiconductor Manufacturing Corp.</td>\n",
              "      <td>0.38</td>\n",
              "      <td>24228865</td>\n",
              "    </tr>\n",
              "    <tr>\n",
              "      <th>47</th>\n",
              "      <td>9910</td>\n",
              "      <td>NaN</td>\n",
              "      <td>豐泰</td>\n",
              "      <td>FENG TAY ENTERPRISES CO. LTD.</td>\n",
              "      <td>0.29</td>\n",
              "      <td>4181185</td>\n",
              "    </tr>\n",
              "    <tr>\n",
              "      <th>48</th>\n",
              "      <td>8046</td>\n",
              "      <td>NaN</td>\n",
              "      <td>南電</td>\n",
              "      <td>NAN YA PRINTED CIRCUIT BOARD CORPORATION</td>\n",
              "      <td>0.19</td>\n",
              "      <td>1990920</td>\n",
              "    </tr>\n",
              "    <tr>\n",
              "      <th>49</th>\n",
              "      <td>2408</td>\n",
              "      <td>NaN</td>\n",
              "      <td>南亞科</td>\n",
              "      <td>NANYA TECHNOLOGY CORPORATION</td>\n",
              "      <td>0.17</td>\n",
              "      <td>7753529</td>\n",
              "    </tr>\n",
              "  </tbody>\n",
              "</table>\n",
              "</div>\n",
              "      <button class=\"colab-df-convert\" onclick=\"convertToInteractive('df-9edd5909-0439-4853-acb2-6fe3750f3e0b')\"\n",
              "              title=\"Convert this dataframe to an interactive table.\"\n",
              "              style=\"display:none;\">\n",
              "        \n",
              "  <svg xmlns=\"http://www.w3.org/2000/svg\" height=\"24px\"viewBox=\"0 0 24 24\"\n",
              "       width=\"24px\">\n",
              "    <path d=\"M0 0h24v24H0V0z\" fill=\"none\"/>\n",
              "    <path d=\"M18.56 5.44l.94 2.06.94-2.06 2.06-.94-2.06-.94-.94-2.06-.94 2.06-2.06.94zm-11 1L8.5 8.5l.94-2.06 2.06-.94-2.06-.94L8.5 2.5l-.94 2.06-2.06.94zm10 10l.94 2.06.94-2.06 2.06-.94-2.06-.94-.94-2.06-.94 2.06-2.06.94z\"/><path d=\"M17.41 7.96l-1.37-1.37c-.4-.4-.92-.59-1.43-.59-.52 0-1.04.2-1.43.59L10.3 9.45l-7.72 7.72c-.78.78-.78 2.05 0 2.83L4 21.41c.39.39.9.59 1.41.59.51 0 1.02-.2 1.41-.59l7.78-7.78 2.81-2.81c.8-.78.8-2.07 0-2.86zM5.41 20L4 18.59l7.72-7.72 1.47 1.35L5.41 20z\"/>\n",
              "  </svg>\n",
              "      </button>\n",
              "      \n",
              "  <style>\n",
              "    .colab-df-container {\n",
              "      display:flex;\n",
              "      flex-wrap:wrap;\n",
              "      gap: 12px;\n",
              "    }\n",
              "\n",
              "    .colab-df-convert {\n",
              "      background-color: #E8F0FE;\n",
              "      border: none;\n",
              "      border-radius: 50%;\n",
              "      cursor: pointer;\n",
              "      display: none;\n",
              "      fill: #1967D2;\n",
              "      height: 32px;\n",
              "      padding: 0 0 0 0;\n",
              "      width: 32px;\n",
              "    }\n",
              "\n",
              "    .colab-df-convert:hover {\n",
              "      background-color: #E2EBFA;\n",
              "      box-shadow: 0px 1px 2px rgba(60, 64, 67, 0.3), 0px 1px 3px 1px rgba(60, 64, 67, 0.15);\n",
              "      fill: #174EA6;\n",
              "    }\n",
              "\n",
              "    [theme=dark] .colab-df-convert {\n",
              "      background-color: #3B4455;\n",
              "      fill: #D2E3FC;\n",
              "    }\n",
              "\n",
              "    [theme=dark] .colab-df-convert:hover {\n",
              "      background-color: #434B5C;\n",
              "      box-shadow: 0px 1px 3px 1px rgba(0, 0, 0, 0.15);\n",
              "      filter: drop-shadow(0px 1px 2px rgba(0, 0, 0, 0.3));\n",
              "      fill: #FFFFFF;\n",
              "    }\n",
              "  </style>\n",
              "\n",
              "      <script>\n",
              "        const buttonEl =\n",
              "          document.querySelector('#df-9edd5909-0439-4853-acb2-6fe3750f3e0b button.colab-df-convert');\n",
              "        buttonEl.style.display =\n",
              "          google.colab.kernel.accessAllowed ? 'block' : 'none';\n",
              "\n",
              "        async function convertToInteractive(key) {\n",
              "          const element = document.querySelector('#df-9edd5909-0439-4853-acb2-6fe3750f3e0b');\n",
              "          const dataTable =\n",
              "            await google.colab.kernel.invokeFunction('convertToInteractive',\n",
              "                                                     [key], {});\n",
              "          if (!dataTable) return;\n",
              "\n",
              "          const docLinkHtml = 'Like what you see? Visit the ' +\n",
              "            '<a target=\"_blank\" href=https://colab.research.google.com/notebooks/data_table.ipynb>data table notebook</a>'\n",
              "            + ' to learn more about interactive tables.';\n",
              "          element.innerHTML = '';\n",
              "          dataTable['output_type'] = 'display_data';\n",
              "          await google.colab.output.renderOutput(dataTable, element);\n",
              "          const docLink = document.createElement('div');\n",
              "          docLink.innerHTML = docLinkHtml;\n",
              "          element.appendChild(docLink);\n",
              "        }\n",
              "      </script>\n",
              "    </div>\n",
              "  </div>\n",
              "  "
            ],
            "text/plain": [
              "    code  ym    name                                         ename  weights  \\\n",
              "0   2330 NaN     台積電   Taiwan Semiconductor Manufacturing Co. Ltd.    46.58   \n",
              "1   2317 NaN      鴻海               HON HAI PRECISION IND. CO. LTD.     5.01   \n",
              "2   2454 NaN     聯發科                                 MediaTek Inc.     3.93   \n",
              "3   2308 NaN     台達電                        DELTA ELECTRONICS INC.     2.19   \n",
              "4   2412 NaN     中華電                      Chunghwa Telecom Co. Ltd     1.79   \n",
              "5   2303 NaN      聯電                 UNITED MICROELECTRONICS CORP.     1.76   \n",
              "6   1301 NaN      台塑                  Formosa Plastics Corporation     1.72   \n",
              "7   2891 NaN     中信金               CTBC FINANCIAL HOLDING CO. LTD.     1.63   \n",
              "8   2881 NaN     富邦金              Fubon Financial Holding Co. Ltd.     1.53   \n",
              "9   2886 NaN     兆豐金           Mega Financial Holding Company Ltd.     1.50   \n",
              "10  2882 NaN     國泰金             CATHAY FINANCIAL HOLDING CO. LTD.     1.47   \n",
              "11  1303 NaN      南亞                   NAN YA PLASTICS CORPORATION     1.46   \n",
              "12  2884 NaN     玉山金           E.SUN FINANCIAL HOLDING COMPANYLTD.     1.45   \n",
              "13  2002 NaN      中鋼                       China Steel Corporation     1.31   \n",
              "14  1216 NaN      統一               UNI-PRESIDENT ENTERPRISES CORP.     1.30   \n",
              "15  3711 NaN   日月光投控               ASE Technology Holding Co. Ltd.     1.16   \n",
              "16  5871 NaN   中租-KY             Chailease Holding Company Limited     1.10   \n",
              "17  2892 NaN     第一金          First  Financial  Holding  Co.  Ltd.     1.06   \n",
              "18  5880 NaN     合庫金  Taiwan Cooperative Financial Holding Co.Ltd.     1.03   \n",
              "19  1326 NaN      台化         FORMOSA CHEMICALS & FIBRE CORPORATION     0.91   \n",
              "20  2885 NaN     元大金              Yuanta Financial Holding Co. Ltd     0.90   \n",
              "21  2603 NaN      長榮          EVERGREEN MARINE CORP. (TAIWAN) LTD.     0.90   \n",
              "22  1101 NaN      台泥                           Taiwan Cement Corp.     0.88   \n",
              "23  2880 NaN     華南金            HUA NAN FINANCIAL HOLDINGS CO.LTD.     0.88   \n",
              "24  2357 NaN      華碩                         ASUSTEK COMPUTER INC.     0.87   \n",
              "25  2382 NaN      廣達                          QUANTA COMPUTER INC.     0.87   \n",
              "26  2883 NaN     開發金     CHINA DEVELOPMENT FINANCIAL HOLDING CORP.     0.81   \n",
              "27  3037 NaN      欣興                    Unimicron Technology Corp.     0.79   \n",
              "28  3008 NaN     大立光                       LARGAN Precision Co.Ltd     0.79   \n",
              "29  2207 NaN     和泰車                           HOTAI MOTOR CO.LTD.     0.74   \n",
              "30  3045 NaN     台灣大                      TAIWAN  MOBILE  CO. LTD.     0.68   \n",
              "31  2887 NaN     台新金            Taishin Financial Holding Co. Ltd.     0.66   \n",
              "32  2379 NaN      瑞昱             Realtek Semiconductor Corporation     0.65   \n",
              "33  5876 NaN    上海商銀   THE SHANGHAI COMMERCIAL & SAVINGS BANK LTD.     0.63   \n",
              "34  2912 NaN     統一超             PRESIDENT CHAIN STORE CORPORATION     0.62   \n",
              "35  2327 NaN      國巨                             YAGEO CORPORATION     0.61   \n",
              "36  2609 NaN      陽明              Yang Ming Marine Transport Corp.     0.59   \n",
              "37  3034 NaN      聯詠                NOVATEK MICROELECTRONICS CORP.     0.58   \n",
              "38  2615 NaN      萬海                            WAN HAI LINES LTD.     0.55   \n",
              "39  6415 NaN  矽力*-KY                                 Silergy Corp.     0.55   \n",
              "40  2395 NaN      研華                            ADVANTECH Co. Ltd.     0.54   \n",
              "41  1590 NaN  亞德客-KY                    AIRTAC INTERNATIONAL GROUP     0.52   \n",
              "42  4904 NaN      遠傳       Far EasTone Telecommunications Co. Ltd.     0.47   \n",
              "43  2801 NaN      彰銀                CHANG HWA COMMERCIAL BANK LTD.     0.45   \n",
              "44  2409 NaN      友達                               AUO Corporation     0.45   \n",
              "45  6505 NaN     台塑化                    Formosa Petrochemical Corp     0.44   \n",
              "46  6770 NaN     力積電   Powerchip Semiconductor Manufacturing Corp.     0.38   \n",
              "47  9910 NaN      豐泰                 FENG TAY ENTERPRISES CO. LTD.     0.29   \n",
              "48  8046 NaN      南電      NAN YA PRINTED CIRCUIT BOARD CORPORATION     0.19   \n",
              "49  2408 NaN     南亞科                  NANYA TECHNOLOGY CORPORATION     0.17   \n",
              "\n",
              "          qty  \n",
              "0   227558774  \n",
              "1   113081861  \n",
              "2    14096738  \n",
              "3    20472416  \n",
              "4    36041393  \n",
              "5   110942960  \n",
              "6    46143291  \n",
              "7   171923444  \n",
              "8    66543107  \n",
              "9   103159552  \n",
              "10   78303879  \n",
              "11   53501692  \n",
              "12  128388842  \n",
              "13  116862713  \n",
              "14   45427144  \n",
              "15   32256485  \n",
              "16   13208658  \n",
              "17   96826036  \n",
              "18   92850870  \n",
              "19   32441695  \n",
              "20  110191976  \n",
              "21   23830216  \n",
              "22   56366165  \n",
              "23   93101178  \n",
              "24    6684420  \n",
              "25   25212333  \n",
              "26  152351715  \n",
              "27   11923797  \n",
              "28     971346  \n",
              "29    3023232  \n",
              "30   16350618  \n",
              "31  102630023  \n",
              "32    4506086  \n",
              "33   31046611  \n",
              "34    5318396  \n",
              "35    4357777  \n",
              "36   16552045  \n",
              "37    5423105  \n",
              "38   13299789  \n",
              "39    2372139  \n",
              "40    3913639  \n",
              "41    1478796  \n",
              "42   15139117  \n",
              "43   62174124  \n",
              "44   83396381  \n",
              "45   12933095  \n",
              "46   24228865  \n",
              "47    4181185  \n",
              "48    1990920  \n",
              "49    7753529  "
            ]
          },
          "execution_count": 248,
          "metadata": {},
          "output_type": "execute_result"
        }
      ],
      "source": [
        "stocks"
      ]
    },
    {
      "cell_type": "code",
      "execution_count": null,
      "metadata": {
        "id": "qtSVyAaaGbd5"
      },
      "outputs": [],
      "source": []
    }
  ],
  "metadata": {
    "colab": {
      "name": "20220728.ipynb",
      "provenance": []
    },
    "kernelspec": {
      "display_name": "Python 3.8.8 ('base')",
      "language": "python",
      "name": "python3"
    },
    "language_info": {
      "codemirror_mode": {
        "name": "ipython",
        "version": 3
      },
      "file_extension": ".py",
      "mimetype": "text/x-python",
      "name": "python",
      "nbconvert_exporter": "python",
      "pygments_lexer": "ipython3",
      "version": "3.8.8"
    },
    "vscode": {
      "interpreter": {
        "hash": "e53acf7bb449174de6dcd85bd9cd36db3088050f1b34a27d1edb54a96067dda6"
      }
    }
  },
  "nbformat": 4,
  "nbformat_minor": 0
}
