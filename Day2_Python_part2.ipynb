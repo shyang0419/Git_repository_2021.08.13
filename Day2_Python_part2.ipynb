{
  "nbformat": 4,
  "nbformat_minor": 0,
  "metadata": {
    "colab": {
      "name": "Day2-Python-part2.ipynb",
      "provenance": [],
      "collapsed_sections": [],
      "include_colab_link": true
    },
    "kernelspec": {
      "name": "python3",
      "display_name": "Python 3"
    },
    "language_info": {
      "name": "python"
    }
  },
  "cells": [
    {
      "cell_type": "markdown",
      "metadata": {
        "id": "view-in-github",
        "colab_type": "text"
      },
      "source": [
        "<a href=\"https://colab.research.google.com/github/shyang0419/Git_repository_2021.08.13/blob/main/Day2_Python_part2.ipynb\" target=\"_parent\"><img src=\"https://colab.research.google.com/assets/colab-badge.svg\" alt=\"Open In Colab\"/></a>"
      ]
    },
    {
      "cell_type": "markdown",
      "source": [
        "# 函式(Function)"
      ],
      "metadata": {
        "id": "cNI0s3Px0JaZ"
      }
    },
    {
      "cell_type": "markdown",
      "source": [
        "什麼是 Function？  \n",
        "Function 是一種抽象化，主要是對流程(process)的抽象化，  \n",
        "將流程(process)中引用不同數值或變數的部份設計為「參數」(parameter) 。"
      ],
      "metadata": {
        "id": "H2OmCt5T2Aj0"
      }
    },
    {
      "cell_type": "code",
      "source": [
        "def max(a, b):\n",
        "    return a if a > b else b\n",
        "maximum = max(10, 20)\n",
        "print(maximum)"
      ],
      "metadata": {
        "colab": {
          "base_uri": "https://localhost:8080/"
        },
        "id": "JqBGgJIb0s2j",
        "outputId": "adeaf2d3-666a-44db-b948-e873e234b447"
      },
      "execution_count": null,
      "outputs": [
        {
          "output_type": "stream",
          "name": "stdout",
          "text": [
            "20\n"
          ]
        }
      ]
    },
    {
      "cell_type": "markdown",
      "source": [
        "流程的抽象化有助於提升程式碼的簡潔性、可讀性與重用性。  \n",
        "相同邏輯的程式碼，而之間的差異只是變數數值不相同，這時候只要寫一次函式，  \n",
        "如果之後又需要使用到相同邏輯的程式碼時，再引入該函式即可。\n"
      ],
      "metadata": {
        "id": "1U00VLe12vQs"
      }
    },
    {
      "cell_type": "code",
      "source": [
        "def Avg_func(input1, input2):\n",
        "    return (input1 + input2) / 2\n",
        "\n",
        "avg1 = Avg_func(0, 1)\n",
        "avg2 = Avg_func(5, 9)\n",
        "\n",
        "print(avg1, avg2)"
      ],
      "metadata": {
        "colab": {
          "base_uri": "https://localhost:8080/"
        },
        "id": "aiKg5tE32-Qc",
        "outputId": "28c30406-494e-4d3b-c398-6a72de2620b2"
      },
      "execution_count": null,
      "outputs": [
        {
          "output_type": "stream",
          "name": "stdout",
          "text": [
            "0.5 7.0\n"
          ]
        }
      ]
    },
    {
      "cell_type": "code",
      "source": [
        "def myAvg(*inputs):\n",
        "  sum = 0\n",
        "  for input in inputs:\n",
        "    sum += input\n",
        "  return sum / len(inputs)\n",
        "\n",
        "avg1 = myAvg(10, 20, 30)\n",
        "avg2 = myAvg(30, 20, 60, 10, 30)\n",
        "\n",
        "print(avg1, avg2)"
      ],
      "metadata": {
        "colab": {
          "base_uri": "https://localhost:8080/"
        },
        "id": "NfUYKtxf3YdX",
        "outputId": "051867f1-98b8-4fc7-b039-07e7d534b460"
      },
      "execution_count": null,
      "outputs": [
        {
          "output_type": "stream",
          "name": "stdout",
          "text": [
            "20.0 30.0\n"
          ]
        }
      ]
    },
    {
      "cell_type": "markdown",
      "source": [
        "輸入 `dir(__builtins__)`，按下執行，就會列印所有內建函式的名字。"
      ],
      "metadata": {
        "id": "k5v-htSY2-BF"
      }
    },
    {
      "cell_type": "code",
      "source": [
        "dir(__builtins__)"
      ],
      "metadata": {
        "id": "7H6_wZ1i3rjZ"
      },
      "execution_count": null,
      "outputs": []
    },
    {
      "cell_type": "markdown",
      "source": [
        "dir()函式是檢視函式、物件或模組內的操作方法和屬性，輸出的是該查詢函式的方法與屬性列表清單。  \n",
        "help()函式是檢視函式、物件或模組用途的詳細說明。"
      ],
      "metadata": {
        "id": "igm37d8O3wxw"
      }
    },
    {
      "cell_type": "code",
      "source": [
        "dir(print)"
      ],
      "metadata": {
        "id": "hENlpZe537Ss"
      },
      "execution_count": null,
      "outputs": []
    },
    {
      "cell_type": "code",
      "source": [
        "help(print)"
      ],
      "metadata": {
        "colab": {
          "base_uri": "https://localhost:8080/"
        },
        "id": "RdXDWbgL39ij",
        "outputId": "c61220eb-608d-4ea2-dfdd-782aecc930b0"
      },
      "execution_count": null,
      "outputs": [
        {
          "output_type": "stream",
          "name": "stdout",
          "text": [
            "Help on built-in function print in module builtins:\n",
            "\n",
            "print(...)\n",
            "    print(value, ..., sep=' ', end='\\n', file=sys.stdout, flush=False)\n",
            "    \n",
            "    Prints the values to a stream, or to sys.stdout by default.\n",
            "    Optional keyword arguments:\n",
            "    file:  a file-like object (stream); defaults to the current sys.stdout.\n",
            "    sep:   string inserted between values, default a space.\n",
            "    end:   string appended after the last value, default a newline.\n",
            "    flush: whether to forcibly flush the stream.\n",
            "\n"
          ]
        }
      ]
    },
    {
      "cell_type": "code",
      "source": [
        "print(1,\"\",2)"
      ],
      "metadata": {
        "colab": {
          "base_uri": "https://localhost:8080/"
        },
        "id": "Ivt4oRNheeqC",
        "outputId": "d7e0a3eb-1975-4ebf-d42e-181dd9c93dd7"
      },
      "execution_count": null,
      "outputs": [
        {
          "output_type": "stream",
          "name": "stdout",
          "text": [
            "1  2\n"
          ]
        }
      ]
    },
    {
      "cell_type": "code",
      "source": [
        "print(1,\"\")\n",
        "print(2)"
      ],
      "metadata": {
        "colab": {
          "base_uri": "https://localhost:8080/"
        },
        "id": "z3JhBo0perCF",
        "outputId": "3e6c2b33-6ed1-4e90-e351-4e20f9755018"
      },
      "execution_count": null,
      "outputs": [
        {
          "output_type": "stream",
          "name": "stdout",
          "text": [
            "1 \n",
            "2\n"
          ]
        }
      ]
    },
    {
      "cell_type": "markdown",
      "source": [
        "利用 import 引入 python 內建函式"
      ],
      "metadata": {
        "id": "_NKl1pj04GMI"
      }
    },
    {
      "cell_type": "code",
      "source": [
        "import random"
      ],
      "metadata": {
        "id": "UqfZaeWn4N-G"
      },
      "execution_count": null,
      "outputs": []
    },
    {
      "cell_type": "code",
      "source": [
        "print(random.random())"
      ],
      "metadata": {
        "colab": {
          "base_uri": "https://localhost:8080/"
        },
        "id": "jLt-tlHR4TMs",
        "outputId": "ba736eb1-9065-4420-b89e-50cd5a8925c4"
      },
      "execution_count": null,
      "outputs": [
        {
          "output_type": "stream",
          "name": "stdout",
          "text": [
            "0.32204331063989666\n"
          ]
        }
      ]
    },
    {
      "cell_type": "code",
      "source": [
        "print(random.randint(0, 10)) #0~10"
      ],
      "metadata": {
        "colab": {
          "base_uri": "https://localhost:8080/"
        },
        "id": "3QcY9Lhj4UpT",
        "outputId": "fcbbbd3d-2287-4a6b-ac78-f6c9aa6e7806"
      },
      "execution_count": null,
      "outputs": [
        {
          "output_type": "stream",
          "name": "stdout",
          "text": [
            "6\n"
          ]
        }
      ]
    },
    {
      "cell_type": "code",
      "source": [
        "print(random.randrange(5)) #0~4"
      ],
      "metadata": {
        "colab": {
          "base_uri": "https://localhost:8080/"
        },
        "id": "XwAFCXdQ4WGH",
        "outputId": "34148e0b-08dd-4349-b184-b7e7fe3de05e"
      },
      "execution_count": null,
      "outputs": [
        {
          "output_type": "stream",
          "name": "stdout",
          "text": [
            "4\n"
          ]
        }
      ]
    },
    {
      "cell_type": "code",
      "source": [
        "mylist = [0, 1, 2, 3]\n",
        "print(random.choice( mylist ))"
      ],
      "metadata": {
        "colab": {
          "base_uri": "https://localhost:8080/"
        },
        "id": "0FPPDNLy4Xke",
        "outputId": "aeef9aec-e2b3-4d0a-e2ae-5d7b5541653d"
      },
      "execution_count": null,
      "outputs": [
        {
          "output_type": "stream",
          "name": "stdout",
          "text": [
            "1\n"
          ]
        }
      ]
    },
    {
      "cell_type": "code",
      "source": [
        "mylist = [0, 1, 2, 3]\n",
        "random.shuffle( mylist )\n",
        "print(mylist)"
      ],
      "metadata": {
        "colab": {
          "base_uri": "https://localhost:8080/"
        },
        "id": "jzJPB8HS4ZLY",
        "outputId": "d7d3e220-f837-48d4-ab6d-9942ee0f4fec"
      },
      "execution_count": null,
      "outputs": [
        {
          "output_type": "stream",
          "name": "stdout",
          "text": [
            "[1, 0, 3, 2]\n"
          ]
        }
      ]
    },
    {
      "cell_type": "markdown",
      "source": [
        "### 自訂函式  \n",
        "def 關鍵字定義函數的名稱，用「:」冒號結束。  \n",
        "parameters 参數列是函數的使用介面，在呼叫時，需要傳入對應的引數（arguments）。  \n",
        "如果參數不只一個，使用「,」逗號分隔。  \n",
        "return 關鍵字用來傳回函數值，如果回傳值不只一個，使用「,」逗號分隔。\n"
      ],
      "metadata": {
        "id": "PT-_9I384nBv"
      }
    },
    {
      "cell_type": "code",
      "source": [
        "def SayHello():\n",
        "  print(\"Hello!\")\n",
        "\n",
        "SayHello()"
      ],
      "metadata": {
        "colab": {
          "base_uri": "https://localhost:8080/"
        },
        "id": "sxvUYrS44ajh",
        "outputId": "0313523b-ebf3-4d8a-9807-5fb156639baa"
      },
      "execution_count": null,
      "outputs": [
        {
          "output_type": "stream",
          "name": "stdout",
          "text": [
            "Hello!\n"
          ]
        }
      ]
    },
    {
      "cell_type": "markdown",
      "source": [
        "#### 函數呼叫   \n",
        "函數如果有參數，在呼叫時需要加上傳入的「引數」（arguments）。  \n",
        "如果沒有參數列，呼叫函數只需要使用函數名稱加上空括號「()」。"
      ],
      "metadata": {
        "id": "oiO7eetM5Mvz"
      }
    },
    {
      "cell_type": "code",
      "source": [
        "def SayHello(name):\n",
        "  x = \"Hello %s!\" % name\n",
        "  return x\n",
        "\n",
        "print(SayHello(\"Jack\"))"
      ],
      "metadata": {
        "colab": {
          "base_uri": "https://localhost:8080/"
        },
        "id": "NgSh3rL25E50",
        "outputId": "4fac7baf-c5d6-4955-f116-df6fc02cec22"
      },
      "execution_count": null,
      "outputs": [
        {
          "output_type": "stream",
          "name": "stdout",
          "text": [
            "Hello Jack!\n"
          ]
        }
      ]
    },
    {
      "cell_type": "markdown",
      "source": [
        "##### 檢查參數的類型  \n",
        "由於函數宣告並沒有指定參數的類型，函數必須自行檢查使用者所傳遞的參數的類型，  \n",
        "當類型不符合時，會引發例外。\n"
      ],
      "metadata": {
        "id": "xnrjpv845fJ8"
      }
    },
    {
      "cell_type": "code",
      "source": [
        "import sys\n",
        "def Add_x_To_IntList(x, y):\n",
        "  if type(x) is not int: \n",
        "    raise Exception('x should be an integer')\n",
        "  if type(y) is not list:\n",
        "    raise Exception('y should be a list')\n",
        "  y.append(x)\n",
        "\n",
        "x = 10\n",
        "intList = (20, 30) #錯誤輸入\n",
        "#intList = [20, 30] #正確輸入\n",
        "try:\n",
        "    Add_x_To_IntList(x, intList)\n",
        "    print(intList)\n",
        "except:\n",
        "    exception_type, exception_message, exception_traceback = sys.exc_info()\n",
        "    print(exception_type)\n",
        "    print(exception_message)\n",
        "    print(exception_traceback)"
      ],
      "metadata": {
        "colab": {
          "base_uri": "https://localhost:8080/"
        },
        "id": "8kgbH7CM5tNx",
        "outputId": "348d16aa-ad4c-4f41-f629-e4f0ea9fc132"
      },
      "execution_count": null,
      "outputs": [
        {
          "output_type": "stream",
          "name": "stdout",
          "text": [
            "<class 'Exception'>\n",
            "y should be a list\n",
            "<traceback object at 0x7f1d31b24780>\n"
          ]
        }
      ]
    },
    {
      "cell_type": "markdown",
      "source": [
        "#### 函數的傳回值(溫度換算練習)  \n",
        "使用return關鍵字傳回運算結果，如果Python函數沒有return關鍵字，  \n",
        "函數會傳回None傳回值如果不只一個，使用「,」逗號分隔。"
      ],
      "metadata": {
        "id": "L6Vb0L_x6TU9"
      }
    },
    {
      "cell_type": "code",
      "source": [
        "def convert(scale, source_temp):\n",
        "  if scale == \"F\":\n",
        "    return(source_temp - 32) * (5/9)\n",
        "  elif scale == \"C\":\n",
        "    return(source_temp * (9/5)) + 32\n",
        "  else:\n",
        "    return None\n",
        "\n",
        "scale = input(\"華氏(請輸入F) or 攝氏(請輸入C): \")\n",
        "scale = scale.upper()\n",
        "source_temp = float( input(\"請輸入溫度: \" ) )\n",
        "\n",
        "if scale == \"F\":\n",
        "  print(\"華氏\", source_temp, \"°= 攝氏\", convert(scale, source_temp), \"°\")\n",
        "elif scale == \"C\":\n",
        "  print(\"攝氏\", source_temp, \"°= 華氏\", convert(scale, source_temp), \"°\")\n",
        "else:\n",
        "  print(\"只能輸入 'F' or 'C' !\")"
      ],
      "metadata": {
        "colab": {
          "base_uri": "https://localhost:8080/"
        },
        "id": "FJBjhlhL6dsF",
        "outputId": "1af6f451-bcf2-4462-fcfd-aef7cbcf3257"
      },
      "execution_count": null,
      "outputs": [
        {
          "output_type": "stream",
          "name": "stdout",
          "text": [
            "華氏(請輸入F) or 攝氏(請輸入C): C\n",
            "請輸入溫度: 3\n",
            "攝氏 3.0 °= 華氏 37.4 °\n"
          ]
        }
      ]
    },
    {
      "cell_type": "markdown",
      "source": [
        "### 巢狀函數(Nested functions)  \n",
        "函式中可以再定義函式，  \n",
        "稱為巢狀函數（Nested functions）或區域函式（Local function），  \n",
        "可以將函式中的片段程式碼組織成更小的單元，  \n",
        "好處是可以直接存取包裹它的外部函式之參數或宣告在區域函式之前的區域變數，  \n",
        "減少呼叫函式時引數的傳遞。\n"
      ],
      "metadata": {
        "id": "4i2WoFTl6woh"
      }
    },
    {
      "cell_type": "code",
      "source": [
        "def convert(scale, source_temp):\n",
        "  def convert_F_to_C(temp):\n",
        "    return (temp - 32) * (5/9)\n",
        "  def convert_C_to_F(temp):\n",
        "    return (temp * (9/5)) + 32\n",
        "\n",
        "  if scale == \"F\":\n",
        "    return convert_F_to_C(source_temp)\n",
        "  elif scale == \"C\":\n",
        "    return convert_C_to_F(source_temp)\n",
        "  else:\n",
        "    return None\n",
        "\n",
        "scale = input(\"華氏(請輸入F) or 攝氏(請輸入C): \")\n",
        "scale = scale.upper()\n",
        "source_temp = float( input(\"請輸入溫度: \" ) )\n",
        "\n",
        "if scale == \"F\":\n",
        "  print(\"華氏\", source_temp, \"°= 攝氏\", convert(scale, source_temp), \"°\")\n",
        "elif scale == \"C\":\n",
        "  print(\"攝氏\", source_temp, \"°= 華氏\", convert(scale, source_temp), \"°\")\n",
        "else:\n",
        "  print(\"只能輸入 'F' or 'C' !\")"
      ],
      "metadata": {
        "colab": {
          "base_uri": "https://localhost:8080/"
        },
        "id": "OLRstx757Act",
        "outputId": "06272adc-ead4-47f1-8367-24f8c085602f"
      },
      "execution_count": null,
      "outputs": [
        {
          "output_type": "stream",
          "name": "stdout",
          "text": [
            "華氏(請輸入F) or 攝氏(請輸入C): C\n",
            "請輸入溫度: 23\n",
            "攝氏 23.0 °= 華氏 73.4 °\n"
          ]
        }
      ]
    },
    {
      "cell_type": "markdown",
      "source": [
        "### 參數(Parameter) vs. 引數(Argument)  \n",
        "參數(parameters)又稱形式參數(formal parameters)：定義於函式標頭的變數。  \n",
        "引數(arguments)或稱實際參數(actual parameters)：呼叫函式時傳遞的變數。  \n",
        "呼叫者(caller)：呼叫函式的程式碼。  \n",
        "被呼叫者(callee)：被呼叫的函式。  \n",
        "回傳值(return values)：函式執行運算後的結果。  \n"
      ],
      "metadata": {
        "id": "ju1fFUps7peG"
      }
    },
    {
      "cell_type": "code",
      "source": [
        "def max_func(num1, num2): #callee\n",
        "  if num1 > num2:\n",
        "    result = num1\n",
        "  if num1 < num2:\n",
        "    result = num2\n",
        "  return result\n",
        "\n",
        "z = max_func(5, 15) #caller\n",
        "print(z)"
      ],
      "metadata": {
        "colab": {
          "base_uri": "https://localhost:8080/"
        },
        "id": "u4Mwygjr8Fgk",
        "outputId": "80af402a-8500-450f-ab9a-bc0fa0762663"
      },
      "execution_count": null,
      "outputs": [
        {
          "output_type": "stream",
          "name": "stdout",
          "text": [
            "15\n"
          ]
        }
      ]
    },
    {
      "cell_type": "markdown",
      "source": [
        "#### 函數參數的預設值(Default Argument)  \n",
        "函數的參數可以有預設值，當呼叫函數時沒有指定引數，就是使用預設的參數值。  \n",
        "但要注意有預設值的引數(default arguments)必須放在一般引數(non-default arguments)的後面，  \n",
        "以免發生錯誤，例如把下面的函式改為 myfunc(b=10, a)，執行時就會發生："
      ],
      "metadata": {
        "id": "-F71-P888lMn"
      }
    },
    {
      "cell_type": "code",
      "source": [
        "def myfunc(a, b = 10):\n",
        "  c = a + b\n",
        "  return c\n",
        "\n",
        "print(myfunc(1, 2))\n",
        "print(myfunc(b = 2, 1)) #錯誤示範"
      ],
      "metadata": {
        "id": "SkGgt6Dd8xdI"
      },
      "execution_count": null,
      "outputs": []
    },
    {
      "cell_type": "markdown",
      "source": [
        "#### 位置引數 vs. 關鍵字引數  \n",
        "位置引數(positional arguments)：對應函數定義的參數位置。  \n",
        "關鍵字引數(keywords arguments)：直接使用參數名稱來指定引數值。  \n",
        "(兩種引數方法可混用，但位置引數要在關鍵字引數之前)"
      ],
      "metadata": {
        "id": "3giQBJdb9W9d"
      }
    },
    {
      "cell_type": "code",
      "source": [
        "def volume(l = 1, w = 1, h = 1):\n",
        "  print(\"Length =\", l, \"Width =\", w, \"Height =\", h)\n",
        "  return l * w * h\n",
        "\n",
        "print(\"Volume of box:\", volume(5, 4, 3))\n",
        "print(\"Volume of box:\", volume(h = 3, l = 5, w = 4))\n",
        "print(\"Volume of box:\", volume(5, h = 3, w = 5))"
      ],
      "metadata": {
        "colab": {
          "base_uri": "https://localhost:8080/"
        },
        "id": "3mkc64J69ciG",
        "outputId": "7596312c-2189-4304-b9bc-d7cfe2ed448c"
      },
      "execution_count": null,
      "outputs": [
        {
          "output_type": "stream",
          "name": "stdout",
          "text": [
            "Length = 5 Width = 4 Height = 3\n",
            "Volume of box: 60\n",
            "Length = 5 Width = 4 Height = 3\n",
            "Volume of box: 60\n",
            "Length = 5 Width = 5 Height = 3\n",
            "Volume of box: 75\n"
          ]
        }
      ]
    },
    {
      "cell_type": "markdown",
      "source": [
        "#### 任意數量的參數(tuple形態)  \n",
        "如果在呼叫函式前，無法事先知道要傳入的引數個數，可以在參數名稱的前面加上「*」，使該參數接受不定長度的引數。  \n",
        "parameters 的形別為不可變的 tuple，所以在函式程式區塊內不可以修改 parameters 的內容。"
      ],
      "metadata": {
        "id": "mUWBRBH99zn3"
      }
    },
    {
      "cell_type": "code",
      "source": [
        "def product(*args):\n",
        "  if len(args) == 0:\n",
        "    p = 0\n",
        "    print(\"There is no argument\")\n",
        "  else:\n",
        "    p = 1\n",
        "    for arg in args:\n",
        "      p *= arg\n",
        "  return p\n",
        "\n",
        "print(\"product:\", product())\n",
        "print(\"product:\", product(10, 12, 14))"
      ],
      "metadata": {
        "colab": {
          "base_uri": "https://localhost:8080/"
        },
        "id": "b1-UfQe8-ARd",
        "outputId": "db03d293-676c-4328-db73-0227ded6895a"
      },
      "execution_count": null,
      "outputs": [
        {
          "output_type": "stream",
          "name": "stdout",
          "text": [
            "There is no argument\n",
            "product: 0\n",
            "product: 1680\n"
          ]
        }
      ]
    },
    {
      "cell_type": "markdown",
      "source": [
        "#### 任意數量的參數(dict形態)  \n",
        "`**`則可以將關鍵字引數收集在一個字典物件(dict)中，當一個函式所需要的參數個數很多時，可以使用這個方式。  \n",
        "一個星號「`*`」或兩個星號「`**`」的差異在於一個「`*`」時 parameters 的形態為不可變的 tuple，  \n",
        "「`**`」時 parameters 的形態為可變的 dict 在函式程式區塊內可以被修改。\n"
      ],
      "metadata": {
        "id": "d4uy0vzh-Tl-"
      }
    },
    {
      "cell_type": "code",
      "source": [
        "def double_count(**param):\n",
        "  sum = 0\n",
        "  for key, val in param.items():\n",
        "    print(\"before param =\", param)\n",
        "    param[key] = val * 2\n",
        "    print(\"after param =\", param)\n",
        "    sum += param[key] \n",
        "    print(\"sum =\", sum)\n",
        "  return sum\n",
        "\n",
        "print(double_count(p1=1, p2=2))"
      ],
      "metadata": {
        "colab": {
          "base_uri": "https://localhost:8080/"
        },
        "id": "7TtpjTjz-ypo",
        "outputId": "a8c748b4-5357-4aba-8421-3c096cb6b618"
      },
      "execution_count": null,
      "outputs": [
        {
          "output_type": "stream",
          "name": "stdout",
          "text": [
            "before param = {'p1': 1, 'p2': 2}\n",
            "after param = {'p1': 2, 'p2': 2}\n",
            "sum = 2\n",
            "before param = {'p1': 2, 'p2': 2}\n",
            "after param = {'p1': 2, 'p2': 4}\n",
            "sum = 6\n",
            "6\n"
          ]
        }
      ]
    },
    {
      "cell_type": "markdown",
      "source": [
        "#### 任意數量的參數(綜合使用) \n",
        "可以在一個函式中，同時指定固定參數，以及使用「`*`」和「`**`」。  \n",
        "但須按照順序：\n",
        "1.  指定固定參數在最前面。\n",
        "2. 「`*`」要在「`**`」的前面。"
      ],
      "metadata": {
        "id": "hiNQ8JV-_Eci"
      }
    },
    {
      "cell_type": "code",
      "source": [
        "def sum_func(x1, x2, *y1, **y2):\n",
        "  print(\"x1 =\", x1)\n",
        "  print(\"x2 =\", x2)\n",
        "  sum = x1 + x2\n",
        "    \n",
        "  for y in y1:\n",
        "    print(\"y =\", y)\n",
        "    sum += y\n",
        "        \n",
        "  for key, val in y2.items():\n",
        "    print(y2)\n",
        "    sum += y2[key]    \n",
        "  return sum\n",
        "\n",
        "print(sum_func(1, 2, 3, 4, k1=5, k2=6))"
      ],
      "metadata": {
        "colab": {
          "base_uri": "https://localhost:8080/"
        },
        "id": "zDoDz-Yq_O1z",
        "outputId": "a737655e-ab41-4dde-fb28-dddb1ab1dd40"
      },
      "execution_count": null,
      "outputs": [
        {
          "output_type": "stream",
          "name": "stdout",
          "text": [
            "x1 = 1\n",
            "x2 = 2\n",
            "y = 3\n",
            "y = 4\n",
            "{'k1': 5, 'k2': 6}\n",
            "{'k1': 5, 'k2': 6}\n",
            "21\n"
          ]
        }
      ]
    },
    {
      "cell_type": "markdown",
      "source": [
        "### Python不支援函式重載(overload)  \n",
        "像其他語言(例如C++中的方法重載)一樣，python不支持方法重載。  \n",
        "可能不會導致程式中止，但會對後來的程式調用時產生錯誤結果。  \n",
        "(可以定義許多名稱相同且參數不同的方法，但只能使用最新定義的方法)"
      ],
      "metadata": {
        "id": "cyYxQ-WT_d0f"
      }
    },
    {
      "cell_type": "code",
      "source": [
        "# First product method. \n",
        "def product(a, b): \n",
        "  p = a * b \n",
        "  print(p) \n",
        "      \n",
        "# Second product method \n",
        "def product(a, b, c): \n",
        "  p = a * b * c \n",
        "  print(p) \n",
        "    \n",
        "product(4, 5, 5)\n",
        "#product(4, 5) #錯誤"
      ],
      "metadata": {
        "colab": {
          "base_uri": "https://localhost:8080/"
        },
        "id": "FsWV2Omu-AMG",
        "outputId": "60818081-f732-4090-ccb3-6ae29995eeea"
      },
      "execution_count": null,
      "outputs": [
        {
          "output_type": "stream",
          "name": "stdout",
          "text": [
            "100\n"
          ]
        }
      ]
    },
    {
      "cell_type": "markdown",
      "source": [
        "### Python的變數範圍(Variable Scope)  \n",
        "在Python中，變數可以分為四個範圍：\n",
        "* Builtin：內建變數。\n",
        "* Global scope：全域變數，以 Module 為界線。\n",
        "* Enclosing scope：包含了非區域性(non-local)也非全域性(non-global)的變數，主要是應用在巢狀函式的情境下，  \n",
        "內層函式可能搜尋外層函式的namespace，但該namespace對內層函式而言既非區域性也非全域性。\n",
        "* Local scope：區域變數，以函式為界線。"
      ],
      "metadata": {
        "id": "WyMTCZz_ADM2"
      }
    },
    {
      "cell_type": "code",
      "source": [
        "def print_local_message():\n",
        "  local_message = \"This is a local message.\"\n",
        "  def modify_outer_message():\n",
        "    nonlocal local_message\n",
        "    local_message = \"Modify local message.\"\n",
        "    print(\"Inner function:\", local_message)\n",
        "  modify_outer_message()\n",
        "  print(\"Outer function:\", local_message)\n",
        "  \n",
        "print_local_message()"
      ],
      "metadata": {
        "colab": {
          "base_uri": "https://localhost:8080/"
        },
        "id": "ndHhLdgbjT4i",
        "outputId": "55e08c71-9fe9-4d48-c082-a57dc5e45c87"
      },
      "execution_count": null,
      "outputs": [
        {
          "output_type": "stream",
          "name": "stdout",
          "text": [
            "Inner function: Modify local message.\n",
            "Outer function: Modify local message.\n"
          ]
        }
      ]
    },
    {
      "cell_type": "code",
      "source": [
        "# 定義巢狀函數第一層 fun2()\n",
        "def fun1():\n",
        "  # 定義局部變數\n",
        "  a = 10\n",
        "  print('fun1 的 Local 變數 a =', a)\n",
        "  # 定義巢狀函數第二層 fun3()\n",
        "  def fun2():\n",
        "    print('fun2 呼叫上層定義的 Local 變數 a =', a)\n",
        "    # 定義巢狀函數第三層 fun4()\n",
        "    def fun3():\n",
        "      # print('fun3 呼叫上層定義的局部變數，修改前 a =', a)\n",
        "      # 透過關鍵字 nonlocal 說明函數要修改上層函數定義的局部變數\n",
        "      nonlocal a\n",
        "      a = 90\n",
        "      print('fun3 呼叫上層定義的 Local 變數，修改後 a =', a)\n",
        "            \n",
        "      fun3()  # fun2 呼叫 fun3\n",
        "  fun2()  # fun1 呼叫 fun2\n",
        "  print('fun1 的變數 a 結果:', a)\n",
        "\n",
        "# 執行函數\n",
        "fun1()"
      ],
      "metadata": {
        "colab": {
          "base_uri": "https://localhost:8080/"
        },
        "id": "XK7q5qtzAaqT",
        "outputId": "d8e063c1-c428-4eee-a09e-648e3e386e31"
      },
      "execution_count": null,
      "outputs": [
        {
          "output_type": "stream",
          "name": "stdout",
          "text": [
            "fun1 的 Local 變數 a = 10\n",
            "fun2 呼叫上層定義的 Local 變數 a = 10\n",
            "fun1 的變數 a 結果: 10\n"
          ]
        }
      ]
    },
    {
      "cell_type": "markdown",
      "source": [
        "### 迴圈 vs. 遞迴  \n",
        "\n"
      ],
      "metadata": {
        "id": "HlvLkeRBAkkF"
      }
    },
    {
      "cell_type": "markdown",
      "source": [
        "#### 階乘問題Factorial：  \n",
        "n 階 n! 代表的即是從 1 開始連乘直到 n (𝑛!=1×2×⋯×𝑛)。\n"
      ],
      "metadata": {
        "id": "AwN-JrjgBHpN"
      }
    },
    {
      "cell_type": "markdown",
      "source": [
        "迴圈：需要一個 n 次的 for loop 解決。在函式當中設定一個變數用來記住目前的乘積，然後從 1 開始乘直到 n 為止"
      ],
      "metadata": {
        "id": "tktZdCeFBNGl"
      }
    },
    {
      "cell_type": "code",
      "source": [
        "def factorial_loop(n):\n",
        "  factor = 1\n",
        "  for i in range(1, n + 1):\n",
        "    factor *= i\n",
        "  return factor\n",
        "\n",
        "factorial_loop(5)"
      ],
      "metadata": {
        "colab": {
          "base_uri": "https://localhost:8080/"
        },
        "id": "xGPXOJbbBlSi",
        "outputId": "67427231-03e4-40ff-f9a8-512e92d03909"
      },
      "execution_count": null,
      "outputs": [
        {
          "output_type": "execute_result",
          "data": {
            "text/plain": [
              "120"
            ]
          },
          "metadata": {},
          "execution_count": 34
        }
      ]
    },
    {
      "cell_type": "markdown",
      "source": [
        "遞迴：當我們想要求得 n 階乘，只需要找到 n-1 階的階乘，  \n",
        "但此時我們就需要找到 n-1 階的答案，便需要轉而尋求 n-2 階…直到我們所要尋找的是 1 階為止。\n"
      ],
      "metadata": {
        "id": "ri3Kzw8ECA4l"
      }
    },
    {
      "cell_type": "code",
      "source": [
        "def factorial_recursion(n):\n",
        "  if n == 0 or n == 1:\n",
        "    return 1\n",
        "  else:\n",
        "    return n * factorial_recursion(n - 1)\n",
        "\n",
        "factorial_recursion(5)"
      ],
      "metadata": {
        "colab": {
          "base_uri": "https://localhost:8080/"
        },
        "id": "ejZ0uOLVCJsH",
        "outputId": "66db2555-e1af-4755-a7cf-065c11682609"
      },
      "execution_count": null,
      "outputs": [
        {
          "output_type": "execute_result",
          "data": {
            "text/plain": [
              "120"
            ]
          },
          "metadata": {},
          "execution_count": 35
        }
      ]
    },
    {
      "cell_type": "markdown",
      "source": [
        "#### 最大公因數GCD：  \n",
        "使用輾轉相除法(Euclidean algorithm)，  \n",
        "以較大的數為被除數(34)，較小的數為除數(10)，34/10=3餘4  \n",
        "將前一步驟的除數設為被除數(10)，餘數設為除數，10/4餘2  \n",
        "以此類推直到餘數為0，4/2餘0  \n",
        "此時除數(2)為最大公因數\n"
      ],
      "metadata": {
        "id": "LuGqx3KNCgFW"
      }
    },
    {
      "cell_type": "code",
      "source": [
        "def gcd_loop(a, b):\n",
        "  if a > b:\n",
        "    smail = b\n",
        "  else:\n",
        "    smail = a\n",
        "  for i in range(1, smail+1):\n",
        "    if((a % i == 0) and (b % i == 0)):\n",
        "      gcd = i\n",
        "  return gcd\n",
        "\n",
        "gcd_loop(34, 10)"
      ],
      "metadata": {
        "colab": {
          "base_uri": "https://localhost:8080/"
        },
        "id": "-4VPSgUtCdx1",
        "outputId": "3ab60df0-83fb-47c9-b253-4805227abbba"
      },
      "execution_count": null,
      "outputs": [
        {
          "output_type": "execute_result",
          "data": {
            "text/plain": [
              "2"
            ]
          },
          "metadata": {},
          "execution_count": 39
        }
      ]
    },
    {
      "cell_type": "code",
      "source": [
        "def gcd_recursion(a, b):\n",
        "  if b == 0:\n",
        "    return a\n",
        "  else:\n",
        "    return gcd_recursion(b, a%b)\n",
        "\n",
        "gcd_recursion(34, 10)"
      ],
      "metadata": {
        "colab": {
          "base_uri": "https://localhost:8080/"
        },
        "id": "4ihALAvKC9zF",
        "outputId": "8f569015-19ef-4eb0-906f-23c0364844a7"
      },
      "execution_count": null,
      "outputs": [
        {
          "output_type": "execute_result",
          "data": {
            "text/plain": [
              "2"
            ]
          },
          "metadata": {},
          "execution_count": 37
        }
      ]
    },
    {
      "cell_type": "markdown",
      "source": [
        "#### 費氏數列(Fibonacci)：  \n"
      ],
      "metadata": {
        "id": "c4oCzP71Ipr_"
      }
    },
    {
      "cell_type": "code",
      "source": [
        "def fib_loop(n):\n",
        "  a, b = 0, 1\n",
        "  for i in range(n):\n",
        "    a, b = b, a + b \n",
        "  return a\n",
        "\n",
        "fib_loop(9)"
      ],
      "metadata": {
        "colab": {
          "base_uri": "https://localhost:8080/"
        },
        "id": "eW3CQfPNIzbK",
        "outputId": "c7904c75-5508-4ced-9624-d029e165cb2c"
      },
      "execution_count": null,
      "outputs": [
        {
          "output_type": "execute_result",
          "data": {
            "text/plain": [
              "34"
            ]
          },
          "metadata": {},
          "execution_count": 40
        }
      ]
    },
    {
      "cell_type": "code",
      "source": [
        "def fib_recursion(n):\n",
        "  if n == 0 or n == 1:\n",
        "    return n\n",
        "  else:\n",
        "    return fib_recursion(n-1) + fib_recursion(n-2)\n",
        "\n",
        "fib_loop(10) "
      ],
      "metadata": {
        "colab": {
          "base_uri": "https://localhost:8080/"
        },
        "id": "nmNAWm2XI4aw",
        "outputId": "850db062-14a7-45fe-83d8-663137e002cb"
      },
      "execution_count": null,
      "outputs": [
        {
          "output_type": "execute_result",
          "data": {
            "text/plain": [
              "55"
            ]
          },
          "metadata": {},
          "execution_count": 41
        }
      ]
    },
    {
      "cell_type": "markdown",
      "source": [
        "#### 河內塔問題 (Tower of Hanoi)"
      ],
      "metadata": {
        "id": "b5EONTBfI-8E"
      }
    },
    {
      "cell_type": "code",
      "source": [
        "def HANOI(n, P1, P2, P3):\n",
        "  if n == 1:\n",
        "    return [(P1, P3)]\n",
        "  else:\n",
        "    return HANOI(n-1, P1, P3, P2) + HANOI(1, P1, P2, P3) + HANOI(n-1, P3, P2, P1)\n",
        "\n",
        "N = input(\"請輸入圓盤數：\")\n",
        "p = HANOI(int(N), 'A', 'B', 'C')\n",
        "for move in HANOI(int(N), 'A', 'B', 'C'):\n",
        "  print(\"圓盤由 %c 移至 %c\" % move)"
      ],
      "metadata": {
        "colab": {
          "base_uri": "https://localhost:8080/"
        },
        "id": "bzFnIVM8JAKq",
        "outputId": "e063b373-36ef-4295-b53a-41a145807e88"
      },
      "execution_count": null,
      "outputs": [
        {
          "output_type": "stream",
          "name": "stdout",
          "text": [
            "請輸入圓盤數：3\n",
            "圓盤由 A 移至 C\n",
            "圓盤由 A 移至 B\n",
            "圓盤由 B 移至 A\n",
            "圓盤由 A 移至 C\n",
            "圓盤由 C 移至 B\n",
            "圓盤由 C 移至 A\n",
            "圓盤由 A 移至 C\n"
          ]
        }
      ]
    },
    {
      "cell_type": "markdown",
      "source": [
        "# 類別(Class)"
      ],
      "metadata": {
        "id": "0XMvibo-0LEV"
      }
    },
    {
      "cell_type": "markdown",
      "source": [
        "### 什麼是物件(object)  \n",
        "* 物件(object)是一種資料型態，由屬性（Attribute)與方法(Method)組成。\n",
        "* 屬性（Attribute)：以變數形式表示，一個物件可以包含多個屬性，例如一個多邊形物件的顏色、長度。\n",
        "* 方法(Method)：以函式來表示，一個物件可以包含多個函式，例如一個多邊形物件可以被計算面積、體積。  \n",
        "\n"
      ],
      "metadata": {
        "id": "UCUKk8FTJLp0"
      }
    },
    {
      "cell_type": "markdown",
      "source": [
        "### 類別(Class)  \n",
        "類別(Class)簡單來說，就是物件(Object)的藍圖。  \n",
        "就像要生產一部汽車時的設計圖，可以知道此類汽車會有哪些特性及功能，  \n",
        "類別(Class)會定義未來產生物件(Object)時所擁有的屬性(Attribute)及方法(Method)。"
      ],
      "metadata": {
        "id": "KVaD0VrXKQW0"
      }
    },
    {
      "cell_type": "code",
      "source": [
        "# 汽車類別\n",
        "class Cars:\n",
        "  pass\n",
        "# 摩托車類別\n",
        "class Motorcycle:\n",
        "  pass\n",
        "# 建立Cars類別的物件\n",
        "mazda = Cars()\n",
        "print(isinstance(mazda, Cars))\n",
        "print(isinstance(mazda, Motorcycle))"
      ],
      "metadata": {
        "colab": {
          "base_uri": "https://localhost:8080/"
        },
        "id": "bT6k7gohBFCq",
        "outputId": "e9785845-5236-416b-c4c0-35fa030cff08"
      },
      "execution_count": null,
      "outputs": [
        {
          "output_type": "stream",
          "name": "stdout",
          "text": [
            "True\n",
            "False\n"
          ]
        }
      ]
    },
    {
      "cell_type": "markdown",
      "source": [
        "### 屬性(Attribute)  \n",
        "建立物件(Object)後，才可進行屬性值(Attribute)的設定。   \n",
        "這種寫法當有很多屬性需進行設定時，會顯得較沒有效率，  \n",
        "所以會建議使用建構式(Constructor)來進行屬性值的設定。"
      ],
      "metadata": {
        "id": "tjLa4uRWJwLH"
      }
    },
    {
      "cell_type": "code",
      "source": [
        "class Cars:\n",
        "  pass\n",
        "mazda = Cars()  # 建立Cars類別的物件 \n",
        "mazda.color = \"blue\"  #顏色屬性 \n",
        "mazda.seat = 4  #座位屬性\n",
        "print(mazda.color)\n",
        "print(mazda.seat)"
      ],
      "metadata": {
        "colab": {
          "base_uri": "https://localhost:8080/"
        },
        "id": "pR7WK6kIJsuc",
        "outputId": "3572dad7-4b4c-457e-c36e-0e1df0f95c9b"
      },
      "execution_count": null,
      "outputs": [
        {
          "output_type": "stream",
          "name": "stdout",
          "text": [
            "blue\n",
            "4\n"
          ]
        }
      ]
    },
    {
      "cell_type": "markdown",
      "source": [
        "### 建構式(Constructor)  \n",
        "建立物件(Object)的同時，會自動執行的方法(Method)。  \n",
        "通常我們會在建構式(Constructor)中初始化物件(Object)的屬性值(Attribute)。  \n",
        "其中要先有一個 self 參數，之後再利用逗號區隔其他屬性。"
      ],
      "metadata": {
        "id": "d6nnPdgnJZDI"
      }
    },
    {
      "cell_type": "code",
      "source": [
        "class Cars:\n",
        "  # 建構式\n",
        "  def __init__(self, color, seat):\n",
        "    self.color = color  # 顏色屬性\n",
        "    self.seat = seat  # 座位屬性\n",
        "mazda = Cars(\"blue\", 4)\n",
        "\n",
        "print(mazda.color)\n",
        "print(mazda.seat)"
      ],
      "metadata": {
        "colab": {
          "base_uri": "https://localhost:8080/"
        },
        "id": "R3Or65HrKBkT",
        "outputId": "ba6a7beb-5641-4329-c777-5eeeeba8da4d"
      },
      "execution_count": null,
      "outputs": [
        {
          "output_type": "stream",
          "name": "stdout",
          "text": [
            "blue\n",
            "4\n"
          ]
        }
      ]
    },
    {
      "cell_type": "markdown",
      "source": [
        "### 方法(Method)  \n",
        "可以想像是物件(Object)的行為。  \n",
        "定義方法(Method)和函式(Function)的語法類似，都是 def 關鍵字開頭，接著自訂名稱。  \n",
        "但是方法(Method)和建構式(Constructor)一樣至少要有一個 self 參數。\n"
      ],
      "metadata": {
        "id": "4WZTQE5I9WZK"
      }
    },
    {
      "cell_type": "code",
      "source": [
        "class Cars:\n",
        "  # 建構式\n",
        "  def __init__(self, color, seat):\n",
        "    self.color = color  # 顏色屬性\n",
        "    self.seat = seat  # 座位屬性\n",
        "  # 方法(Method)\n",
        "  def looklike(self):\n",
        "    print(\"My car is %s and has %s seats.\" %(self.color, self.seat))\n",
        "    \n",
        "mazda = Cars(\"blue\", 4)\n",
        "mazda.looklike()"
      ],
      "metadata": {
        "colab": {
          "base_uri": "https://localhost:8080/"
        },
        "id": "XvJpLcJEKjEH",
        "outputId": "7a9f2239-8063-43c0-8c66-b35613f41c61"
      },
      "execution_count": null,
      "outputs": [
        {
          "output_type": "stream",
          "name": "stdout",
          "text": [
            "My car is blue and has 4 seats.\n"
          ]
        }
      ]
    },
    {
      "cell_type": "markdown",
      "source": [
        "# 模組(Module)"
      ],
      "metadata": {
        "id": "n2xrFY2h0axD"
      }
    },
    {
      "cell_type": "markdown",
      "source": [
        "在Python中，一個.py文件就稱之為一個模組（module）  \n",
        "當建立了一個原始碼檔案 xmath.py，就建立了一個模組，模組名稱則是檔名。"
      ],
      "metadata": {
        "id": "STek3N1hLp-R"
      }
    },
    {
      "cell_type": "code",
      "source": [
        "# xmath.py\n",
        "def max(a, b):\n",
        "  return a if a > b else b\n",
        "def min(a, b):\n",
        "  return a if a < b else b\n",
        " \n",
        "def sum(*numbers): # numbers 接受可變長度引數\n",
        "  total = 0\n",
        "  for number in numbers:\n",
        "    total += number\n",
        "  return total\n",
        " \n",
        "pi = 3.141592653589793\n",
        "e = 2.718281828459045"
      ],
      "metadata": {
        "id": "2NpzM0_bLiY9"
      },
      "execution_count": null,
      "outputs": []
    },
    {
      "cell_type": "markdown",
      "source": [
        "### 三種匯入模組的語句\n",
        "1. import ...\n",
        "2. import ... as ...\n",
        "3. from ... import ...\n"
      ],
      "metadata": {
        "id": "PVO2DPAmLxOC"
      }
    },
    {
      "cell_type": "markdown",
      "source": [
        "import 語句會在相同目錄下尋找模組(.py檔)，如果沒找到，則會試著在 sys.path 中遞迴地尋找，如果還是沒有才會引發 ImportError。  \n",
        "* sys.path 路徑集是由幾個來源所組成：  \n",
        "* 所執行Python模組的所在目錄\n",
        "* PYTHONPATH環境變數的內容\n",
        "* 標準程式庫搜尋目錄\n",
        "* .pth檔案中所列出的目錄  \n",
        "\n",
        "可以在 Python 環境下使用 sys.path.append(path) 添加相關的路徑，但在退出 Python 環境後自己添加的路徑就會自動消失。  \n",
        "設定環境變數 PYTHONPATH 時要注意「PYTHONPATH」為大寫。  \n",
        "可以藉由 import sys 來查看現在的 sys.path 列表：\n"
      ],
      "metadata": {
        "id": "5O1K5TbiL6cL"
      }
    },
    {
      "cell_type": "code",
      "source": [
        "import sys \n",
        "  \n",
        "# printing all directories \n",
        "sys.path"
      ],
      "metadata": {
        "colab": {
          "base_uri": "https://localhost:8080/"
        },
        "id": "MC9_c2JcMJS6",
        "outputId": "860c246b-7e3e-4b37-8710-24a9c9ab5974"
      },
      "execution_count": null,
      "outputs": [
        {
          "output_type": "execute_result",
          "data": {
            "text/plain": [
              "['',\n",
              " '/content',\n",
              " '/env/python',\n",
              " '/usr/lib/python37.zip',\n",
              " '/usr/lib/python3.7',\n",
              " '/usr/lib/python3.7/lib-dynload',\n",
              " '/usr/local/lib/python3.7/dist-packages',\n",
              " '/usr/lib/python3/dist-packages',\n",
              " '/usr/local/lib/python3.7/dist-packages/IPython/extensions',\n",
              " '/root/.ipython']"
            ]
          },
          "metadata": {},
          "execution_count": 48
        }
      ]
    },
    {
      "cell_type": "markdown",
      "source": [
        "# 套件(Package)"
      ],
      "metadata": {
        "id": "hLXQo-Qh0e8u"
      }
    },
    {
      "cell_type": "markdown",
      "source": [
        "pip是Python的套件管理工具，它集合下載、安裝、升級、管理、移除套件等功能。  \n",
        "檢視Python套件管理工具版本：  \n",
        "`pip –V`  \n",
        "`pip3 -V`"
      ],
      "metadata": {
        "id": "Eu2gXMoZMosj"
      }
    },
    {
      "cell_type": "markdown",
      "source": [
        "列出目前有安裝的套件  \n",
        "`pip list`  \n",
        "安裝科學計算套件 Numpy  \n",
        "`pip3 install numpy`  \n",
        "`pip3 install --porxy proxyserver numpy`"
      ],
      "metadata": {
        "id": "2Uaf_tHqMvfF"
      }
    },
    {
      "cell_type": "markdown",
      "source": [
        "更新科學計算套件 Numpy\n",
        "`pip3 install -U numpy`  \n",
        "\n",
        "安裝或更新特定套件\n",
        "* [套件名稱]==[版本號碼]\n",
        "* [套件名稱]>=[版本號碼]\n",
        "* [套件名稱]<=[版本號碼]  \n",
        "`pip3 install -U numpy==1.23.0`"
      ],
      "metadata": {
        "id": "rTEKNGrm3xuJ"
      }
    },
    {
      "cell_type": "markdown",
      "source": [
        "解除安裝科學計算套件Numpy  \n",
        "`pip3 uninstall numpy`  \n",
        "列出跟numpy有關的套件  \n",
        "`pip3 search numpy`  \n"
      ],
      "metadata": {
        "id": "QLbJEJsIM3wb"
      }
    },
    {
      "cell_type": "markdown",
      "source": [
        "將當前的套件列表存至 requirements.txt：  \n",
        "`pip freeze > requirements.txt`  \n",
        "將 requirements.txt 拷貝到新的環境後，執行下面指令  \n",
        "`pip install -r requirements.txt`\n"
      ],
      "metadata": {
        "id": "YAYkkFjB402f"
      }
    },
    {
      "cell_type": "markdown",
      "source": [
        "### Numpy"
      ],
      "metadata": {
        "id": "LsrV8twR0kiF"
      }
    },
    {
      "cell_type": "markdown",
      "source": [
        "NumPy 可以讓使用者在針對陣列或矩陣運算時提供較純量運算更快的效能。  \n",
        "例如向量的內積，如果要自己用 for loop來做會很麻煩：\n"
      ],
      "metadata": {
        "id": "ZqAslSArNNft"
      }
    },
    {
      "cell_type": "code",
      "source": [
        "import numpy as np\n",
        "import time\n",
        "VEC_LENGTH = 100000\n",
        "w = np.random.rand(VEC_LENGTH)\n",
        "x = np.random.rand(VEC_LENGTH)\n",
        "\n",
        "tic = time.time()\n",
        "c = 0\n",
        "for i in range(VEC_LENGTH):\n",
        "  c += w[i] * x[i]\n",
        "toc = time.time()\n",
        "print('For loop took: %s ms' % str(1000 * (toc - tic)))\n",
        "\n",
        "tic = time.time()\n",
        "c = np.dot(w, x)\n",
        "toc = time.time()\n",
        "print('Vectorized dot took: %s ms' % str(1000 * (toc - tic)))"
      ],
      "metadata": {
        "colab": {
          "base_uri": "https://localhost:8080/"
        },
        "id": "9XS4tM9TNP4C",
        "outputId": "f9db0804-aa59-43ba-f8de-14eb1662bce7"
      },
      "execution_count": null,
      "outputs": [
        {
          "output_type": "stream",
          "name": "stdout",
          "text": [
            "For loop took: 43.892860412597656 ms\n",
            "Vectorized dot took: 0.45371055603027344 ms\n"
          ]
        }
      ]
    },
    {
      "cell_type": "markdown",
      "source": [
        "##### 建立陣列：  \n",
        "ndarray 儲存的是相同資料型別的元素，int、float…  \n",
        "產生指定陣列，或是從原本的 list 跟 tuple 更改：  \n",
        "`np.array(list or tuple)`  \n",
        "\n"
      ],
      "metadata": {
        "id": "lbT8RFGONYPy"
      }
    },
    {
      "cell_type": "code",
      "source": [
        "import numpy as np\n",
        "\n",
        "# 建立一維陣列\n",
        "a = np.array([1,2,3])\n",
        "print(\"a =\", a)\n",
        "\n",
        "# 建立二維陣列\n",
        "b = np.array([[5,3,6,7,1], [1,2,3,4,5]])\n",
        "print(\"b =\", b)\n",
        "\n",
        "#將list換成numpy array:\n",
        "my_list = [3, 5, 10, 21, 42.195]\n",
        "my_ndarray = np.array(my_list)\n",
        "print(\"my_ndarray =\", my_ndarray)"
      ],
      "metadata": {
        "colab": {
          "base_uri": "https://localhost:8080/"
        },
        "id": "uA-ScXCmN3zR",
        "outputId": "40d0bf03-6b26-4736-d220-8f7e4be30c77"
      },
      "execution_count": null,
      "outputs": [
        {
          "output_type": "stream",
          "name": "stdout",
          "text": [
            "a = [1 2 3]\n",
            "b = [[5 3 6 7 1]\n",
            " [1 2 3 4 5]]\n",
            "my_ndarray = [ 3.     5.    10.    21.    42.195]\n"
          ]
        }
      ]
    },
    {
      "cell_type": "markdown",
      "source": [
        "\n",
        "產生指定數字範圍的陣列：  \n",
        "`np.arange(起始,結束)`  \n"
      ],
      "metadata": {
        "id": "rtX0iHXoNuWx"
      }
    },
    {
      "cell_type": "code",
      "source": [
        "import numpy as np\n",
        "\n",
        "#產生數字範圍\n",
        "arr1 = np.arange(10)\n",
        "print(arr1)\n",
        "\n",
        "arr2 = np.arange(3,11)\n",
        "print(arr2)"
      ],
      "metadata": {
        "colab": {
          "base_uri": "https://localhost:8080/"
        },
        "id": "sS5GBuzZN62W",
        "outputId": "ea3c7453-1051-4f21-c2e8-706f04e2b5f4"
      },
      "execution_count": null,
      "outputs": [
        {
          "output_type": "stream",
          "name": "stdout",
          "text": [
            "[0 1 2 3 4 5 6 7 8 9]\n",
            "[ 3  4  5  6  7  8  9 10]\n"
          ]
        }
      ]
    },
    {
      "cell_type": "markdown",
      "source": [
        "\n",
        "產生都是 0 或 1 或 N 的陣列：  \n",
        "`np.zeros(),`  \n",
        "`np.ones(),`  \n",
        "`np.full((shape), value)`"
      ],
      "metadata": {
        "id": "pHkYkLdwNvAb"
      }
    },
    {
      "cell_type": "code",
      "source": [
        "import numpy as np\n",
        "\n",
        "arr3 = np.zeros((3))\n",
        "print(arr3)\n",
        "\n",
        "arr4 = np.ones((2,2))             \n",
        "print(arr4)\n",
        "\n",
        "arr5 = np.full((3,3), 5)\n",
        "print(arr5)"
      ],
      "metadata": {
        "colab": {
          "base_uri": "https://localhost:8080/"
        },
        "id": "zp3e16IBN9ai",
        "outputId": "7b6b7f60-ee65-4cdb-b9ec-b1dc98299e02"
      },
      "execution_count": null,
      "outputs": [
        {
          "output_type": "stream",
          "name": "stdout",
          "text": [
            "[0. 0. 0.]\n",
            "[[1. 1.]\n",
            " [1. 1.]]\n",
            "[[5 5 5]\n",
            " [5 5 5]\n",
            " [5 5 5]]\n"
          ]
        }
      ]
    },
    {
      "cell_type": "markdown",
      "source": [
        "##### 取得陣列的資訊：  \n",
        "形狀：`.shape`  \n",
        "資料型別：`.dtype`  \n"
      ],
      "metadata": {
        "id": "OVp671a-OI8m"
      }
    },
    {
      "cell_type": "code",
      "source": [
        "import numpy as np\n",
        "\n",
        "arr3 = np.zeros((3))\n",
        "print(arr3)\n",
        "print(arr3.shape)\n",
        "print(arr3.dtype)\n",
        "\n",
        "arr5 = np.full((3,3), 5)\n",
        "print(arr5)\n",
        "print(arr5.shape)\n",
        "print(arr5.dtype)"
      ],
      "metadata": {
        "colab": {
          "base_uri": "https://localhost:8080/"
        },
        "id": "8mDy_jd9ON75",
        "outputId": "0bd01ced-efa1-4a3e-aa85-32ec97b8e57b"
      },
      "execution_count": null,
      "outputs": [
        {
          "output_type": "stream",
          "name": "stdout",
          "text": [
            "[0. 0. 0.]\n",
            "(3,)\n",
            "float64\n",
            "[[5 5 5]\n",
            " [5 5 5]\n",
            " [5 5 5]]\n",
            "(3, 3)\n",
            "int64\n"
          ]
        }
      ]
    },
    {
      "cell_type": "markdown",
      "source": [
        "##### 改變陣列的資訊：  \n",
        "改變形狀：`.reshape`  \n",
        "改變資料型別：`.astype`  \n"
      ],
      "metadata": {
        "id": "TYnqp4lxOVO6"
      }
    },
    {
      "cell_type": "code",
      "source": [
        "import numpy as np\n",
        "\n",
        "arr5 = np.full((3,3), 5)\n",
        "arr5_1 = arr5.reshape((1,9))\n",
        "arr5_2 = arr5.astype(np.float64)\n",
        "print(arr5_1.shape)\n",
        "print(arr5_2.dtype)"
      ],
      "metadata": {
        "colab": {
          "base_uri": "https://localhost:8080/"
        },
        "id": "IS3a_uJeOYUl",
        "outputId": "aa4ba372-bc79-4668-97c7-217354c36ca6"
      },
      "execution_count": null,
      "outputs": [
        {
          "output_type": "stream",
          "name": "stdout",
          "text": [
            "(1, 9)\n",
            "float64\n"
          ]
        }
      ]
    },
    {
      "cell_type": "markdown",
      "source": [
        "##### 基礎運算(加、減、乘、除、次方）"
      ],
      "metadata": {
        "id": "QTDKs2qiOcbB"
      }
    },
    {
      "cell_type": "code",
      "source": [
        "import numpy as np\n",
        "\n",
        "a = np.array([1,2,3,4])\n",
        "print(\"加 :\", a + 2)\n",
        "print(\"減 :\", a - 2)\n",
        "print(\"乘 :\", a * 2)\n",
        "print(\"除 :\", a / 2)\n",
        "print(\"次方 :\",a ** 2)"
      ],
      "metadata": {
        "colab": {
          "base_uri": "https://localhost:8080/"
        },
        "id": "R3LMAfdbOft7",
        "outputId": "2d05c589-4ad0-41c9-90b8-5a721efbc7bf"
      },
      "execution_count": null,
      "outputs": [
        {
          "output_type": "stream",
          "name": "stdout",
          "text": [
            "加 : [3 4 5 6]\n",
            "減 : [-1  0  1  2]\n",
            "乘 : [2 4 6 8]\n",
            "除 : [0.5 1.  1.5 2. ]\n",
            "次方 : [ 1  4  9 16]\n"
          ]
        }
      ]
    },
    {
      "cell_type": "markdown",
      "source": [
        "### Pandas"
      ],
      "metadata": {
        "id": "3Sc0Iogi0pDm"
      }
    },
    {
      "cell_type": "markdown",
      "source": [
        "Pandas，也有人稱它為 Python 界的 Excel 試算表，  \n",
        "pandas 在某個程度上填補了 Python 在資料分析及建模上的缺口，  \n",
        "它結合 NumPy（Numerical Python的簡稱）的特性，以及試算表和關連式資料庫（SQL）的資料操作能力。  \n",
        "* 安裝：大部分都會將 Pandas 另外命名成 pd 方便使用：  \n",
        "`pip install pandas`  \n",
        "`import pandas as pd`"
      ],
      "metadata": {
        "id": "PE-5N-n_0Ifq"
      }
    },
    {
      "cell_type": "markdown",
      "source": [
        "Pandas 提供以下三種資料結構供使用：  \n",
        "* Series：用來處理時間序列相關的資料(如感測器資料等)，主要為建立索引的一維陣列。  \n",
        "* DataFrame：用來處理結構化(Table like)的資料，有列索引與欄標籤的二維資料集，例如關聯式資料庫、CSV 等等。  \n",
        "* Panel：用來處理有資料及索引、列索引與欄標籤的三維資料集(較少使用)。  "
      ],
      "metadata": {
        "id": "_bUsBt70Pab7"
      }
    },
    {
      "cell_type": "markdown",
      "source": [
        "#### Series(序列)：  \n",
        "是一個像一維陣列資料所組成的物件。  \n",
        "我們可以利用 python 的串列(list) 建立一個序列(Series)。 \n",
        "* 輸出結果第一行為索引，第二行為 Series 資料。  \n",
        "* 輸出的每一個 row 由 index 標籤(label)及其對應的值所組成。  \n",
        "* 我們可以透過 .index 與 .values，分別取得 Series 的 index 陣列與值。 "
      ],
      "metadata": {
        "id": "cDxyNnIhPffX"
      }
    },
    {
      "cell_type": "code",
      "execution_count": null,
      "metadata": {
        "colab": {
          "base_uri": "https://localhost:8080/"
        },
        "id": "nUUo2TuCzs2J",
        "outputId": "16a87345-b4c5-4407-8c6c-b7baf5f89ac6"
      },
      "outputs": [
        {
          "output_type": "stream",
          "name": "stdout",
          "text": [
            "RangeIndex(start=0, stop=4, step=1)\n",
            "[1 2 3 4]\n"
          ]
        }
      ],
      "source": [
        "import pandas as pd\n",
        "\n",
        "s1 = pd.Series([1, 2, 3, 4])\n",
        "print(s1.index)\n",
        "print(s1.values)"
      ]
    },
    {
      "cell_type": "markdown",
      "source": [
        "* 也可以透過字典的方式建立Series。\n"
      ],
      "metadata": {
        "id": "WdDO7TcHPx4l"
      }
    },
    {
      "cell_type": "code",
      "source": [
        "import pandas as pd\n",
        "\n",
        "zip_codes = {\"100\":\"中正區\", \"103\":\"大同區\", \"104\":\"中山區\", \"105\":\"松山區\"}\n",
        "s2 = pd.Series(zip_codes)\n",
        "print(s2)"
      ],
      "metadata": {
        "colab": {
          "base_uri": "https://localhost:8080/"
        },
        "id": "5hbpPB8EP1Tq",
        "outputId": "c7c59b7c-a7d1-40ce-d39e-1e77c4ccb1ee"
      },
      "execution_count": null,
      "outputs": [
        {
          "output_type": "stream",
          "name": "stdout",
          "text": [
            "100    中正區\n",
            "103    大同區\n",
            "104    中山區\n",
            "105    松山區\n",
            "dtype: object\n"
          ]
        }
      ]
    },
    {
      "cell_type": "markdown",
      "source": [
        "#### DataFrame(資料框)：  \n",
        "是一個二維的資料結構，類似 excel 中的儲存表格。每個欄位可以是不同的資料型態，例如 int、string、bool 等。  \n",
        "也可以把 DataFrame 想像成是裝了很多 Series 物件的字典，而且每個 Series 物件使用相同的index。  \n",
        "建立DataFrame的方法有很多種( list、字典dict，或者是使用前面提到的Numpy )。  \n",
        "DataFrame在更多的使用情境上，常常是先讀取外部的檔案後，再透過 Pandas 分析處理。"
      ],
      "metadata": {
        "id": "qBqvGk9RP-jE"
      }
    },
    {
      "cell_type": "code",
      "source": [
        "import pandas as pd\n",
        "\n",
        "taiwan ={'City':['台北市','新北市','桃園市'],\n",
        "         'Pop':[2631083, 4024539, 2255753],\n",
        "         'Area':[271.7997, 2052.5667, 1220.9540]}\n",
        "D1 = pd.DataFrame(taiwan)\n",
        "print(D1)"
      ],
      "metadata": {
        "colab": {
          "base_uri": "https://localhost:8080/"
        },
        "id": "rqlJ-LqAQEz6",
        "outputId": "ce2c48e8-913e-425e-bc95-c2ea75a5b631"
      },
      "execution_count": null,
      "outputs": [
        {
          "output_type": "stream",
          "name": "stdout",
          "text": [
            "  City      Pop       Area\n",
            "0  台北市  2631083   271.7997\n",
            "1  新北市  4024539  2052.5667\n",
            "2  桃園市  2255753  1220.9540\n"
          ]
        }
      ]
    },
    {
      "cell_type": "markdown",
      "source": [
        "DataFrame在更多的使用情境上，常常是先讀取外部的檔案後，再透過 Pandas 分析處理。  \n",
        "Pandas 提供了簡單的語法載入外部資料 (包括csv、excel、sql、json、html等)：`df = pd.read_csv(\"檔案名稱.csv\")`\n"
      ],
      "metadata": {
        "id": "NXYGdbzjPm23"
      }
    },
    {
      "cell_type": "markdown",
      "source": [
        "調整欄位順序：如果將欄位以序列方法指定的話，DataFrame就會按照指定的順序排好。"
      ],
      "metadata": {
        "id": "ZPQDbbDdQh_J"
      }
    },
    {
      "cell_type": "code",
      "source": [
        "import pandas as pd\n",
        "\n",
        "taiwan ={'City':['台北市','新北市','桃園市'],\n",
        "         'Pop':[2631083, 4024539, 2255753],\n",
        "         'Area':[271.7997, 2052.5667, 1220.9540]}\n",
        "D2 = pd.DataFrame(taiwan, columns=['Pop','City','Area'])\n",
        "print(D2)"
      ],
      "metadata": {
        "colab": {
          "base_uri": "https://localhost:8080/"
        },
        "id": "k-9BwuAlQQUi",
        "outputId": "0cfc6e71-1207-4e2f-baeb-71dcdbbaba17"
      },
      "execution_count": null,
      "outputs": [
        {
          "output_type": "stream",
          "name": "stdout",
          "text": [
            "       Pop City       Area\n",
            "0  2631083  台北市   271.7997\n",
            "1  4024539  新北市  2052.5667\n",
            "2  2255753  桃園市  1220.9540\n"
          ]
        }
      ]
    },
    {
      "cell_type": "markdown",
      "source": [
        "可以快速的語法將 DataFrame 儲存成想要的檔案：`df = pd.to_csv(\"儲存檔案名稱.csv\")`"
      ],
      "metadata": {
        "id": "c9XFMKFJQxy0"
      }
    },
    {
      "cell_type": "markdown",
      "source": [
        "# 圖片處理範例"
      ],
      "metadata": {
        "id": "W1RVbvj8XRtB"
      }
    },
    {
      "cell_type": "code",
      "source": [
        "import matplotlib.pyplot as plt\n",
        "import numpy as np\n",
        "\n",
        "image1 = plt.imread('example.jpg')   # 讀取和程式碼處於同一目錄下的 example.jpg\n",
        "# 此時 image1 就已經是一個 np.array 了，可以對它進行任意處理 lena.shape #(512, 512, 3)\n",
        "\n",
        "arr5 = np.full((1,3), 255)       # arr5 = [255, 255, 255]\n",
        "image2 = arr5 - image1        # 以 255 減去 image1 中的每個 pixel 值(0~255)\n",
        "\n",
        "fig = plt.figure(figsize = (10,5))  # 建立圖表\n",
        "\n",
        "plt.subplot(121)             # 在1x2的第一個位置上：\n",
        "#plt.axis('off')\n",
        "plt.imshow(image1)            # 顯示image1\n",
        "\n",
        "plt.subplot(122)             # 在1x2的第二個位置上：\n",
        "#plt.axis('off')\n",
        "plt.imshow(image2)            # 顯示image2\n",
        "\n",
        "plt.show()                # 顯示圖表\n",
        "\n",
        "#plt.savefig('result.png')        # 儲存圖表"
      ],
      "metadata": {
        "colab": {
          "base_uri": "https://localhost:8080/",
          "height": 238
        },
        "id": "SLtgBXbsXUd1",
        "outputId": "67e16e2f-cd07-4a5a-dab0-34a63e476ba4"
      },
      "execution_count": null,
      "outputs": [
        {
          "output_type": "display_data",
          "data": {
            "text/plain": [
              "<Figure size 720x360 with 2 Axes>"
            ],
            "image/png": "[encoded data removed]"
          },
          "metadata": {
            "needs_background": "light"
          }
        },
        {
          "output_type": "display_data",
          "data": {
            "text/plain": [
              "<Figure size 432x288 with 0 Axes>"
            ]
          },
          "metadata": {}
        }
      ]
    }
  ]
}